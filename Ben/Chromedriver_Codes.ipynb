{
 "cells": [
  {
   "cell_type": "code",
   "execution_count": 4,
   "id": "a7c5a175",
   "metadata": {},
   "outputs": [],
   "source": [
    "import pandas as pd\n",
    "import numpy as np\n",
    "\n",
    "import plotly.express as px\n",
    "from plotly.offline import *"
   ]
  },
  {
   "cell_type": "code",
   "execution_count": 5,
   "id": "900dba6d",
   "metadata": {},
   "outputs": [],
   "source": [
    "repo10 = ('C:/Users/benno/OneDrive/Python/NYCDSA/Capstone/Data/Graduation Rate/acgr-sch-sy2010-11.csv')\n",
    "repo11 = ('C:/Users/benno/OneDrive/Python/NYCDSA/Capstone/Data/Graduation Rate/acgr-sch-sy2011-12.csv')\n",
    "repo12 = ('C:/Users/benno/OneDrive/Python/NYCDSA/Capstone/Data/Graduation Rate/acgr-sch-sy2012-13.csv')\n",
    "repo13 = ('C:/Users/benno/OneDrive/Python/NYCDSA/Capstone/Data/Graduation Rate/acgr-sch-sy2013-14.csv')\n",
    "repo14 = ('C:/Users/benno/OneDrive/Python/NYCDSA/Capstone/Data/Graduation Rate/acgr-release2-sch-sy2014-15.csv')\n",
    "repo15 = ('C:/Users/benno/OneDrive/Python/NYCDSA/Capstone/Data/Graduation Rate/acgr-sch-sy2015-16.csv')\n",
    "repo16 = ('C:/Users/benno/OneDrive/Python/NYCDSA/Capstone/Data/Graduation Rate/acgr-sch-sy2016-17.csv')\n",
    "repo17 = ('C:/Users/benno/OneDrive/Python/NYCDSA/Capstone/Data/Graduation Rate/acgr-sch-sy2017-18.csv')\n",
    "repo18 = ('C:/Users/benno/OneDrive/Python/NYCDSA/Capstone/Data/Graduation Rate/acgr-sch-sy2018-19-wide.csv')\n",
    "\n",
    "gradrates10 = pd.read_csv(repo10, skipinitialspace=True)\n",
    "gradrates11 = pd.read_csv(repo11, skipinitialspace=True)\n",
    "gradrates12 = pd.read_csv(repo12, skipinitialspace=True)\n",
    "gradrates13 = pd.read_csv(repo13, skipinitialspace=True)\n",
    "gradrates14 = pd.read_csv(repo14, skipinitialspace=True)\n",
    "gradrates15 = pd.read_csv(repo15, skipinitialspace=True)\n",
    "gradrates16 = pd.read_csv(repo16, skipinitialspace=True)\n",
    "gradrates17 = pd.read_csv(repo17, skipinitialspace=True)\n",
    "gradrates18 = pd.read_csv(repo18, skipinitialspace=True)"
   ]
  },
  {
   "cell_type": "code",
   "execution_count": 6,
   "id": "42dc36e1",
   "metadata": {},
   "outputs": [],
   "source": [
    "\n",
    "def StandardizeIDcolumn(df, column):\n",
    "\n",
    "    df[str(column)] = df[str(column)].astype(str)\n",
    "\n",
    "    ID_lst = []\n",
    "\n",
    "    for i in df[str(column)]:\n",
    "        if len(i) < 12:\n",
    "            k = \"\".join(['0', i])\n",
    "        else:\n",
    "            k = i\n",
    "\n",
    "        ID_lst.append(k)\n",
    "\n",
    "    return ID_lst\n",
    "\n",
    "gradrates10['NCESSCH'] = StandardizeIDcolumn(gradrates10, 'NCESSCH')\n",
    "gradrates11['NCESSCH'] = StandardizeIDcolumn(gradrates11, 'NCESSCH')\n",
    "gradrates12['NCESSCH'] = StandardizeIDcolumn(gradrates12, 'NCESSCH')\n",
    "gradrates13['NCESSCH'] = StandardizeIDcolumn(gradrates13, 'NCESSCH')\n",
    "gradrates14['NCESSCH'] = StandardizeIDcolumn(gradrates14, 'NCESSCH')\n",
    "gradrates15['NCESSCH'] = StandardizeIDcolumn(gradrates15, 'NCESSCH')\n",
    "gradrates16['NCESSCH'] = StandardizeIDcolumn(gradrates16, 'NCESSCH')\n",
    "gradrates17['NCESSCH'] = StandardizeIDcolumn(gradrates17, 'NCESSCH')\n",
    "gradrates18['NCESSCH'] = StandardizeIDcolumn(gradrates18, 'NCESSCH')"
   ]
  },
  {
   "cell_type": "code",
   "execution_count": 7,
   "id": "6b77fd4c",
   "metadata": {},
   "outputs": [],
   "source": [
    "from selenium import webdriver\n",
    "import os\n",
    "\n",
    "def ChromeDriverPath():\n",
    "    chromedriver_path = ('C:/chromedriver.exe')\n",
    "    driver = webdriver.Chrome(executable_path=chromedriver_path)\n",
    "    return driver\n"
   ]
  },
  {
   "cell_type": "code",
   "execution_count": 8,
   "id": "a2264597",
   "metadata": {},
   "outputs": [],
   "source": [
    "driver = ChromeDriverPath()"
   ]
  },
  {
   "cell_type": "code",
   "execution_count": 9,
   "id": "3f2ba7f7",
   "metadata": {},
   "outputs": [],
   "source": [
    "from selenium.common.exceptions import NoSuchElementException\n",
    "\n",
    "def FINDTHISISH(df, column):\n",
    "    \n",
    "    newcol_lst = []\n",
    "\n",
    "    for i in df[str(column)]:\n",
    "        url = 'https://nces.ed.gov/ccd/schoolsearch/school_list.asp?Search=1&InstName=&SchoolID='+i+'&Address=&City=&State=&Zip=&Miles=&County=&PhoneAreaCode=&Phone=&DistrictName=&DistrictID=&SchoolType=1&SchoolType=2&SchoolType=3&SchoolType=4&SpecificSchlTypes=all&IncGrade=-1&LoGrade=-1&HiGrade=-1'\n",
    "        driver.get(url)\n",
    "\n",
    "        try:\n",
    "\n",
    "            div1 = driver.find_element_by_xpath('/html/body/div[1]/div[3]/table[3]/tbody/tr[2]/td/table/tbody/tr/td[2]/font/font')\n",
    "\n",
    "            newcol_lst.append(div1.text)\n",
    "            \n",
    "        except NoSuchElementException:\n",
    "\n",
    "            zippy = np.nan\n",
    "\n",
    "            newcol_lst.append(zippy)\n",
    "\n",
    "            pass\n",
    "    \n",
    "    return newcol_lst"
   ]
  },
  {
   "cell_type": "code",
   "execution_count": null,
   "id": "40908b26",
   "metadata": {},
   "outputs": [],
   "source": [
    "gradrates10['address'] = FINDTHISISH(gradrates10, 'NCESSCH')"
   ]
  },
  {
   "cell_type": "code",
   "execution_count": null,
   "id": "848fee94",
   "metadata": {},
   "outputs": [],
   "source": [
    "gradrates11['address'] = FINDTHISISH(gradrates11, 'NCESSCH')"
   ]
  },
  {
   "cell_type": "code",
   "execution_count": null,
   "id": "40c82bb4",
   "metadata": {},
   "outputs": [],
   "source": [
    "gradrates12['address'] = FINDTHISISH(gradrates12, 'NCESSCH')"
   ]
  },
  {
   "cell_type": "code",
   "execution_count": null,
   "id": "0cc1e2e7",
   "metadata": {},
   "outputs": [],
   "source": [
    "gradrates13['address'] = FINDTHISISH(gradrates13, 'NCESSCH')"
   ]
  },
  {
   "cell_type": "code",
   "execution_count": null,
   "id": "475e861a",
   "metadata": {},
   "outputs": [],
   "source": [
    "gradrates14['address'] = FINDTHISISH(gradrates14, 'NCESSCH')"
   ]
  },
  {
   "cell_type": "code",
   "execution_count": null,
   "id": "171ddc21",
   "metadata": {},
   "outputs": [],
   "source": [
    "gradrates15['address'] = FINDTHISISH(gradrates15, 'NCESSCH')"
   ]
  },
  {
   "cell_type": "code",
   "execution_count": null,
   "id": "059f2e02",
   "metadata": {},
   "outputs": [],
   "source": [
    "gradrates16['address'] = FINDTHISISH(gradrates16, 'NCESSCH')"
   ]
  },
  {
   "cell_type": "code",
   "execution_count": null,
   "id": "03c6810d",
   "metadata": {},
   "outputs": [],
   "source": [
    "gradrates17['address'] = FINDTHISISH(gradrates17, 'NCESSCH')"
   ]
  },
  {
   "cell_type": "code",
   "execution_count": null,
   "id": "47546462",
   "metadata": {},
   "outputs": [],
   "source": [
    "gradrates18['address'] = FINDTHISISH(gradrates18, 'NCESSCH')"
   ]
  },
  {
   "cell_type": "code",
   "execution_count": null,
   "id": "d3be0140",
   "metadata": {},
   "outputs": [],
   "source": [
    "gradrates19['address'] = FINDTHISISH(gradrates19, 'NCESSCH')"
   ]
  },
  {
   "cell_type": "code",
   "execution_count": null,
   "id": "d82bcdf4",
   "metadata": {},
   "outputs": [],
   "source": [
    "repo10 = ('C:/Users/benno/OneDrive/Python/NYCDSA/Capstone/Data/Graduation Rate/acgr-sch-sy2010-11_addresses.csv')\n",
    "repo11 = ('C:/Users/benno/OneDrive/Python/NYCDSA/Capstone/Data/Graduation Rate/acgr-sch-sy2011-12_addresses.csv')\n",
    "repo12 = ('C:/Users/benno/OneDrive/Python/NYCDSA/Capstone/Data/Graduation Rate/acgr-sch-sy2012-13_addresses.csv')\n",
    "repo13 = ('C:/Users/benno/OneDrive/Python/NYCDSA/Capstone/Data/Graduation Rate/acgr-sch-sy2013-14_addresses.csv')\n",
    "repo14 = ('C:/Users/benno/OneDrive/Python/NYCDSA/Capstone/Data/Graduation Rate/acgr-release2-sch-sy2014-15_addresses.csv')\n",
    "repo15 = ('C:/Users/benno/OneDrive/Python/NYCDSA/Capstone/Data/Graduation Rate/acgr-sch-sy2015-16_addresses.csv')\n",
    "repo16 = ('C:/Users/benno/OneDrive/Python/NYCDSA/Capstone/Data/Graduation Rate/acgr-sch-sy2016-17_addresses.csv')\n",
    "repo17 = ('C:/Users/benno/OneDrive/Python/NYCDSA/Capstone/Data/Graduation Rate/acgr-sch-sy2017-18_addresses.csv')\n",
    "repo18 = ('C:/Users/benno/OneDrive/Python/NYCDSA/Capstone/Data/Graduation Rate/acgr-sch-sy2018-19-wide_addresses.csv')\n",
    "\n",
    "\n",
    "gradrates10.to_csv(repo10, index=False)\n",
    "gradrates11.to_csv(repo11, index=False)\n",
    "gradrates12.to_csv(repo12, index=False)\n",
    "gradrates13.to_csv(repo13, index=False)\n",
    "gradrates14.to_csv(repo14, index=False)\n",
    "gradrates15.to_csv(repo15, index=False)\n",
    "gradrates16.to_csv(repo16, index=False)\n",
    "gradrates17.to_csv(repo17, index=False)\n",
    "gradrates18.to_csv(repo18, index=False)"
   ]
  }
 ],
 "metadata": {
  "kernelspec": {
   "display_name": "Python 3",
   "language": "python",
   "name": "python3"
  },
  "language_info": {
   "codemirror_mode": {
    "name": "ipython",
    "version": 3
   },
   "file_extension": ".py",
   "mimetype": "text/x-python",
   "name": "python",
   "nbconvert_exporter": "python",
   "pygments_lexer": "ipython3",
   "version": "3.8.9"
  }
 },
 "nbformat": 4,
 "nbformat_minor": 5
}
