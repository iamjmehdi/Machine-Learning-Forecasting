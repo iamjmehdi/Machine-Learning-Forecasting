{
 "cells": [
  {
   "cell_type": "code",
   "execution_count": 7,
   "metadata": {},
   "outputs": [],
   "source": [
    "import numpy as np\n",
    "import pandas as pd\n",
    "%matplotlib inline \n",
    "import seaborn as sns\n",
    "import matplotlib.pyplot as plt"
   ]
  },
  {
   "cell_type": "code",
   "execution_count": 103,
   "metadata": {
    "scrolled": false
   },
   "outputs": [
    {
     "name": "stderr",
     "output_type": "stream",
     "text": [
      "/Applications/anaconda3/lib/python3.8/site-packages/IPython/core/interactiveshell.py:3146: DtypeWarning: Columns (2,3) have mixed types.Specify dtype option on import or set low_memory=False.\n",
      "  has_raised = await self.run_ast_nodes(code_ast.body, cell_name,\n"
     ]
    }
   ],
   "source": [
    "covid = pd.read_csv(\"COVID.csv\")"
   ]
  },
  {
   "cell_type": "code",
   "execution_count": 9,
   "metadata": {},
   "outputs": [
    {
     "data": {
      "text/plain": [
       "(174096, 53)"
      ]
     },
     "execution_count": 9,
     "metadata": {},
     "output_type": "execute_result"
    }
   ],
   "source": [
    "covid.shape"
   ]
  },
  {
   "cell_type": "code",
   "execution_count": 104,
   "metadata": {},
   "outputs": [
    {
     "data": {
      "text/plain": [
       "0         AUT\n",
       "1         AUT\n",
       "2         AUT\n",
       "3         AUT\n",
       "4         AUT\n",
       "         ... \n",
       "174091    USA\n",
       "174092    USA\n",
       "174093    USA\n",
       "174094    USA\n",
       "174095    VNM\n",
       "Name: alpha_3_code, Length: 174096, dtype: object"
      ]
     },
     "execution_count": 104,
     "metadata": {},
     "output_type": "execute_result"
    }
   ],
   "source": [
    "covid['alpha_3_code']"
   ]
  },
  {
   "cell_type": "code",
   "execution_count": 105,
   "metadata": {},
   "outputs": [],
   "source": [
    "covid = covid.loc[covid['alpha_3_code'] == 'USA']"
   ]
  },
  {
   "cell_type": "code",
   "execution_count": 12,
   "metadata": {
    "scrolled": false
   },
   "outputs": [
    {
     "data": {
      "text/plain": [
       "(29016, 53)"
      ]
     },
     "execution_count": 12,
     "metadata": {},
     "output_type": "execute_result"
    }
   ],
   "source": [
    "covid.shape"
   ]
  },
  {
   "cell_type": "code",
   "execution_count": 13,
   "metadata": {
    "scrolled": true
   },
   "outputs": [
    {
     "data": {
      "text/plain": [
       "country_name                                   0\n",
       "alpha_3_code                                   0\n",
       "region_name                                  558\n",
       "region_code                                  558\n",
       "date                                           0\n",
       "school_closing                               421\n",
       "school_closing_flag                         4571\n",
       "school_closing_notes                       26879\n",
       "workplace_closing                            436\n",
       "workplace_closing_flag                      4121\n",
       "workplace_closing_notes                    26980\n",
       "cancel_public_events                         413\n",
       "cancel_public_events_flag                   4128\n",
       "cancel_public_events_notes                 27393\n",
       "restrictions_on_gatherings                   392\n",
       "restrictions_on_gatherings_flag             8805\n",
       "restrictions_on_gatherings_notes           27323\n",
       "close_public_transit                         455\n",
       "close_public_transit_flag                  18049\n",
       "close_public_transit_notes                 27999\n",
       "stay_at_home_requirements                    421\n",
       "stay_at_home_requirements_flag              7476\n",
       "stay_at_home_requirements_notes            27620\n",
       "restrictions_on_internal_movement            459\n",
       "restrictions_on_internal_movement_flag      4324\n",
       "restrictions_on_internal_movement_notes    27755\n",
       "international_travel_controls                454\n",
       "international_travel_controls_notes        27326\n",
       "income_support                               580\n",
       "income_support_flag                         6741\n",
       "income_support_notes                       27929\n",
       "debt_contract_relief                         506\n",
       "debt_contract_relief_notes                 27949\n",
       "fiscal_measures                            16862\n",
       "fiscal_measures_notes                      28791\n",
       "international_support                      16989\n",
       "international_support_notes                28921\n",
       "public_information_campaigns                 390\n",
       "public_information_campaigns_flag           2725\n",
       "public_information_campaigns_notes         27738\n",
       "testing_policy                               392\n",
       "testing_policy_notes                       27507\n",
       "contact_tracing                              496\n",
       "contact_tracing_notes                      27778\n",
       "emergency_healthcare_investment            17136\n",
       "emergency_healthcare_investment_notes      28872\n",
       "vaccine_investment                         16915\n",
       "vaccine_investment_notes                   28911\n",
       "misc_wildcard                              29016\n",
       "misc_wildcard_notes                        28398\n",
       "confirmed_cases                             1144\n",
       "deaths                                      1144\n",
       "stringency_index                             454\n",
       "dtype: int64"
      ]
     },
     "execution_count": 13,
     "metadata": {},
     "output_type": "execute_result"
    }
   ],
   "source": [
    "covid.isnull().sum()"
   ]
  },
  {
   "cell_type": "code",
   "execution_count": 106,
   "metadata": {
    "scrolled": true
   },
   "outputs": [
    {
     "data": {
      "text/html": [
       "<div>\n",
       "<style scoped>\n",
       "    .dataframe tbody tr th:only-of-type {\n",
       "        vertical-align: middle;\n",
       "    }\n",
       "\n",
       "    .dataframe tbody tr th {\n",
       "        vertical-align: top;\n",
       "    }\n",
       "\n",
       "    .dataframe thead th {\n",
       "        text-align: right;\n",
       "    }\n",
       "</style>\n",
       "<table border=\"1\" class=\"dataframe\">\n",
       "  <thead>\n",
       "    <tr style=\"text-align: right;\">\n",
       "      <th></th>\n",
       "      <th>country_name</th>\n",
       "      <th>alpha_3_code</th>\n",
       "      <th>region_name</th>\n",
       "      <th>region_code</th>\n",
       "      <th>date</th>\n",
       "      <th>school_closing</th>\n",
       "      <th>school_closing_flag</th>\n",
       "      <th>school_closing_notes</th>\n",
       "      <th>workplace_closing</th>\n",
       "      <th>workplace_closing_flag</th>\n",
       "      <th>...</th>\n",
       "      <th>contact_tracing_notes</th>\n",
       "      <th>emergency_healthcare_investment</th>\n",
       "      <th>emergency_healthcare_investment_notes</th>\n",
       "      <th>vaccine_investment</th>\n",
       "      <th>vaccine_investment_notes</th>\n",
       "      <th>misc_wildcard</th>\n",
       "      <th>misc_wildcard_notes</th>\n",
       "      <th>confirmed_cases</th>\n",
       "      <th>deaths</th>\n",
       "      <th>stringency_index</th>\n",
       "    </tr>\n",
       "  </thead>\n",
       "  <tbody>\n",
       "    <tr>\n",
       "      <th>8</th>\n",
       "      <td>United States</td>\n",
       "      <td>USA</td>\n",
       "      <td>Hawaii</td>\n",
       "      <td>US_HI</td>\n",
       "      <td>2021-06-26</td>\n",
       "      <td>NaN</td>\n",
       "      <td>NaN</td>\n",
       "      <td>NaN</td>\n",
       "      <td>NaN</td>\n",
       "      <td>NaN</td>\n",
       "      <td>...</td>\n",
       "      <td>NaN</td>\n",
       "      <td>0.0</td>\n",
       "      <td>NaN</td>\n",
       "      <td>0.0</td>\n",
       "      <td>NaN</td>\n",
       "      <td>NaN</td>\n",
       "      <td>NaN</td>\n",
       "      <td>37596.0</td>\n",
       "      <td>516.0</td>\n",
       "      <td>NaN</td>\n",
       "    </tr>\n",
       "    <tr>\n",
       "      <th>9</th>\n",
       "      <td>United States</td>\n",
       "      <td>USA</td>\n",
       "      <td>Hawaii</td>\n",
       "      <td>US_HI</td>\n",
       "      <td>2021-06-27</td>\n",
       "      <td>NaN</td>\n",
       "      <td>NaN</td>\n",
       "      <td>NaN</td>\n",
       "      <td>NaN</td>\n",
       "      <td>NaN</td>\n",
       "      <td>...</td>\n",
       "      <td>NaN</td>\n",
       "      <td>0.0</td>\n",
       "      <td>NaN</td>\n",
       "      <td>0.0</td>\n",
       "      <td>NaN</td>\n",
       "      <td>NaN</td>\n",
       "      <td>NaN</td>\n",
       "      <td>37647.0</td>\n",
       "      <td>516.0</td>\n",
       "      <td>NaN</td>\n",
       "    </tr>\n",
       "    <tr>\n",
       "      <th>10</th>\n",
       "      <td>United States</td>\n",
       "      <td>USA</td>\n",
       "      <td>Hawaii</td>\n",
       "      <td>US_HI</td>\n",
       "      <td>2021-06-28</td>\n",
       "      <td>NaN</td>\n",
       "      <td>NaN</td>\n",
       "      <td>NaN</td>\n",
       "      <td>NaN</td>\n",
       "      <td>NaN</td>\n",
       "      <td>...</td>\n",
       "      <td>NaN</td>\n",
       "      <td>0.0</td>\n",
       "      <td>NaN</td>\n",
       "      <td>0.0</td>\n",
       "      <td>NaN</td>\n",
       "      <td>NaN</td>\n",
       "      <td>NaN</td>\n",
       "      <td>37669.0</td>\n",
       "      <td>516.0</td>\n",
       "      <td>NaN</td>\n",
       "    </tr>\n",
       "    <tr>\n",
       "      <th>11</th>\n",
       "      <td>United States</td>\n",
       "      <td>USA</td>\n",
       "      <td>Hawaii</td>\n",
       "      <td>US_HI</td>\n",
       "      <td>2021-06-29</td>\n",
       "      <td>NaN</td>\n",
       "      <td>NaN</td>\n",
       "      <td>NaN</td>\n",
       "      <td>NaN</td>\n",
       "      <td>NaN</td>\n",
       "      <td>...</td>\n",
       "      <td>NaN</td>\n",
       "      <td>0.0</td>\n",
       "      <td>NaN</td>\n",
       "      <td>0.0</td>\n",
       "      <td>NaN</td>\n",
       "      <td>NaN</td>\n",
       "      <td>NaN</td>\n",
       "      <td>37702.0</td>\n",
       "      <td>516.0</td>\n",
       "      <td>NaN</td>\n",
       "    </tr>\n",
       "    <tr>\n",
       "      <th>12</th>\n",
       "      <td>United States</td>\n",
       "      <td>USA</td>\n",
       "      <td>Hawaii</td>\n",
       "      <td>US_HI</td>\n",
       "      <td>2021-06-30</td>\n",
       "      <td>NaN</td>\n",
       "      <td>NaN</td>\n",
       "      <td>NaN</td>\n",
       "      <td>NaN</td>\n",
       "      <td>NaN</td>\n",
       "      <td>...</td>\n",
       "      <td>NaN</td>\n",
       "      <td>0.0</td>\n",
       "      <td>NaN</td>\n",
       "      <td>0.0</td>\n",
       "      <td>NaN</td>\n",
       "      <td>NaN</td>\n",
       "      <td>NaN</td>\n",
       "      <td>37758.0</td>\n",
       "      <td>517.0</td>\n",
       "      <td>NaN</td>\n",
       "    </tr>\n",
       "    <tr>\n",
       "      <th>...</th>\n",
       "      <td>...</td>\n",
       "      <td>...</td>\n",
       "      <td>...</td>\n",
       "      <td>...</td>\n",
       "      <td>...</td>\n",
       "      <td>...</td>\n",
       "      <td>...</td>\n",
       "      <td>...</td>\n",
       "      <td>...</td>\n",
       "      <td>...</td>\n",
       "      <td>...</td>\n",
       "      <td>...</td>\n",
       "      <td>...</td>\n",
       "      <td>...</td>\n",
       "      <td>...</td>\n",
       "      <td>...</td>\n",
       "      <td>...</td>\n",
       "      <td>...</td>\n",
       "      <td>...</td>\n",
       "      <td>...</td>\n",
       "      <td>...</td>\n",
       "    </tr>\n",
       "    <tr>\n",
       "      <th>174090</th>\n",
       "      <td>United States</td>\n",
       "      <td>USA</td>\n",
       "      <td>Kentucky</td>\n",
       "      <td>US_KY</td>\n",
       "      <td>2020-03-15</td>\n",
       "      <td>1.0</td>\n",
       "      <td>1.0</td>\n",
       "      <td>NaN</td>\n",
       "      <td>2.0</td>\n",
       "      <td>0.0</td>\n",
       "      <td>...</td>\n",
       "      <td>NaN</td>\n",
       "      <td>0.0</td>\n",
       "      <td>NaN</td>\n",
       "      <td>0.0</td>\n",
       "      <td>NaN</td>\n",
       "      <td>NaN</td>\n",
       "      <td>NaN</td>\n",
       "      <td>18.0</td>\n",
       "      <td>0.0</td>\n",
       "      <td>42.59</td>\n",
       "    </tr>\n",
       "    <tr>\n",
       "      <th>174091</th>\n",
       "      <td>United States</td>\n",
       "      <td>USA</td>\n",
       "      <td>Nebraska</td>\n",
       "      <td>US_NE</td>\n",
       "      <td>2020-03-16</td>\n",
       "      <td>2.0</td>\n",
       "      <td>0.0</td>\n",
       "      <td>The Omaha Public Schools and the Millard, Papi...</td>\n",
       "      <td>1.0</td>\n",
       "      <td>1.0</td>\n",
       "      <td>...</td>\n",
       "      <td>NaN</td>\n",
       "      <td>NaN</td>\n",
       "      <td>NaN</td>\n",
       "      <td>NaN</td>\n",
       "      <td>NaN</td>\n",
       "      <td>NaN</td>\n",
       "      <td>NaN</td>\n",
       "      <td>18.0</td>\n",
       "      <td>0.0</td>\n",
       "      <td>45.37</td>\n",
       "    </tr>\n",
       "    <tr>\n",
       "      <th>174092</th>\n",
       "      <td>United States</td>\n",
       "      <td>USA</td>\n",
       "      <td>Nevada</td>\n",
       "      <td>US_NV</td>\n",
       "      <td>2020-03-13</td>\n",
       "      <td>1.0</td>\n",
       "      <td>1.0</td>\n",
       "      <td>On March 13, the CDC released guidance recomme...</td>\n",
       "      <td>1.0</td>\n",
       "      <td>1.0</td>\n",
       "      <td>...</td>\n",
       "      <td>NaN</td>\n",
       "      <td>NaN</td>\n",
       "      <td>NaN</td>\n",
       "      <td>NaN</td>\n",
       "      <td>NaN</td>\n",
       "      <td>NaN</td>\n",
       "      <td>NaN</td>\n",
       "      <td>18.0</td>\n",
       "      <td>0.0</td>\n",
       "      <td>26.85</td>\n",
       "    </tr>\n",
       "    <tr>\n",
       "      <th>174093</th>\n",
       "      <td>United States</td>\n",
       "      <td>USA</td>\n",
       "      <td>Utah</td>\n",
       "      <td>US_UT</td>\n",
       "      <td>2020-03-15</td>\n",
       "      <td>2.0</td>\n",
       "      <td>1.0</td>\n",
       "      <td>NaN</td>\n",
       "      <td>1.0</td>\n",
       "      <td>1.0</td>\n",
       "      <td>...</td>\n",
       "      <td>NaN</td>\n",
       "      <td>NaN</td>\n",
       "      <td>NaN</td>\n",
       "      <td>NaN</td>\n",
       "      <td>NaN</td>\n",
       "      <td>NaN</td>\n",
       "      <td>NaN</td>\n",
       "      <td>18.0</td>\n",
       "      <td>0.0</td>\n",
       "      <td>36.11</td>\n",
       "    </tr>\n",
       "    <tr>\n",
       "      <th>174094</th>\n",
       "      <td>United States</td>\n",
       "      <td>USA</td>\n",
       "      <td>Wyoming</td>\n",
       "      <td>US_WY</td>\n",
       "      <td>2020-03-19</td>\n",
       "      <td>3.0</td>\n",
       "      <td>1.0</td>\n",
       "      <td>On March 19th, the governor of Wyoming announc...</td>\n",
       "      <td>2.0</td>\n",
       "      <td>1.0</td>\n",
       "      <td>...</td>\n",
       "      <td>NaN</td>\n",
       "      <td>NaN</td>\n",
       "      <td>NaN</td>\n",
       "      <td>0.0</td>\n",
       "      <td>NaN</td>\n",
       "      <td>NaN</td>\n",
       "      <td>NaN</td>\n",
       "      <td>18.0</td>\n",
       "      <td>0.0</td>\n",
       "      <td>61.57</td>\n",
       "    </tr>\n",
       "  </tbody>\n",
       "</table>\n",
       "<p>29016 rows × 53 columns</p>\n",
       "</div>"
      ],
      "text/plain": [
       "         country_name alpha_3_code region_name region_code        date  \\\n",
       "8       United States          USA      Hawaii       US_HI  2021-06-26   \n",
       "9       United States          USA      Hawaii       US_HI  2021-06-27   \n",
       "10      United States          USA      Hawaii       US_HI  2021-06-28   \n",
       "11      United States          USA      Hawaii       US_HI  2021-06-29   \n",
       "12      United States          USA      Hawaii       US_HI  2021-06-30   \n",
       "...               ...          ...         ...         ...         ...   \n",
       "174090  United States          USA    Kentucky       US_KY  2020-03-15   \n",
       "174091  United States          USA    Nebraska       US_NE  2020-03-16   \n",
       "174092  United States          USA      Nevada       US_NV  2020-03-13   \n",
       "174093  United States          USA        Utah       US_UT  2020-03-15   \n",
       "174094  United States          USA     Wyoming       US_WY  2020-03-19   \n",
       "\n",
       "        school_closing  school_closing_flag  \\\n",
       "8                  NaN                  NaN   \n",
       "9                  NaN                  NaN   \n",
       "10                 NaN                  NaN   \n",
       "11                 NaN                  NaN   \n",
       "12                 NaN                  NaN   \n",
       "...                ...                  ...   \n",
       "174090             1.0                  1.0   \n",
       "174091             2.0                  0.0   \n",
       "174092             1.0                  1.0   \n",
       "174093             2.0                  1.0   \n",
       "174094             3.0                  1.0   \n",
       "\n",
       "                                     school_closing_notes  workplace_closing  \\\n",
       "8                                                     NaN                NaN   \n",
       "9                                                     NaN                NaN   \n",
       "10                                                    NaN                NaN   \n",
       "11                                                    NaN                NaN   \n",
       "12                                                    NaN                NaN   \n",
       "...                                                   ...                ...   \n",
       "174090                                                NaN                2.0   \n",
       "174091  The Omaha Public Schools and the Millard, Papi...                1.0   \n",
       "174092  On March 13, the CDC released guidance recomme...                1.0   \n",
       "174093                                                NaN                1.0   \n",
       "174094  On March 19th, the governor of Wyoming announc...                2.0   \n",
       "\n",
       "        workplace_closing_flag  ... contact_tracing_notes  \\\n",
       "8                          NaN  ...                   NaN   \n",
       "9                          NaN  ...                   NaN   \n",
       "10                         NaN  ...                   NaN   \n",
       "11                         NaN  ...                   NaN   \n",
       "12                         NaN  ...                   NaN   \n",
       "...                        ...  ...                   ...   \n",
       "174090                     0.0  ...                   NaN   \n",
       "174091                     1.0  ...                   NaN   \n",
       "174092                     1.0  ...                   NaN   \n",
       "174093                     1.0  ...                   NaN   \n",
       "174094                     1.0  ...                   NaN   \n",
       "\n",
       "        emergency_healthcare_investment  \\\n",
       "8                                   0.0   \n",
       "9                                   0.0   \n",
       "10                                  0.0   \n",
       "11                                  0.0   \n",
       "12                                  0.0   \n",
       "...                                 ...   \n",
       "174090                              0.0   \n",
       "174091                              NaN   \n",
       "174092                              NaN   \n",
       "174093                              NaN   \n",
       "174094                              NaN   \n",
       "\n",
       "        emergency_healthcare_investment_notes vaccine_investment  \\\n",
       "8                                         NaN                0.0   \n",
       "9                                         NaN                0.0   \n",
       "10                                        NaN                0.0   \n",
       "11                                        NaN                0.0   \n",
       "12                                        NaN                0.0   \n",
       "...                                       ...                ...   \n",
       "174090                                    NaN                0.0   \n",
       "174091                                    NaN                NaN   \n",
       "174092                                    NaN                NaN   \n",
       "174093                                    NaN                NaN   \n",
       "174094                                    NaN                0.0   \n",
       "\n",
       "        vaccine_investment_notes  misc_wildcard misc_wildcard_notes  \\\n",
       "8                            NaN            NaN                 NaN   \n",
       "9                            NaN            NaN                 NaN   \n",
       "10                           NaN            NaN                 NaN   \n",
       "11                           NaN            NaN                 NaN   \n",
       "12                           NaN            NaN                 NaN   \n",
       "...                          ...            ...                 ...   \n",
       "174090                       NaN            NaN                 NaN   \n",
       "174091                       NaN            NaN                 NaN   \n",
       "174092                       NaN            NaN                 NaN   \n",
       "174093                       NaN            NaN                 NaN   \n",
       "174094                       NaN            NaN                 NaN   \n",
       "\n",
       "        confirmed_cases  deaths stringency_index  \n",
       "8               37596.0   516.0              NaN  \n",
       "9               37647.0   516.0              NaN  \n",
       "10              37669.0   516.0              NaN  \n",
       "11              37702.0   516.0              NaN  \n",
       "12              37758.0   517.0              NaN  \n",
       "...                 ...     ...              ...  \n",
       "174090             18.0     0.0            42.59  \n",
       "174091             18.0     0.0            45.37  \n",
       "174092             18.0     0.0            26.85  \n",
       "174093             18.0     0.0            36.11  \n",
       "174094             18.0     0.0            61.57  \n",
       "\n",
       "[29016 rows x 53 columns]"
      ]
     },
     "execution_count": 106,
     "metadata": {},
     "output_type": "execute_result"
    }
   ],
   "source": [
    "covid.dropna(axis=0, how=\"all\")"
   ]
  },
  {
   "cell_type": "code",
   "execution_count": 107,
   "metadata": {},
   "outputs": [],
   "source": [
    "covid = covid[[\"country_name\", \"alpha_3_code\", \"region_name\", \"date\", \"confirmed_cases\", \"deaths\", \"stringency_index\"]]"
   ]
  },
  {
   "cell_type": "code",
   "execution_count": 16,
   "metadata": {
    "scrolled": true
   },
   "outputs": [
    {
     "data": {
      "text/html": [
       "<div>\n",
       "<style scoped>\n",
       "    .dataframe tbody tr th:only-of-type {\n",
       "        vertical-align: middle;\n",
       "    }\n",
       "\n",
       "    .dataframe tbody tr th {\n",
       "        vertical-align: top;\n",
       "    }\n",
       "\n",
       "    .dataframe thead th {\n",
       "        text-align: right;\n",
       "    }\n",
       "</style>\n",
       "<table border=\"1\" class=\"dataframe\">\n",
       "  <thead>\n",
       "    <tr style=\"text-align: right;\">\n",
       "      <th></th>\n",
       "      <th>country_name</th>\n",
       "      <th>alpha_3_code</th>\n",
       "      <th>region_name</th>\n",
       "      <th>date</th>\n",
       "      <th>confirmed_cases</th>\n",
       "      <th>deaths</th>\n",
       "      <th>stringency_index</th>\n",
       "    </tr>\n",
       "  </thead>\n",
       "  <tbody>\n",
       "    <tr>\n",
       "      <th>8</th>\n",
       "      <td>United States</td>\n",
       "      <td>USA</td>\n",
       "      <td>Hawaii</td>\n",
       "      <td>2021-06-26</td>\n",
       "      <td>37596.0</td>\n",
       "      <td>516.0</td>\n",
       "      <td>NaN</td>\n",
       "    </tr>\n",
       "    <tr>\n",
       "      <th>9</th>\n",
       "      <td>United States</td>\n",
       "      <td>USA</td>\n",
       "      <td>Hawaii</td>\n",
       "      <td>2021-06-27</td>\n",
       "      <td>37647.0</td>\n",
       "      <td>516.0</td>\n",
       "      <td>NaN</td>\n",
       "    </tr>\n",
       "    <tr>\n",
       "      <th>10</th>\n",
       "      <td>United States</td>\n",
       "      <td>USA</td>\n",
       "      <td>Hawaii</td>\n",
       "      <td>2021-06-28</td>\n",
       "      <td>37669.0</td>\n",
       "      <td>516.0</td>\n",
       "      <td>NaN</td>\n",
       "    </tr>\n",
       "    <tr>\n",
       "      <th>11</th>\n",
       "      <td>United States</td>\n",
       "      <td>USA</td>\n",
       "      <td>Hawaii</td>\n",
       "      <td>2021-06-29</td>\n",
       "      <td>37702.0</td>\n",
       "      <td>516.0</td>\n",
       "      <td>NaN</td>\n",
       "    </tr>\n",
       "    <tr>\n",
       "      <th>12</th>\n",
       "      <td>United States</td>\n",
       "      <td>USA</td>\n",
       "      <td>Hawaii</td>\n",
       "      <td>2021-06-30</td>\n",
       "      <td>37758.0</td>\n",
       "      <td>517.0</td>\n",
       "      <td>NaN</td>\n",
       "    </tr>\n",
       "  </tbody>\n",
       "</table>\n",
       "</div>"
      ],
      "text/plain": [
       "     country_name alpha_3_code region_name        date  confirmed_cases  \\\n",
       "8   United States          USA      Hawaii  2021-06-26          37596.0   \n",
       "9   United States          USA      Hawaii  2021-06-27          37647.0   \n",
       "10  United States          USA      Hawaii  2021-06-28          37669.0   \n",
       "11  United States          USA      Hawaii  2021-06-29          37702.0   \n",
       "12  United States          USA      Hawaii  2021-06-30          37758.0   \n",
       "\n",
       "    deaths  stringency_index  \n",
       "8    516.0               NaN  \n",
       "9    516.0               NaN  \n",
       "10   516.0               NaN  \n",
       "11   516.0               NaN  \n",
       "12   517.0               NaN  "
      ]
     },
     "execution_count": 16,
     "metadata": {},
     "output_type": "execute_result"
    }
   ],
   "source": [
    "covid.head()"
   ]
  },
  {
   "cell_type": "code",
   "execution_count": 108,
   "metadata": {},
   "outputs": [
    {
     "data": {
      "text/plain": [
       "country_name         object\n",
       "alpha_3_code         object\n",
       "region_name          object\n",
       "date                 object\n",
       "confirmed_cases     float64\n",
       "deaths              float64\n",
       "stringency_index    float64\n",
       "dtype: object"
      ]
     },
     "execution_count": 108,
     "metadata": {},
     "output_type": "execute_result"
    }
   ],
   "source": [
    "covid.dtypes"
   ]
  },
  {
   "cell_type": "code",
   "execution_count": 109,
   "metadata": {},
   "outputs": [],
   "source": [
    "covid.to_csv(\"covid_us.csv\")"
   ]
  },
  {
   "cell_type": "code",
   "execution_count": 110,
   "metadata": {},
   "outputs": [],
   "source": [
    "# Created a file by combining covid data and ZORI datset in 'R'; did all the cleaning and filling in the missing observations in R. Saved it as csv, which I am calling here\n",
    "zori_covid = pd.read_csv(\"zori_covid.csv\")"
   ]
  },
  {
   "cell_type": "code",
   "execution_count": 20,
   "metadata": {
    "scrolled": true
   },
   "outputs": [
    {
     "data": {
      "text/plain": [
       "(3847, 7)"
      ]
     },
     "execution_count": 20,
     "metadata": {},
     "output_type": "execute_result"
    }
   ],
   "source": [
    "zori_covid.shape"
   ]
  },
  {
   "cell_type": "code",
   "execution_count": 21,
   "metadata": {
    "scrolled": true
   },
   "outputs": [
    {
     "data": {
      "text/html": [
       "<div>\n",
       "<style scoped>\n",
       "    .dataframe tbody tr th:only-of-type {\n",
       "        vertical-align: middle;\n",
       "    }\n",
       "\n",
       "    .dataframe tbody tr th {\n",
       "        vertical-align: top;\n",
       "    }\n",
       "\n",
       "    .dataframe thead th {\n",
       "        text-align: right;\n",
       "    }\n",
       "</style>\n",
       "<table border=\"1\" class=\"dataframe\">\n",
       "  <thead>\n",
       "    <tr style=\"text-align: right;\">\n",
       "      <th></th>\n",
       "      <th>state.name</th>\n",
       "      <th>Year</th>\n",
       "      <th>Month</th>\n",
       "      <th>medZORI</th>\n",
       "      <th>confirmed_cases</th>\n",
       "      <th>deaths</th>\n",
       "      <th>stringency_index</th>\n",
       "    </tr>\n",
       "  </thead>\n",
       "  <tbody>\n",
       "    <tr>\n",
       "      <th>0</th>\n",
       "      <td>Alabama</td>\n",
       "      <td>2014</td>\n",
       "      <td>1</td>\n",
       "      <td>993.0</td>\n",
       "      <td>0</td>\n",
       "      <td>0</td>\n",
       "      <td>0.0</td>\n",
       "    </tr>\n",
       "    <tr>\n",
       "      <th>1</th>\n",
       "      <td>Alabama</td>\n",
       "      <td>2014</td>\n",
       "      <td>2</td>\n",
       "      <td>874.0</td>\n",
       "      <td>0</td>\n",
       "      <td>0</td>\n",
       "      <td>0.0</td>\n",
       "    </tr>\n",
       "    <tr>\n",
       "      <th>2</th>\n",
       "      <td>Alabama</td>\n",
       "      <td>2014</td>\n",
       "      <td>3</td>\n",
       "      <td>895.0</td>\n",
       "      <td>0</td>\n",
       "      <td>0</td>\n",
       "      <td>0.0</td>\n",
       "    </tr>\n",
       "    <tr>\n",
       "      <th>3</th>\n",
       "      <td>Alabama</td>\n",
       "      <td>2014</td>\n",
       "      <td>4</td>\n",
       "      <td>997.5</td>\n",
       "      <td>0</td>\n",
       "      <td>0</td>\n",
       "      <td>0.0</td>\n",
       "    </tr>\n",
       "    <tr>\n",
       "      <th>4</th>\n",
       "      <td>Alabama</td>\n",
       "      <td>2014</td>\n",
       "      <td>5</td>\n",
       "      <td>827.0</td>\n",
       "      <td>0</td>\n",
       "      <td>0</td>\n",
       "      <td>0.0</td>\n",
       "    </tr>\n",
       "  </tbody>\n",
       "</table>\n",
       "</div>"
      ],
      "text/plain": [
       "  state.name  Year  Month  medZORI  confirmed_cases  deaths  stringency_index\n",
       "0    Alabama  2014      1    993.0                0       0               0.0\n",
       "1    Alabama  2014      2    874.0                0       0               0.0\n",
       "2    Alabama  2014      3    895.0                0       0               0.0\n",
       "3    Alabama  2014      4    997.5                0       0               0.0\n",
       "4    Alabama  2014      5    827.0                0       0               0.0"
      ]
     },
     "execution_count": 21,
     "metadata": {},
     "output_type": "execute_result"
    }
   ],
   "source": [
    "zori_covid.head()"
   ]
  },
  {
   "cell_type": "code",
   "execution_count": 115,
   "metadata": {
    "scrolled": false
   },
   "outputs": [
    {
     "data": {
      "text/plain": [
       "<AxesSubplot:xlabel='confirmed_cases', ylabel='medZORI'>"
      ]
     },
     "execution_count": 115,
     "metadata": {},
     "output_type": "execute_result"
    },
    {
     "data": {
      "image/png": "[encoded data removed]",
      "text/plain": [
       "<Figure size 432x432 with 1 Axes>"
      ]
     },
     "metadata": {},
     "output_type": "display_data"
    }
   ],
   "source": [
    "sns.set(rc={'figure.figsize':(6,6)})\n",
    "sns.set_style(\"white\")\n",
    "zori_covid1 = zori_covid[zori_covid['Year'] >=2020]\n",
    "zori_covid1 = zori_covid1[zori_covid1['confirmed_cases']>10]\n",
    "sns.scatterplot(x= 'confirmed_cases', y='medZORI', data=zori_covid1)"
   ]
  },
  {
   "cell_type": "code",
   "execution_count": 126,
   "metadata": {
    "scrolled": true
   },
   "outputs": [
    {
     "data": {
      "text/plain": [
       "<AxesSubplot:xlabel='deaths', ylabel='medZORI'>"
      ]
     },
     "execution_count": 126,
     "metadata": {},
     "output_type": "execute_result"
    },
    {
     "data": {
      "image/png": "[encoded data removed]",
      "text/plain": [
       "<Figure size 432x432 with 1 Axes>"
      ]
     },
     "metadata": {},
     "output_type": "display_data"
    }
   ],
   "source": [
    "sns.set(rc={'figure.figsize':(6,6)})\n",
    "sns.set_style(\"white\")\n",
    "zori_covid1 = zori_covid[zori_covid['Year'] >=2020]\n",
    "zori_covid1 = zori_covid1[zori_covid1['deaths']>100]\n",
    "sns.scatterplot(x= 'deaths', y='medZORI', data=zori_covid1)"
   ]
  },
  {
   "cell_type": "code",
   "execution_count": 125,
   "metadata": {},
   "outputs": [
    {
     "data": {
      "text/plain": [
       "<AxesSubplot:xlabel='stringency_index', ylabel='medZORI'>"
      ]
     },
     "execution_count": 125,
     "metadata": {},
     "output_type": "execute_result"
    },
    {
     "data": {
      "image/png": "[encoded data removed]",
      "text/plain": [
       "<Figure size 432x432 with 1 Axes>"
      ]
     },
     "metadata": {},
     "output_type": "display_data"
    }
   ],
   "source": [
    "sns.set(rc={'figure.figsize':(6,6)})\n",
    "sns.set_style(\"white\")\n",
    "zori_covid1 = zori_covid[zori_covid['Year'] >=2020]\n",
    "zori_covid1 = zori_covid1[zori_covid1['stringency_index']>20]\n",
    "sns.scatterplot(x= 'stringency_index', y='medZORI', data=zori_covid1)"
   ]
  },
  {
   "cell_type": "code",
   "execution_count": 127,
   "metadata": {
    "scrolled": true
   },
   "outputs": [
    {
     "data": {
      "text/plain": [
       "<AxesSubplot:xlabel='Month', ylabel='stringency_index'>"
      ]
     },
     "execution_count": 127,
     "metadata": {},
     "output_type": "execute_result"
    },
    {
     "data": {
      "image/png": "[encoded data removed]",
      "text/plain": [
       "<Figure size 432x432 with 1 Axes>"
      ]
     },
     "metadata": {},
     "output_type": "display_data"
    }
   ],
   "source": [
    "zori_covid1 = zori_covid[zori_covid['Year'] >=2020]\n",
    "#zori_covid1 = zori_covid1[zori_covid1['stringency_index']>20]\n",
    "sns.scatterplot(x= 'Month', y='stringency_index', data=zori_covid1)"
   ]
  },
  {
   "cell_type": "code",
   "execution_count": 130,
   "metadata": {},
   "outputs": [
    {
     "name": "stderr",
     "output_type": "stream",
     "text": [
      "*c* argument looks like a single numeric RGB or RGBA sequence, which should be avoided as value-mapping will have precedence in case its length matches with *x* & *y*.  Please use the *color* keyword-argument or provide a 2-D array with a single row if you intend to specify the same RGB or RGBA value for all points.\n",
      "*c* argument looks like a single numeric RGB or RGBA sequence, which should be avoided as value-mapping will have precedence in case its length matches with *x* & *y*.  Please use the *color* keyword-argument or provide a 2-D array with a single row if you intend to specify the same RGB or RGBA value for all points.\n",
      "*c* argument looks like a single numeric RGB or RGBA sequence, which should be avoided as value-mapping will have precedence in case its length matches with *x* & *y*.  Please use the *color* keyword-argument or provide a 2-D array with a single row if you intend to specify the same RGB or RGBA value for all points.\n",
      "*c* argument looks like a single numeric RGB or RGBA sequence, which should be avoided as value-mapping will have precedence in case its length matches with *x* & *y*.  Please use the *color* keyword-argument or provide a 2-D array with a single row if you intend to specify the same RGB or RGBA value for all points.\n"
     ]
    },
    {
     "data": {
      "image/png": "[encoded data removed]",
      "text/plain": [
       "<Figure size 576x432 with 4 Axes>"
      ]
     },
     "metadata": {},
     "output_type": "display_data"
    }
   ],
   "source": [
    "jet= plt.get_cmap('jet')\n",
    "colors = iter(jet(np.linspace(0,1,10)))\n",
    " \n",
    "def correlation(zori_covid1,variables, n_rows, n_cols):\n",
    "    fig = plt.figure(figsize=(8,6))\n",
    "    #fig = plt.figure(figsize=(14,9))\n",
    "    for i, var in enumerate(variables):\n",
    "        ax = fig.add_subplot(n_rows,n_cols,i+1)\n",
    "        asset = zori_covid1.loc[:,var]\n",
    "        ax.scatter(zori_covid1[\"medZORI\"], asset, c = next(colors))\n",
    "        ax.set_xlabel(\"medZORI\")\n",
    "        ax.set_ylabel(\"{}\".format(var))\n",
    "        ax.set_title(var +\" medZORI\")\n",
    "    fig.tight_layout() \n",
    "    plt.show()\n",
    "        \n",
    "# Take the name of the last 6 columns of the SPY_data which are the model features\n",
    "variables = zori_covid1.columns[-4:]\n",
    " \n",
    "correlation(zori_covid1,variables,3,3)"
   ]
  },
  {
   "cell_type": "code",
   "execution_count": 23,
   "metadata": {},
   "outputs": [],
   "source": [
    "# Import packages\n",
    "from sklearn.linear_model import LinearRegression\n",
    "from sklearn.model_selection import train_test_split\n",
    "from sklearn.metrics import mean_squared_error"
   ]
  },
  {
   "cell_type": "code",
   "execution_count": 24,
   "metadata": {},
   "outputs": [],
   "source": [
    "#Model covid- No transformation of dependent or independent feature but applying normalization during LinearRegression\n",
    "covidX = zori_covid.drop([\"medZORI\", \"state.name\"], axis =1)\n",
    "covidy = zori_covid[\"medZORI\"]"
   ]
  },
  {
   "cell_type": "code",
   "execution_count": 25,
   "metadata": {},
   "outputs": [],
   "source": [
    "#Model covid Split into test and train sets\n",
    "covidX_train, covidX_test, covidy_train, covidy_test = train_test_split(covidX, covidy, random_state=2, test_size=0.2)"
   ]
  },
  {
   "cell_type": "code",
   "execution_count": 26,
   "metadata": {},
   "outputs": [
    {
     "data": {
      "text/plain": [
       "LinearRegression(normalize=True)"
      ]
     },
     "execution_count": 26,
     "metadata": {},
     "output_type": "execute_result"
    }
   ],
   "source": [
    "# Model covid linear regression with normalization=true\n",
    "covid_ols = LinearRegression(normalize = True)\n",
    "covid_ols.fit(covidX_train, covidy_train)"
   ]
  },
  {
   "cell_type": "code",
   "execution_count": 27,
   "metadata": {},
   "outputs": [
    {
     "name": "stdout",
     "output_type": "stream",
     "text": [
      "R^2 for train set: 0.125745\n",
      "------------------------------\n",
      "R^2 for test  set: 0.084600\n"
     ]
    }
   ],
   "source": [
    "#Scores for train and test sets\n",
    "print(\"R^2 for train set: %f\" %covid_ols.score(covidX_train, covidy_train))\n",
    "\n",
    "print('-'*30)\n",
    "\n",
    "print(\"R^2 for test  set: %f\" %covid_ols.score(covidX_test, covidy_test))"
   ]
  },
  {
   "cell_type": "code",
   "execution_count": 28,
   "metadata": {
    "scrolled": true
   },
   "outputs": [
    {
     "data": {
      "text/plain": [
       "342.82555634040557"
      ]
     },
     "execution_count": 28,
     "metadata": {},
     "output_type": "execute_result"
    }
   ],
   "source": [
    "# RMSE for covid\n",
    "mean_squared_error(covidy_test, covid_ols.predict(covidX_test), squared = False)"
   ]
  },
  {
   "cell_type": "markdown",
   "metadata": {},
   "source": [
    "#### Using ony 2020 and 2021 data"
   ]
  },
  {
   "cell_type": "code",
   "execution_count": 29,
   "metadata": {},
   "outputs": [],
   "source": [
    "#Model covid2- No transformation of dependent or independent feature but applying normalization during LinearRegression\n",
    "covid2X = zori_covid1.drop([\"medZORI\", \"state.name\"], axis =1)\n",
    "covid2y = zori_covid1[\"medZORI\"]"
   ]
  },
  {
   "cell_type": "code",
   "execution_count": 30,
   "metadata": {},
   "outputs": [],
   "source": [
    "#Model covid2 Split into test and train sets\n",
    "covid2X_train, covid2X_test, covid2y_train, covid2y_test = train_test_split(covid2X, covid2y, random_state=2, test_size=0.2)"
   ]
  },
  {
   "cell_type": "code",
   "execution_count": 31,
   "metadata": {},
   "outputs": [
    {
     "data": {
      "text/plain": [
       "LinearRegression(normalize=True)"
      ]
     },
     "execution_count": 31,
     "metadata": {},
     "output_type": "execute_result"
    }
   ],
   "source": [
    "# Model covid2 linear regression with normalization=true\n",
    "covid2_ols = LinearRegression(normalize = True)\n",
    "covid2_ols.fit(covid2X_train, covid2y_train)"
   ]
  },
  {
   "cell_type": "code",
   "execution_count": 32,
   "metadata": {},
   "outputs": [
    {
     "name": "stdout",
     "output_type": "stream",
     "text": [
      "R^2 for train set: 0.174912\n",
      "------------------------------\n",
      "R^2 for test  set: 0.110325\n"
     ]
    }
   ],
   "source": [
    "#Scores for train and test sets\n",
    "print(\"R^2 for train set: %f\" %covid2_ols.score(covid2X_train, covid2y_train))\n",
    "\n",
    "print('-'*30)\n",
    "\n",
    "print(\"R^2 for test  set: %f\" %covid2_ols.score(covid2X_test, covid2y_test))"
   ]
  },
  {
   "cell_type": "code",
   "execution_count": 33,
   "metadata": {},
   "outputs": [
    {
     "data": {
      "text/plain": [
       "360.4247679658749"
      ]
     },
     "execution_count": 33,
     "metadata": {},
     "output_type": "execute_result"
    }
   ],
   "source": [
    "# RMSE for covid2\n",
    "mean_squared_error(covid2y_test, covid2_ols.predict(covid2X_test), squared = False)"
   ]
  },
  {
   "cell_type": "code",
   "execution_count": 34,
   "metadata": {
    "scrolled": true
   },
   "outputs": [
    {
     "data": {
      "text/html": [
       "<div>\n",
       "<style scoped>\n",
       "    .dataframe tbody tr th:only-of-type {\n",
       "        vertical-align: middle;\n",
       "    }\n",
       "\n",
       "    .dataframe tbody tr th {\n",
       "        vertical-align: top;\n",
       "    }\n",
       "\n",
       "    .dataframe thead th {\n",
       "        text-align: right;\n",
       "    }\n",
       "</style>\n",
       "<table border=\"1\" class=\"dataframe\">\n",
       "  <thead>\n",
       "    <tr style=\"text-align: right;\">\n",
       "      <th></th>\n",
       "      <th>state.name</th>\n",
       "      <th>Year</th>\n",
       "      <th>Month</th>\n",
       "      <th>medZORI</th>\n",
       "      <th>confirmed_cases</th>\n",
       "      <th>deaths</th>\n",
       "      <th>stringency_index</th>\n",
       "    </tr>\n",
       "  </thead>\n",
       "  <tbody>\n",
       "    <tr>\n",
       "      <th>72</th>\n",
       "      <td>Alabama</td>\n",
       "      <td>2020</td>\n",
       "      <td>1</td>\n",
       "      <td>1208.0</td>\n",
       "      <td>0</td>\n",
       "      <td>0</td>\n",
       "      <td>0.00</td>\n",
       "    </tr>\n",
       "    <tr>\n",
       "      <th>73</th>\n",
       "      <td>Alabama</td>\n",
       "      <td>2020</td>\n",
       "      <td>1</td>\n",
       "      <td>1208.0</td>\n",
       "      <td>0</td>\n",
       "      <td>0</td>\n",
       "      <td>0.00</td>\n",
       "    </tr>\n",
       "    <tr>\n",
       "      <th>74</th>\n",
       "      <td>Alabama</td>\n",
       "      <td>2020</td>\n",
       "      <td>2</td>\n",
       "      <td>1211.0</td>\n",
       "      <td>0</td>\n",
       "      <td>0</td>\n",
       "      <td>0.00</td>\n",
       "    </tr>\n",
       "    <tr>\n",
       "      <th>75</th>\n",
       "      <td>Alabama</td>\n",
       "      <td>2020</td>\n",
       "      <td>3</td>\n",
       "      <td>1215.0</td>\n",
       "      <td>1001</td>\n",
       "      <td>10</td>\n",
       "      <td>73.61</td>\n",
       "    </tr>\n",
       "    <tr>\n",
       "      <th>76</th>\n",
       "      <td>Alabama</td>\n",
       "      <td>2020</td>\n",
       "      <td>3</td>\n",
       "      <td>1215.0</td>\n",
       "      <td>1063</td>\n",
       "      <td>23</td>\n",
       "      <td>73.61</td>\n",
       "    </tr>\n",
       "  </tbody>\n",
       "</table>\n",
       "</div>"
      ],
      "text/plain": [
       "   state.name  Year  Month  medZORI  confirmed_cases  deaths  stringency_index\n",
       "72    Alabama  2020      1   1208.0                0       0              0.00\n",
       "73    Alabama  2020      1   1208.0                0       0              0.00\n",
       "74    Alabama  2020      2   1211.0                0       0              0.00\n",
       "75    Alabama  2020      3   1215.0             1001      10             73.61\n",
       "76    Alabama  2020      3   1215.0             1063      23             73.61"
      ]
     },
     "execution_count": 34,
     "metadata": {},
     "output_type": "execute_result"
    }
   ],
   "source": [
    "zori_covid1.head()"
   ]
  },
  {
   "cell_type": "markdown",
   "metadata": {},
   "source": [
    "### House Price Index Dataset"
   ]
  },
  {
   "cell_type": "code",
   "execution_count": 35,
   "metadata": {},
   "outputs": [],
   "source": [
    "hpi = pd.read_csv(\"house_price_index_zip.csv\")"
   ]
  },
  {
   "cell_type": "code",
   "execution_count": 36,
   "metadata": {},
   "outputs": [
    {
     "data": {
      "text/html": [
       "<div>\n",
       "<style scoped>\n",
       "    .dataframe tbody tr th:only-of-type {\n",
       "        vertical-align: middle;\n",
       "    }\n",
       "\n",
       "    .dataframe tbody tr th {\n",
       "        vertical-align: top;\n",
       "    }\n",
       "\n",
       "    .dataframe thead th {\n",
       "        text-align: right;\n",
       "    }\n",
       "</style>\n",
       "<table border=\"1\" class=\"dataframe\">\n",
       "  <thead>\n",
       "    <tr style=\"text-align: right;\">\n",
       "      <th></th>\n",
       "      <th>Five-Digit ZIP Code</th>\n",
       "      <th>Year</th>\n",
       "      <th>Annual Change (%)</th>\n",
       "      <th>HPI</th>\n",
       "      <th>HPI with 1990 base</th>\n",
       "      <th>HPI with 2000 base</th>\n",
       "    </tr>\n",
       "  </thead>\n",
       "  <tbody>\n",
       "    <tr>\n",
       "      <th>0</th>\n",
       "      <td>1001</td>\n",
       "      <td>1985</td>\n",
       "      <td>.</td>\n",
       "      <td>100</td>\n",
       "      <td>62.15</td>\n",
       "      <td>61.41</td>\n",
       "    </tr>\n",
       "    <tr>\n",
       "      <th>1</th>\n",
       "      <td>1001</td>\n",
       "      <td>1986</td>\n",
       "      <td>13.67</td>\n",
       "      <td>113.67</td>\n",
       "      <td>70.65</td>\n",
       "      <td>69.8</td>\n",
       "    </tr>\n",
       "    <tr>\n",
       "      <th>2</th>\n",
       "      <td>1001</td>\n",
       "      <td>1987</td>\n",
       "      <td>21.2</td>\n",
       "      <td>137.77</td>\n",
       "      <td>85.63</td>\n",
       "      <td>84.6</td>\n",
       "    </tr>\n",
       "    <tr>\n",
       "      <th>3</th>\n",
       "      <td>1001</td>\n",
       "      <td>1988</td>\n",
       "      <td>17.38</td>\n",
       "      <td>161.72</td>\n",
       "      <td>100.52</td>\n",
       "      <td>99.31</td>\n",
       "    </tr>\n",
       "    <tr>\n",
       "      <th>4</th>\n",
       "      <td>1001</td>\n",
       "      <td>1989</td>\n",
       "      <td>1.14</td>\n",
       "      <td>163.57</td>\n",
       "      <td>101.67</td>\n",
       "      <td>100.45</td>\n",
       "    </tr>\n",
       "  </tbody>\n",
       "</table>\n",
       "</div>"
      ],
      "text/plain": [
       "   Five-Digit ZIP Code  Year Annual Change (%)     HPI HPI with 1990 base  \\\n",
       "0                 1001  1985                 .     100              62.15   \n",
       "1                 1001  1986             13.67  113.67              70.65   \n",
       "2                 1001  1987              21.2  137.77              85.63   \n",
       "3                 1001  1988             17.38  161.72             100.52   \n",
       "4                 1001  1989              1.14  163.57             101.67   \n",
       "\n",
       "  HPI with 2000 base  \n",
       "0              61.41  \n",
       "1               69.8  \n",
       "2               84.6  \n",
       "3              99.31  \n",
       "4             100.45  "
      ]
     },
     "execution_count": 36,
     "metadata": {},
     "output_type": "execute_result"
    }
   ],
   "source": [
    "hpi.head()"
   ]
  },
  {
   "cell_type": "code",
   "execution_count": 37,
   "metadata": {},
   "outputs": [],
   "source": [
    "hpi_formerge = hpi[hpi[\"Year\"]>=2014]\n",
    "hpi_formerge = hpi_formerge.drop([\"HPI with 1990 base\", \"HPI with 2000 base\"], axis =1)"
   ]
  },
  {
   "cell_type": "code",
   "execution_count": 38,
   "metadata": {},
   "outputs": [
    {
     "name": "stdout",
     "output_type": "stream",
     "text": [
      "(583050, 6)\n",
      "(130149, 4)\n"
     ]
    }
   ],
   "source": [
    "print(hpi.shape)\n",
    "print(hpi_formerge.shape)"
   ]
  },
  {
   "cell_type": "code",
   "execution_count": 39,
   "metadata": {
    "scrolled": true
   },
   "outputs": [
    {
     "data": {
      "text/html": [
       "<div>\n",
       "<style scoped>\n",
       "    .dataframe tbody tr th:only-of-type {\n",
       "        vertical-align: middle;\n",
       "    }\n",
       "\n",
       "    .dataframe tbody tr th {\n",
       "        vertical-align: top;\n",
       "    }\n",
       "\n",
       "    .dataframe thead th {\n",
       "        text-align: right;\n",
       "    }\n",
       "</style>\n",
       "<table border=\"1\" class=\"dataframe\">\n",
       "  <thead>\n",
       "    <tr style=\"text-align: right;\">\n",
       "      <th></th>\n",
       "      <th>Five-Digit ZIP Code</th>\n",
       "      <th>Year</th>\n",
       "      <th>Annual Change (%)</th>\n",
       "      <th>HPI</th>\n",
       "    </tr>\n",
       "  </thead>\n",
       "  <tbody>\n",
       "    <tr>\n",
       "      <th>29</th>\n",
       "      <td>1001</td>\n",
       "      <td>2014</td>\n",
       "      <td>1.52</td>\n",
       "      <td>244.69</td>\n",
       "    </tr>\n",
       "    <tr>\n",
       "      <th>30</th>\n",
       "      <td>1001</td>\n",
       "      <td>2015</td>\n",
       "      <td>1.46</td>\n",
       "      <td>248.25</td>\n",
       "    </tr>\n",
       "    <tr>\n",
       "      <th>31</th>\n",
       "      <td>1001</td>\n",
       "      <td>2016</td>\n",
       "      <td>2.39</td>\n",
       "      <td>254.19</td>\n",
       "    </tr>\n",
       "    <tr>\n",
       "      <th>32</th>\n",
       "      <td>1001</td>\n",
       "      <td>2017</td>\n",
       "      <td>2.01</td>\n",
       "      <td>259.31</td>\n",
       "    </tr>\n",
       "    <tr>\n",
       "      <th>33</th>\n",
       "      <td>1001</td>\n",
       "      <td>2018</td>\n",
       "      <td>6.11</td>\n",
       "      <td>275.16</td>\n",
       "    </tr>\n",
       "  </tbody>\n",
       "</table>\n",
       "</div>"
      ],
      "text/plain": [
       "    Five-Digit ZIP Code  Year Annual Change (%)     HPI\n",
       "29                 1001  2014              1.52  244.69\n",
       "30                 1001  2015              1.46  248.25\n",
       "31                 1001  2016              2.39  254.19\n",
       "32                 1001  2017              2.01  259.31\n",
       "33                 1001  2018              6.11  275.16"
      ]
     },
     "execution_count": 39,
     "metadata": {},
     "output_type": "execute_result"
    }
   ],
   "source": [
    "hpi_formerge.head()"
   ]
  },
  {
   "cell_type": "code",
   "execution_count": 40,
   "metadata": {},
   "outputs": [],
   "source": [
    "# Cleaning the \"Annual Change column\"\n",
    "hpi_formerge= hpi_formerge[hpi_formerge[\"Annual Change (%)\"]!= \".\"]"
   ]
  },
  {
   "cell_type": "code",
   "execution_count": 41,
   "metadata": {},
   "outputs": [],
   "source": [
    "# Converted the object types to floats\n",
    "hpi_formerge[\"Annual Change (%)\"] = pd.to_numeric(hpi_formerge[\"Annual Change (%)\"], downcast=\"float\")\n",
    "hpi_formerge[\"HPI\"] = pd.to_numeric(hpi_formerge[\"HPI\"], downcast=\"float\")"
   ]
  },
  {
   "cell_type": "code",
   "execution_count": 42,
   "metadata": {},
   "outputs": [],
   "source": [
    "hpi_formerge = hpi_formerge.rename(columns = {\"Five-Digit ZIP Code\": \"RegionName\"})"
   ]
  },
  {
   "cell_type": "code",
   "execution_count": 43,
   "metadata": {},
   "outputs": [
    {
     "data": {
      "text/plain": [
       "(122010, 4)"
      ]
     },
     "execution_count": 43,
     "metadata": {},
     "output_type": "execute_result"
    }
   ],
   "source": [
    "hpi_formerge.shape"
   ]
  },
  {
   "cell_type": "code",
   "execution_count": 44,
   "metadata": {
    "scrolled": true
   },
   "outputs": [
    {
     "data": {
      "text/plain": [
       "RegionName             int64\n",
       "Year                   int64\n",
       "Annual Change (%)    float32\n",
       "HPI                  float32\n",
       "dtype: object"
      ]
     },
     "execution_count": 44,
     "metadata": {},
     "output_type": "execute_result"
    }
   ],
   "source": [
    "hpi_formerge.dtypes"
   ]
  },
  {
   "cell_type": "code",
   "execution_count": 45,
   "metadata": {},
   "outputs": [],
   "source": [
    "# Had Created zacs_edu1.csv in R\n",
    "zacs_edu1 = pd.read_csv(\"zacs_edu1.csv\", index_col =0)"
   ]
  },
  {
   "cell_type": "code",
   "execution_count": 46,
   "metadata": {},
   "outputs": [],
   "source": [
    "# Merging HPI with zacs_edu1\n",
    "zacs_edu_hpi= pd.merge(zacs_edu1, hpi_formerge, how ='inner', on = ['RegionName', 'Year'])"
   ]
  },
  {
   "cell_type": "code",
   "execution_count": 47,
   "metadata": {
    "scrolled": true
   },
   "outputs": [
    {
     "data": {
      "text/plain": [
       "(171558, 38)"
      ]
     },
     "execution_count": 47,
     "metadata": {},
     "output_type": "execute_result"
    }
   ],
   "source": [
    "zacs_edu_hpi.shape"
   ]
  },
  {
   "cell_type": "code",
   "execution_count": 48,
   "metadata": {},
   "outputs": [],
   "source": [
    "zacs_edu_hpi.to_csv(\"zacs_edu_hpi.csv\")"
   ]
  },
  {
   "cell_type": "code",
   "execution_count": 49,
   "metadata": {},
   "outputs": [],
   "source": [
    "#Separating X and y variables\n",
    "zacs_edu_hpiX= zacs_edu_hpi.drop([\"ZORI\"], axis =1)\n",
    "zacs_edu_hpiy = zacs_edu_hpi[\"ZORI\"]"
   ]
  },
  {
   "cell_type": "code",
   "execution_count": 50,
   "metadata": {},
   "outputs": [],
   "source": [
    "#Separating X and y variables for Model 6 which contains \"edu\" columns\n",
    "model6X = zacs_edu1.drop([\"ZORI\"], axis =1)\n",
    "model6y = zacs_edu1[\"ZORI\"]"
   ]
  },
  {
   "cell_type": "code",
   "execution_count": 51,
   "metadata": {},
   "outputs": [],
   "source": [
    "#Split into test and train sets for Model zacs_edu_hpi\n",
    "zacs_edu_hpiX_train, zacs_edu_hpiX_test, zacs_edu_hpiy_train, zacs_edu_hpiy_test = train_test_split(zacs_edu_hpiX, zacs_edu_hpiy, random_state=2, test_size=0.2)"
   ]
  },
  {
   "cell_type": "code",
   "execution_count": 52,
   "metadata": {},
   "outputs": [
    {
     "data": {
      "text/plain": [
       "LinearRegression(normalize=True)"
      ]
     },
     "execution_count": 52,
     "metadata": {},
     "output_type": "execute_result"
    }
   ],
   "source": [
    "# Model zacs_edu_hpi linear regression\n",
    "zacs_edu_hpi_ols = LinearRegression(normalize =True)\n",
    "zacs_edu_hpi_ols.fit(zacs_edu_hpiX, zacs_edu_hpiy)"
   ]
  },
  {
   "cell_type": "code",
   "execution_count": 53,
   "metadata": {},
   "outputs": [
    {
     "name": "stdout",
     "output_type": "stream",
     "text": [
      "R^2 for train set: 0.470825\n",
      "------------------------------\n",
      "R^2 for test  set: 0.473932\n"
     ]
    }
   ],
   "source": [
    "#Scores for train and test sets for Model zacs_edu_hpi\n",
    "print(\"R^2 for train set: %f\" %zacs_edu_hpi_ols.score(zacs_edu_hpiX_train, zacs_edu_hpiy_train))\n",
    "\n",
    "print('-'*30)\n",
    "\n",
    "print(\"R^2 for test  set: %f\" %zacs_edu_hpi_ols.score(zacs_edu_hpiX_test, zacs_edu_hpiy_test))"
   ]
  },
  {
   "cell_type": "code",
   "execution_count": 54,
   "metadata": {},
   "outputs": [
    {
     "data": {
      "text/plain": [
       "527.0463854698545"
      ]
     },
     "execution_count": 54,
     "metadata": {},
     "output_type": "execute_result"
    }
   ],
   "source": [
    "# RMSE for model zacs_edu_hpi; addition of the graduation rate column had really messed up R2 and RMSE\n",
    "mean_squared_error(zacs_edu_hpiy_test, zacs_edu_hpi_ols.predict(zacs_edu_hpiX_test), squared = False)"
   ]
  },
  {
   "cell_type": "markdown",
   "metadata": {},
   "source": [
    "#### Removing the high-priced observations and testing one more time"
   ]
  },
  {
   "cell_type": "code",
   "execution_count": 55,
   "metadata": {},
   "outputs": [],
   "source": [
    "# Removing the high-priced observations and testing one more time\n",
    "indices = zacs_edu_hpi['ZORI'] <4000\n",
    "zacs_edu_hpi = zacs_edu_hpi[indices]"
   ]
  },
  {
   "cell_type": "code",
   "execution_count": 56,
   "metadata": {},
   "outputs": [],
   "source": [
    "#Separating X and y variables\n",
    "zacs_edu_hpiX= zacs_edu_hpi.drop([\"ZORI\"], axis =1)\n",
    "zacs_edu_hpiy = zacs_edu_hpi[\"ZORI\"]"
   ]
  },
  {
   "cell_type": "code",
   "execution_count": 57,
   "metadata": {},
   "outputs": [],
   "source": [
    "#Split into test and train sets for Model zacs_edu_hpi\n",
    "zacs_edu_hpiX_train, zacs_edu_hpiX_test, zacs_edu_hpiy_train, zacs_edu_hpiy_test = train_test_split(zacs_edu_hpiX, zacs_edu_hpiy, random_state=2, test_size=0.2)"
   ]
  },
  {
   "cell_type": "code",
   "execution_count": 58,
   "metadata": {},
   "outputs": [
    {
     "data": {
      "text/plain": [
       "LinearRegression(normalize=True)"
      ]
     },
     "execution_count": 58,
     "metadata": {},
     "output_type": "execute_result"
    }
   ],
   "source": [
    "# Model zacs_edu_hpi linear regression\n",
    "zacs_edu_hpi_ols = LinearRegression(normalize =True)\n",
    "zacs_edu_hpi_ols.fit(zacs_edu_hpiX, zacs_edu_hpiy)"
   ]
  },
  {
   "cell_type": "code",
   "execution_count": 59,
   "metadata": {},
   "outputs": [
    {
     "name": "stdout",
     "output_type": "stream",
     "text": [
      "R^2 for train set: 0.844465\n",
      "------------------------------\n",
      "R^2 for test  set: 0.845030\n"
     ]
    }
   ],
   "source": [
    "#Scores for train and test sets for Model zacs_edu_hpi\n",
    "print(\"R^2 for train set: %f\" %zacs_edu_hpi_ols.score(zacs_edu_hpiX_train, zacs_edu_hpiy_train))\n",
    "\n",
    "print('-'*30)\n",
    "\n",
    "print(\"R^2 for test  set: %f\" %zacs_edu_hpi_ols.score(zacs_edu_hpiX_test, zacs_edu_hpiy_test))"
   ]
  },
  {
   "cell_type": "code",
   "execution_count": 60,
   "metadata": {},
   "outputs": [
    {
     "data": {
      "text/plain": [
       "196.52544106185735"
      ]
     },
     "execution_count": 60,
     "metadata": {},
     "output_type": "execute_result"
    }
   ],
   "source": [
    "# RMSE for model zacs_edu_hpi; addition of the graduation rate column really messed R2 and RMSE\n",
    "mean_squared_error(zacs_edu_hpiy_test, zacs_edu_hpi_ols.predict(zacs_edu_hpiX_test), squared = False)"
   ]
  },
  {
   "cell_type": "code",
   "execution_count": 61,
   "metadata": {
    "scrolled": true
   },
   "outputs": [
    {
     "data": {
      "image/png": "[encoded data removed]",
      "text/plain": [
       "<Figure size 432x288 with 1 Axes>"
      ]
     },
     "metadata": {
      "needs_background": "light"
     },
     "output_type": "display_data"
    },
    {
     "name": "stdout",
     "output_type": "stream",
     "text": [
      "                            OLS Regression Results                            \n",
      "==============================================================================\n",
      "Dep. Variable:                   ZORI   R-squared:                       0.845\n",
      "Model:                            OLS   Adj. R-squared:                  0.845\n",
      "Method:                 Least Squares   F-statistic:                 2.516e+04\n",
      "Date:                Mon, 19 Jul 2021   Prob (F-statistic):               0.00\n",
      "Time:                        05:48:50   Log-Likelihood:            -1.1488e+06\n",
      "No. Observations:              171364   AIC:                         2.298e+06\n",
      "Df Residuals:                  171326   BIC:                         2.298e+06\n",
      "Df Model:                          37                                         \n",
      "Covariance Type:            nonrobust                                         \n",
      "===============================================================================================================================\n",
      "                                                                  coef    std err          t      P>|t|      [0.025      0.975]\n",
      "-------------------------------------------------------------------------------------------------------------------------------\n",
      "const                                                       -3.999e+04    775.360    -51.572      0.000   -4.15e+04   -3.85e+04\n",
      "RegionID                                                       -0.0001   1.67e-05     -8.345      0.000      -0.000      -0.000\n",
      "RegionName                                                     -0.0006   2.48e-05    -25.722      0.000      -0.001      -0.001\n",
      "Year                                                           19.7871      0.385     51.378      0.000      19.032      20.542\n",
      "Month                                                           5.7008      0.139     41.007      0.000       5.428       5.973\n",
      "renter_occupied_housing_units_paying_cash_median_gross_rent     0.6081      0.004    173.302      0.000       0.601       0.615\n",
      "owner_occupied_housing_units_median_value                       0.0011   7.85e-06    144.317      0.000       0.001       0.001\n",
      "married_households                                             -0.0071      0.001     -6.678      0.000      -0.009      -0.005\n",
      "housing_units_renter_occupied                                  -0.0273      0.001    -47.944      0.000      -0.028      -0.026\n",
      "nonfamily_households                                           -0.0211      0.001    -24.360      0.000      -0.023      -0.019\n",
      "vacant_housing_units_for_rent                                  -0.0412      0.002    -19.698      0.000      -0.045      -0.037\n",
      "income_0_29999                                                  0.0415      0.001     41.450      0.000       0.040       0.044\n",
      "income_75000_99999                                              0.0343      0.002     15.715      0.000       0.030       0.039\n",
      "median_income                                               -7.383e-05    6.9e-05     -1.071      0.284      -0.000    6.13e-05\n",
      "income_100000_199999                                            0.0408      0.001     36.190      0.000       0.039       0.043\n",
      "income_200000_or_more                                           0.0022      0.002      1.208      0.227      -0.001       0.006\n",
      "million_dollar_housing_units                                    0.0297      0.002     15.888      0.000       0.026       0.033\n",
      "dwellings_50_or_more_units                                      0.0149      0.000     38.261      0.000       0.014       0.016\n",
      "dwellings_20_to_49_units                                       -0.0150      0.001    -16.408      0.000      -0.017      -0.013\n",
      "dwellings_1_units_detached                                     -0.0164      0.000    -44.582      0.000      -0.017      -0.016\n",
      "dwellings_1_units_attached                                     -0.0118      0.000    -29.306      0.000      -0.013      -0.011\n",
      "graduate_professional_degree                                   -0.0410      0.001    -57.861      0.000      -0.042      -0.040\n",
      "bachelors_degree_or_higher_25_64                                0.0089      0.001     13.868      0.000       0.008       0.010\n",
      "employed_information                                            0.0320      0.002     16.597      0.000       0.028       0.036\n",
      "management_business_sci_arts_employed                           0.0168      0.001     19.723      0.000       0.015       0.018\n",
      "occupation_natural_resources_construction_maintenance           0.0443      0.001     40.805      0.000       0.042       0.046\n",
      "median_age                                                      4.4602      0.174     25.681      0.000       4.120       4.801\n",
      "total_pop                                                      -0.0024      0.000    -11.621      0.000      -0.003      -0.002\n",
      "white_pop                                                      -0.0012      0.000     -9.500      0.000      -0.002      -0.001\n",
      "black_pop                                                       0.0034      0.000     25.161      0.000       0.003       0.004\n",
      "hispanic_pop                                                    0.0012      0.000      9.979      0.000       0.001       0.001\n",
      "walked_to_work                                                  0.0400      0.001     35.832      0.000       0.038       0.042\n",
      "commuters_by_public_transportation                              0.0029      0.000      9.357      0.000       0.002       0.003\n",
      "commute_10_14_mins                                              0.0172      0.001     22.111      0.000       0.016       0.019\n",
      "gini_index                                                    680.2497     17.931     37.937      0.000     645.106     715.394\n",
      "ALL_RATE                                                        0.1630      0.023      7.041      0.000       0.118       0.208\n",
      "Annual Change (%)                                               4.0466      0.100     40.365      0.000       3.850       4.243\n",
      "HPI                                                             0.1194      0.002     48.702      0.000       0.115       0.124\n",
      "==============================================================================\n",
      "Omnibus:                    32694.292   Durbin-Watson:                   0.030\n",
      "Prob(Omnibus):                  0.000   Jarque-Bera (JB):           194905.084\n",
      "Skew:                           0.789   Prob(JB):                         0.00\n",
      "Kurtosis:                       7.981   Cond. No.                     6.11e+08\n",
      "==============================================================================\n",
      "\n",
      "Notes:\n",
      "[1] Standard Errors assume that the covariance matrix of the errors is correctly specified.\n",
      "[2] The condition number is large, 6.11e+08. This might indicate that there are\n",
      "strong multicollinearity or other numerical problems.\n"
     ]
    }
   ],
   "source": [
    "# Statsmodel to get the p-values\n",
    "import statsmodels.api as sm \n",
    "zacs_edu_hpiX_add_const = sm.add_constant(zacs_edu_hpiX)\n",
    "zacs_edu_hpi_sm = sm.OLS(zacs_edu_hpiy, zacs_edu_hpiX_add_const)\n",
    "fitted = zacs_edu_hpi_sm.fit()\n",
    "res = fitted.resid\n",
    "fig = sm.qqplot(res)\n",
    "plt.show()\n",
    "print(fitted.summary())"
   ]
  },
  {
   "cell_type": "markdown",
   "metadata": {},
   "source": [
    "#### LassoCV to determine optimal lambda"
   ]
  },
  {
   "cell_type": "code",
   "execution_count": 62,
   "metadata": {},
   "outputs": [
    {
     "data": {
      "text/html": [
       "<div>\n",
       "<style scoped>\n",
       "    .dataframe tbody tr th:only-of-type {\n",
       "        vertical-align: middle;\n",
       "    }\n",
       "\n",
       "    .dataframe tbody tr th {\n",
       "        vertical-align: top;\n",
       "    }\n",
       "\n",
       "    .dataframe thead th {\n",
       "        text-align: right;\n",
       "    }\n",
       "</style>\n",
       "<table border=\"1\" class=\"dataframe\">\n",
       "  <thead>\n",
       "    <tr style=\"text-align: right;\">\n",
       "      <th></th>\n",
       "      <th>RegionID</th>\n",
       "      <th>RegionName</th>\n",
       "      <th>ZORI</th>\n",
       "      <th>Year</th>\n",
       "      <th>Month</th>\n",
       "      <th>renter_occupied_housing_units_paying_cash_median_gross_rent</th>\n",
       "      <th>owner_occupied_housing_units_median_value</th>\n",
       "      <th>married_households</th>\n",
       "      <th>housing_units_renter_occupied</th>\n",
       "      <th>nonfamily_households</th>\n",
       "      <th>...</th>\n",
       "      <th>white_pop</th>\n",
       "      <th>black_pop</th>\n",
       "      <th>hispanic_pop</th>\n",
       "      <th>walked_to_work</th>\n",
       "      <th>commuters_by_public_transportation</th>\n",
       "      <th>commute_10_14_mins</th>\n",
       "      <th>gini_index</th>\n",
       "      <th>ALL_RATE</th>\n",
       "      <th>Annual Change (%)</th>\n",
       "      <th>HPI</th>\n",
       "    </tr>\n",
       "  </thead>\n",
       "  <tbody>\n",
       "    <tr>\n",
       "      <th>0</th>\n",
       "      <td>91982</td>\n",
       "      <td>77494</td>\n",
       "      <td>1523</td>\n",
       "      <td>2014</td>\n",
       "      <td>1</td>\n",
       "      <td>1366</td>\n",
       "      <td>277300</td>\n",
       "      <td>19015</td>\n",
       "      <td>3530</td>\n",
       "      <td>3539</td>\n",
       "      <td>...</td>\n",
       "      <td>48223</td>\n",
       "      <td>5343</td>\n",
       "      <td>12793</td>\n",
       "      <td>69</td>\n",
       "      <td>714</td>\n",
       "      <td>2896</td>\n",
       "      <td>0.3545</td>\n",
       "      <td>93.0</td>\n",
       "      <td>12.65</td>\n",
       "      <td>200.389999</td>\n",
       "    </tr>\n",
       "    <tr>\n",
       "      <th>1</th>\n",
       "      <td>91982</td>\n",
       "      <td>77494</td>\n",
       "      <td>1523</td>\n",
       "      <td>2014</td>\n",
       "      <td>1</td>\n",
       "      <td>1366</td>\n",
       "      <td>277300</td>\n",
       "      <td>19015</td>\n",
       "      <td>3530</td>\n",
       "      <td>3539</td>\n",
       "      <td>...</td>\n",
       "      <td>48223</td>\n",
       "      <td>5343</td>\n",
       "      <td>12793</td>\n",
       "      <td>69</td>\n",
       "      <td>714</td>\n",
       "      <td>2896</td>\n",
       "      <td>0.3545</td>\n",
       "      <td>98.0</td>\n",
       "      <td>12.65</td>\n",
       "      <td>200.389999</td>\n",
       "    </tr>\n",
       "    <tr>\n",
       "      <th>2</th>\n",
       "      <td>91982</td>\n",
       "      <td>77494</td>\n",
       "      <td>1523</td>\n",
       "      <td>2014</td>\n",
       "      <td>1</td>\n",
       "      <td>1366</td>\n",
       "      <td>277300</td>\n",
       "      <td>19015</td>\n",
       "      <td>3530</td>\n",
       "      <td>3539</td>\n",
       "      <td>...</td>\n",
       "      <td>48223</td>\n",
       "      <td>5343</td>\n",
       "      <td>12793</td>\n",
       "      <td>69</td>\n",
       "      <td>714</td>\n",
       "      <td>2896</td>\n",
       "      <td>0.3545</td>\n",
       "      <td>99.0</td>\n",
       "      <td>12.65</td>\n",
       "      <td>200.389999</td>\n",
       "    </tr>\n",
       "    <tr>\n",
       "      <th>3</th>\n",
       "      <td>91982</td>\n",
       "      <td>77494</td>\n",
       "      <td>1526</td>\n",
       "      <td>2014</td>\n",
       "      <td>2</td>\n",
       "      <td>1366</td>\n",
       "      <td>277300</td>\n",
       "      <td>19015</td>\n",
       "      <td>3530</td>\n",
       "      <td>3539</td>\n",
       "      <td>...</td>\n",
       "      <td>48223</td>\n",
       "      <td>5343</td>\n",
       "      <td>12793</td>\n",
       "      <td>69</td>\n",
       "      <td>714</td>\n",
       "      <td>2896</td>\n",
       "      <td>0.3545</td>\n",
       "      <td>93.0</td>\n",
       "      <td>12.65</td>\n",
       "      <td>200.389999</td>\n",
       "    </tr>\n",
       "    <tr>\n",
       "      <th>4</th>\n",
       "      <td>91982</td>\n",
       "      <td>77494</td>\n",
       "      <td>1526</td>\n",
       "      <td>2014</td>\n",
       "      <td>2</td>\n",
       "      <td>1366</td>\n",
       "      <td>277300</td>\n",
       "      <td>19015</td>\n",
       "      <td>3530</td>\n",
       "      <td>3539</td>\n",
       "      <td>...</td>\n",
       "      <td>48223</td>\n",
       "      <td>5343</td>\n",
       "      <td>12793</td>\n",
       "      <td>69</td>\n",
       "      <td>714</td>\n",
       "      <td>2896</td>\n",
       "      <td>0.3545</td>\n",
       "      <td>98.0</td>\n",
       "      <td>12.65</td>\n",
       "      <td>200.389999</td>\n",
       "    </tr>\n",
       "    <tr>\n",
       "      <th>...</th>\n",
       "      <td>...</td>\n",
       "      <td>...</td>\n",
       "      <td>...</td>\n",
       "      <td>...</td>\n",
       "      <td>...</td>\n",
       "      <td>...</td>\n",
       "      <td>...</td>\n",
       "      <td>...</td>\n",
       "      <td>...</td>\n",
       "      <td>...</td>\n",
       "      <td>...</td>\n",
       "      <td>...</td>\n",
       "      <td>...</td>\n",
       "      <td>...</td>\n",
       "      <td>...</td>\n",
       "      <td>...</td>\n",
       "      <td>...</td>\n",
       "      <td>...</td>\n",
       "      <td>...</td>\n",
       "      <td>...</td>\n",
       "      <td>...</td>\n",
       "    </tr>\n",
       "    <tr>\n",
       "      <th>171553</th>\n",
       "      <td>95039</td>\n",
       "      <td>85701</td>\n",
       "      <td>1011</td>\n",
       "      <td>2018</td>\n",
       "      <td>6</td>\n",
       "      <td>844</td>\n",
       "      <td>256100</td>\n",
       "      <td>562</td>\n",
       "      <td>2064</td>\n",
       "      <td>1821</td>\n",
       "      <td>...</td>\n",
       "      <td>2644</td>\n",
       "      <td>192</td>\n",
       "      <td>1915</td>\n",
       "      <td>280</td>\n",
       "      <td>217</td>\n",
       "      <td>474</td>\n",
       "      <td>0.5268</td>\n",
       "      <td>90.0</td>\n",
       "      <td>0.32</td>\n",
       "      <td>353.200012</td>\n",
       "    </tr>\n",
       "    <tr>\n",
       "      <th>171554</th>\n",
       "      <td>95039</td>\n",
       "      <td>85701</td>\n",
       "      <td>1017</td>\n",
       "      <td>2018</td>\n",
       "      <td>7</td>\n",
       "      <td>844</td>\n",
       "      <td>256100</td>\n",
       "      <td>562</td>\n",
       "      <td>2064</td>\n",
       "      <td>1821</td>\n",
       "      <td>...</td>\n",
       "      <td>2644</td>\n",
       "      <td>192</td>\n",
       "      <td>1915</td>\n",
       "      <td>280</td>\n",
       "      <td>217</td>\n",
       "      <td>474</td>\n",
       "      <td>0.5268</td>\n",
       "      <td>90.0</td>\n",
       "      <td>0.32</td>\n",
       "      <td>353.200012</td>\n",
       "    </tr>\n",
       "    <tr>\n",
       "      <th>171555</th>\n",
       "      <td>95039</td>\n",
       "      <td>85701</td>\n",
       "      <td>1021</td>\n",
       "      <td>2018</td>\n",
       "      <td>8</td>\n",
       "      <td>844</td>\n",
       "      <td>256100</td>\n",
       "      <td>562</td>\n",
       "      <td>2064</td>\n",
       "      <td>1821</td>\n",
       "      <td>...</td>\n",
       "      <td>2644</td>\n",
       "      <td>192</td>\n",
       "      <td>1915</td>\n",
       "      <td>280</td>\n",
       "      <td>217</td>\n",
       "      <td>474</td>\n",
       "      <td>0.5268</td>\n",
       "      <td>90.0</td>\n",
       "      <td>0.32</td>\n",
       "      <td>353.200012</td>\n",
       "    </tr>\n",
       "    <tr>\n",
       "      <th>171556</th>\n",
       "      <td>95039</td>\n",
       "      <td>85701</td>\n",
       "      <td>1026</td>\n",
       "      <td>2018</td>\n",
       "      <td>9</td>\n",
       "      <td>844</td>\n",
       "      <td>256100</td>\n",
       "      <td>562</td>\n",
       "      <td>2064</td>\n",
       "      <td>1821</td>\n",
       "      <td>...</td>\n",
       "      <td>2644</td>\n",
       "      <td>192</td>\n",
       "      <td>1915</td>\n",
       "      <td>280</td>\n",
       "      <td>217</td>\n",
       "      <td>474</td>\n",
       "      <td>0.5268</td>\n",
       "      <td>90.0</td>\n",
       "      <td>0.32</td>\n",
       "      <td>353.200012</td>\n",
       "    </tr>\n",
       "    <tr>\n",
       "      <th>171557</th>\n",
       "      <td>95039</td>\n",
       "      <td>85701</td>\n",
       "      <td>1031</td>\n",
       "      <td>2018</td>\n",
       "      <td>10</td>\n",
       "      <td>844</td>\n",
       "      <td>256100</td>\n",
       "      <td>562</td>\n",
       "      <td>2064</td>\n",
       "      <td>1821</td>\n",
       "      <td>...</td>\n",
       "      <td>2644</td>\n",
       "      <td>192</td>\n",
       "      <td>1915</td>\n",
       "      <td>280</td>\n",
       "      <td>217</td>\n",
       "      <td>474</td>\n",
       "      <td>0.5268</td>\n",
       "      <td>90.0</td>\n",
       "      <td>0.32</td>\n",
       "      <td>353.200012</td>\n",
       "    </tr>\n",
       "  </tbody>\n",
       "</table>\n",
       "<p>171364 rows × 38 columns</p>\n",
       "</div>"
      ],
      "text/plain": [
       "        RegionID  RegionName  ZORI  Year  Month  \\\n",
       "0          91982       77494  1523  2014      1   \n",
       "1          91982       77494  1523  2014      1   \n",
       "2          91982       77494  1523  2014      1   \n",
       "3          91982       77494  1526  2014      2   \n",
       "4          91982       77494  1526  2014      2   \n",
       "...          ...         ...   ...   ...    ...   \n",
       "171553     95039       85701  1011  2018      6   \n",
       "171554     95039       85701  1017  2018      7   \n",
       "171555     95039       85701  1021  2018      8   \n",
       "171556     95039       85701  1026  2018      9   \n",
       "171557     95039       85701  1031  2018     10   \n",
       "\n",
       "        renter_occupied_housing_units_paying_cash_median_gross_rent  \\\n",
       "0                                                    1366             \n",
       "1                                                    1366             \n",
       "2                                                    1366             \n",
       "3                                                    1366             \n",
       "4                                                    1366             \n",
       "...                                                   ...             \n",
       "171553                                                844             \n",
       "171554                                                844             \n",
       "171555                                                844             \n",
       "171556                                                844             \n",
       "171557                                                844             \n",
       "\n",
       "        owner_occupied_housing_units_median_value  married_households  \\\n",
       "0                                          277300               19015   \n",
       "1                                          277300               19015   \n",
       "2                                          277300               19015   \n",
       "3                                          277300               19015   \n",
       "4                                          277300               19015   \n",
       "...                                           ...                 ...   \n",
       "171553                                     256100                 562   \n",
       "171554                                     256100                 562   \n",
       "171555                                     256100                 562   \n",
       "171556                                     256100                 562   \n",
       "171557                                     256100                 562   \n",
       "\n",
       "        housing_units_renter_occupied  nonfamily_households  ...  white_pop  \\\n",
       "0                                3530                  3539  ...      48223   \n",
       "1                                3530                  3539  ...      48223   \n",
       "2                                3530                  3539  ...      48223   \n",
       "3                                3530                  3539  ...      48223   \n",
       "4                                3530                  3539  ...      48223   \n",
       "...                               ...                   ...  ...        ...   \n",
       "171553                           2064                  1821  ...       2644   \n",
       "171554                           2064                  1821  ...       2644   \n",
       "171555                           2064                  1821  ...       2644   \n",
       "171556                           2064                  1821  ...       2644   \n",
       "171557                           2064                  1821  ...       2644   \n",
       "\n",
       "        black_pop  hispanic_pop  walked_to_work  \\\n",
       "0            5343         12793              69   \n",
       "1            5343         12793              69   \n",
       "2            5343         12793              69   \n",
       "3            5343         12793              69   \n",
       "4            5343         12793              69   \n",
       "...           ...           ...             ...   \n",
       "171553        192          1915             280   \n",
       "171554        192          1915             280   \n",
       "171555        192          1915             280   \n",
       "171556        192          1915             280   \n",
       "171557        192          1915             280   \n",
       "\n",
       "        commuters_by_public_transportation  commute_10_14_mins  gini_index  \\\n",
       "0                                      714                2896      0.3545   \n",
       "1                                      714                2896      0.3545   \n",
       "2                                      714                2896      0.3545   \n",
       "3                                      714                2896      0.3545   \n",
       "4                                      714                2896      0.3545   \n",
       "...                                    ...                 ...         ...   \n",
       "171553                                 217                 474      0.5268   \n",
       "171554                                 217                 474      0.5268   \n",
       "171555                                 217                 474      0.5268   \n",
       "171556                                 217                 474      0.5268   \n",
       "171557                                 217                 474      0.5268   \n",
       "\n",
       "        ALL_RATE  Annual Change (%)         HPI  \n",
       "0           93.0              12.65  200.389999  \n",
       "1           98.0              12.65  200.389999  \n",
       "2           99.0              12.65  200.389999  \n",
       "3           93.0              12.65  200.389999  \n",
       "4           98.0              12.65  200.389999  \n",
       "...          ...                ...         ...  \n",
       "171553      90.0               0.32  353.200012  \n",
       "171554      90.0               0.32  353.200012  \n",
       "171555      90.0               0.32  353.200012  \n",
       "171556      90.0               0.32  353.200012  \n",
       "171557      90.0               0.32  353.200012  \n",
       "\n",
       "[171364 rows x 38 columns]"
      ]
     },
     "execution_count": 62,
     "metadata": {},
     "output_type": "execute_result"
    }
   ],
   "source": [
    "zacs_edu_hpi"
   ]
  },
  {
   "cell_type": "code",
   "execution_count": 84,
   "metadata": {
    "scrolled": true
   },
   "outputs": [],
   "source": [
    "zacsehX= zacs_edu_hpi.drop([\"ZORI\", \"Month\"], axis =1)\n",
    "#zacsehy = zacs_edu_hpi[\"ZORI\"]"
   ]
  },
  {
   "cell_type": "code",
   "execution_count": 85,
   "metadata": {},
   "outputs": [],
   "source": [
    "#Split into test and train sets for Model zacs_edu_hpi\n",
    "zacsehX_train, zacsehX_test, zacsehy_train, zacsehy_test = train_test_split(zacsehX, zacs_edu_hpiy, random_state=2, test_size=0.2)"
   ]
  },
  {
   "cell_type": "code",
   "execution_count": 86,
   "metadata": {},
   "outputs": [
    {
     "data": {
      "text/plain": [
       "LassoCV(alphas=array([0.001     , 0.00109091, 0.00118182, 0.00127273, 0.00136364,\n",
       "       0.00145455, 0.00154545, 0.00163636, 0.00172727, 0.00181818,\n",
       "       0.00190909, 0.002     , 0.00209091, 0.00218182, 0.00227273,\n",
       "       0.00236364, 0.00245455, 0.00254545, 0.00263636, 0.00272727,\n",
       "       0.00281818, 0.00290909, 0.003     , 0.00309091, 0.00318182,\n",
       "       0.00327273, 0.00336364, 0.00345455, 0.00354545, 0.00363636,\n",
       "       0.00372727, 0....\n",
       "       0.00736364, 0.00745455, 0.00754545, 0.00763636, 0.00772727,\n",
       "       0.00781818, 0.00790909, 0.008     , 0.00809091, 0.00818182,\n",
       "       0.00827273, 0.00836364, 0.00845455, 0.00854545, 0.00863636,\n",
       "       0.00872727, 0.00881818, 0.00890909, 0.009     , 0.00909091,\n",
       "       0.00918182, 0.00927273, 0.00936364, 0.00945455, 0.00954545,\n",
       "       0.00963636, 0.00972727, 0.00981818, 0.00990909, 0.01      ]),\n",
       "        cv=5, max_iter=2500, n_jobs=-1, normalize=True, random_state=2)"
      ]
     },
     "execution_count": 86,
     "metadata": {},
     "output_type": "execute_result"
    }
   ],
   "source": [
    "#Run LassoCV to determine optimal lambda/alpha\n",
    "from sklearn.linear_model import LassoCV\n",
    "zacseh_lasso = LassoCV() \n",
    "\n",
    "zacseh_lasso.set_params(cv = 5, random_state = 2, alphas = np.linspace(0.001,0.01,100), normalize=True, n_jobs =-1, max_iter=2500)\n",
    "zacseh_lasso.fit(zacsehX_train, zacsehy_train)"
   ]
  },
  {
   "cell_type": "code",
   "execution_count": 87,
   "metadata": {
    "scrolled": true
   },
   "outputs": [
    {
     "name": "stdout",
     "output_type": "stream",
     "text": [
      "0.8426569535833415\n",
      "--------------------------------------------------\n",
      "R^2 for test  set: 0.843018\n"
     ]
    }
   ],
   "source": [
    "# R^2 for LassoCV\n",
    "print(zacseh_lasso.score(zacsehX_train, zacsehy_train))\n",
    "print('-'*50)\n",
    "print(\"R^2 for test  set: %f\" %zacseh_lasso.score(zacsehX_test, zacsehy_test))"
   ]
  },
  {
   "cell_type": "code",
   "execution_count": 88,
   "metadata": {
    "scrolled": true
   },
   "outputs": [
    {
     "name": "stdout",
     "output_type": "stream",
     "text": [
      "Optimal alpha:\t 0.001\n",
      "Coefficients:\t [-1.47708482e-04 -6.63602256e-04  1.86685835e+01  6.03301473e-01\n",
      "  1.13163693e-03 -8.58659454e-04 -2.50917865e-02 -1.21248281e-02\n",
      " -4.53478565e-02  2.79126997e-02  1.62422382e-02  3.08762304e-05\n",
      "  3.61749116e-02 -0.00000000e+00  2.27587783e-02  1.41142016e-02\n",
      " -1.27335844e-02 -1.55300821e-02 -1.05835053e-02 -3.73305811e-02\n",
      "  5.05807061e-03  3.30328487e-02  1.40149384e-02  3.59552074e-02\n",
      "  3.87919097e+00 -5.92584649e-04 -1.83224290e-03  2.89032900e-03\n",
      "  5.48008554e-04  3.81839801e-02  2.77464728e-03  1.34746860e-02\n",
      "  6.99122682e+02  1.42503907e-01  3.88305555e+00  1.20256552e-01]\n",
      "Intecept:\t -37679.962723448865\n"
     ]
    }
   ],
   "source": [
    "print(\"Optimal alpha:\\t\", zacseh_lasso.alpha_)\n",
    "print(\"Coefficients:\\t\", zacseh_lasso.coef_)\n",
    "print(\"Intecept:\\t\", zacseh_lasso.intercept_)"
   ]
  },
  {
   "cell_type": "code",
   "execution_count": 89,
   "metadata": {},
   "outputs": [],
   "source": [
    "# Coefficients corresponding to optimal alpha\n",
    "import dataframe_image as dfi\n",
    "lasso_optimalCoefs = pd.DataFrame({\"Attributes\": zacsehX_train.columns, \"Coefficients\": zacseh_lasso.coef_})\n",
    "lasso_optimalCoefs.to_csv(\"lasso_optimalCoefs.csv\")\n",
    "#dfi.export(lasso_optimalCoefs, 'lasso_optimalCoefs.png')"
   ]
  },
  {
   "cell_type": "code",
   "execution_count": 96,
   "metadata": {},
   "outputs": [
    {
     "data": {
      "text/html": [
       "<div>\n",
       "<style scoped>\n",
       "    .dataframe tbody tr th:only-of-type {\n",
       "        vertical-align: middle;\n",
       "    }\n",
       "\n",
       "    .dataframe tbody tr th {\n",
       "        vertical-align: top;\n",
       "    }\n",
       "\n",
       "    .dataframe thead th {\n",
       "        text-align: right;\n",
       "    }\n",
       "</style>\n",
       "<table border=\"1\" class=\"dataframe\">\n",
       "  <thead>\n",
       "    <tr style=\"text-align: right;\">\n",
       "      <th></th>\n",
       "      <th>Coefficients</th>\n",
       "    </tr>\n",
       "    <tr>\n",
       "      <th>Attributes</th>\n",
       "      <th></th>\n",
       "    </tr>\n",
       "  </thead>\n",
       "  <tbody>\n",
       "    <tr>\n",
       "      <th>RegionID</th>\n",
       "      <td>-0.000148</td>\n",
       "    </tr>\n",
       "    <tr>\n",
       "      <th>RegionName</th>\n",
       "      <td>-0.000664</td>\n",
       "    </tr>\n",
       "    <tr>\n",
       "      <th>Year</th>\n",
       "      <td>18.668584</td>\n",
       "    </tr>\n",
       "    <tr>\n",
       "      <th>renter_occupied_housing_units_paying_cash_median_gross_rent</th>\n",
       "      <td>0.603301</td>\n",
       "    </tr>\n",
       "    <tr>\n",
       "      <th>owner_occupied_housing_units_median_value</th>\n",
       "      <td>0.001132</td>\n",
       "    </tr>\n",
       "    <tr>\n",
       "      <th>married_households</th>\n",
       "      <td>-0.000859</td>\n",
       "    </tr>\n",
       "    <tr>\n",
       "      <th>housing_units_renter_occupied</th>\n",
       "      <td>-0.025092</td>\n",
       "    </tr>\n",
       "    <tr>\n",
       "      <th>nonfamily_households</th>\n",
       "      <td>-0.012125</td>\n",
       "    </tr>\n",
       "    <tr>\n",
       "      <th>vacant_housing_units_for_rent</th>\n",
       "      <td>-0.045348</td>\n",
       "    </tr>\n",
       "    <tr>\n",
       "      <th>income_0_29999</th>\n",
       "      <td>0.027913</td>\n",
       "    </tr>\n",
       "    <tr>\n",
       "      <th>income_75000_99999</th>\n",
       "      <td>0.016242</td>\n",
       "    </tr>\n",
       "    <tr>\n",
       "      <th>median_income</th>\n",
       "      <td>0.000031</td>\n",
       "    </tr>\n",
       "    <tr>\n",
       "      <th>income_100000_199999</th>\n",
       "      <td>0.036175</td>\n",
       "    </tr>\n",
       "    <tr>\n",
       "      <th>income_200000_or_more</th>\n",
       "      <td>-0.000000</td>\n",
       "    </tr>\n",
       "    <tr>\n",
       "      <th>million_dollar_housing_units</th>\n",
       "      <td>0.022759</td>\n",
       "    </tr>\n",
       "    <tr>\n",
       "      <th>dwellings_50_or_more_units</th>\n",
       "      <td>0.014114</td>\n",
       "    </tr>\n",
       "    <tr>\n",
       "      <th>dwellings_20_to_49_units</th>\n",
       "      <td>-0.012734</td>\n",
       "    </tr>\n",
       "    <tr>\n",
       "      <th>dwellings_1_units_detached</th>\n",
       "      <td>-0.015530</td>\n",
       "    </tr>\n",
       "    <tr>\n",
       "      <th>dwellings_1_units_attached</th>\n",
       "      <td>-0.010584</td>\n",
       "    </tr>\n",
       "    <tr>\n",
       "      <th>graduate_professional_degree</th>\n",
       "      <td>-0.037331</td>\n",
       "    </tr>\n",
       "    <tr>\n",
       "      <th>bachelors_degree_or_higher_25_64</th>\n",
       "      <td>0.005058</td>\n",
       "    </tr>\n",
       "    <tr>\n",
       "      <th>employed_information</th>\n",
       "      <td>0.033033</td>\n",
       "    </tr>\n",
       "    <tr>\n",
       "      <th>management_business_sci_arts_employed</th>\n",
       "      <td>0.014015</td>\n",
       "    </tr>\n",
       "    <tr>\n",
       "      <th>occupation_natural_resources_construction_maintenance</th>\n",
       "      <td>0.035955</td>\n",
       "    </tr>\n",
       "    <tr>\n",
       "      <th>median_age</th>\n",
       "      <td>3.879191</td>\n",
       "    </tr>\n",
       "    <tr>\n",
       "      <th>total_pop</th>\n",
       "      <td>-0.000593</td>\n",
       "    </tr>\n",
       "    <tr>\n",
       "      <th>white_pop</th>\n",
       "      <td>-0.001832</td>\n",
       "    </tr>\n",
       "    <tr>\n",
       "      <th>black_pop</th>\n",
       "      <td>0.002890</td>\n",
       "    </tr>\n",
       "    <tr>\n",
       "      <th>hispanic_pop</th>\n",
       "      <td>0.000548</td>\n",
       "    </tr>\n",
       "    <tr>\n",
       "      <th>walked_to_work</th>\n",
       "      <td>0.038184</td>\n",
       "    </tr>\n",
       "    <tr>\n",
       "      <th>commuters_by_public_transportation</th>\n",
       "      <td>0.002775</td>\n",
       "    </tr>\n",
       "    <tr>\n",
       "      <th>commute_10_14_mins</th>\n",
       "      <td>0.013475</td>\n",
       "    </tr>\n",
       "    <tr>\n",
       "      <th>gini_index</th>\n",
       "      <td>699.122682</td>\n",
       "    </tr>\n",
       "    <tr>\n",
       "      <th>ALL_RATE</th>\n",
       "      <td>0.142504</td>\n",
       "    </tr>\n",
       "    <tr>\n",
       "      <th>Annual Change (%)</th>\n",
       "      <td>3.883056</td>\n",
       "    </tr>\n",
       "    <tr>\n",
       "      <th>HPI</th>\n",
       "      <td>0.120257</td>\n",
       "    </tr>\n",
       "  </tbody>\n",
       "</table>\n",
       "</div>"
      ],
      "text/plain": [
       "                                                    Coefficients\n",
       "Attributes                                                      \n",
       "RegionID                                               -0.000148\n",
       "RegionName                                             -0.000664\n",
       "Year                                                   18.668584\n",
       "renter_occupied_housing_units_paying_cash_media...      0.603301\n",
       "owner_occupied_housing_units_median_value               0.001132\n",
       "married_households                                     -0.000859\n",
       "housing_units_renter_occupied                          -0.025092\n",
       "nonfamily_households                                   -0.012125\n",
       "vacant_housing_units_for_rent                          -0.045348\n",
       "income_0_29999                                          0.027913\n",
       "income_75000_99999                                      0.016242\n",
       "median_income                                           0.000031\n",
       "income_100000_199999                                    0.036175\n",
       "income_200000_or_more                                  -0.000000\n",
       "million_dollar_housing_units                            0.022759\n",
       "dwellings_50_or_more_units                              0.014114\n",
       "dwellings_20_to_49_units                               -0.012734\n",
       "dwellings_1_units_detached                             -0.015530\n",
       "dwellings_1_units_attached                             -0.010584\n",
       "graduate_professional_degree                           -0.037331\n",
       "bachelors_degree_or_higher_25_64                        0.005058\n",
       "employed_information                                    0.033033\n",
       "management_business_sci_arts_employed                   0.014015\n",
       "occupation_natural_resources_construction_maint...      0.035955\n",
       "median_age                                              3.879191\n",
       "total_pop                                              -0.000593\n",
       "white_pop                                              -0.001832\n",
       "black_pop                                               0.002890\n",
       "hispanic_pop                                            0.000548\n",
       "walked_to_work                                          0.038184\n",
       "commuters_by_public_transportation                      0.002775\n",
       "commute_10_14_mins                                      0.013475\n",
       "gini_index                                            699.122682\n",
       "ALL_RATE                                                0.142504\n",
       "Annual Change (%)                                       3.883056\n",
       "HPI                                                     0.120257"
      ]
     },
     "execution_count": 96,
     "metadata": {},
     "output_type": "execute_result"
    }
   ],
   "source": [
    "lasso_optimalCoefs.set_index(\"Attributes\")"
   ]
  },
  {
   "cell_type": "code",
   "execution_count": 90,
   "metadata": {
    "scrolled": true
   },
   "outputs": [
    {
     "data": {
      "image/png": "[encoded data removed]",
      "text/plain": [
       "<Figure size 1800x1080 with 1 Axes>"
      ]
     },
     "metadata": {},
     "output_type": "display_data"
    }
   ],
   "source": [
    "sns.set(rc={'figure.figsize':(25,15)}, font_scale =1.2)\n",
    "sns.set_style(\"white\")\n",
    "sns.barplot(y='Attributes', x='Coefficients', data=lasso_optimalCoefs)\n",
    "plt.title('Attributes Coefficients from Cross-Validation and Grid Search of lambda parameter in Lasso', size =20)\n",
    "plt.xticks(rotation = 90)\n",
    "\n",
    "plt.show()"
   ]
  },
  {
   "cell_type": "markdown",
   "metadata": {},
   "source": [
    "#### After dropping the cofficients that Lasso turned 0"
   ]
  },
  {
   "cell_type": "code",
   "execution_count": 91,
   "metadata": {},
   "outputs": [],
   "source": [
    "# Features with coefficients that came out 0 above\n",
    "lasso_optimalCoefs0 = lasso_optimalCoefs.loc[lasso_optimalCoefs['Coefficients']==0]\n",
    "#lasso_optimalCoefs0"
   ]
  },
  {
   "cell_type": "code",
   "execution_count": 71,
   "metadata": {
    "scrolled": true
   },
   "outputs": [
    {
     "data": {
      "text/plain": [
       "(1, 2)"
      ]
     },
     "execution_count": 71,
     "metadata": {},
     "output_type": "execute_result"
    }
   ],
   "source": [
    "# 1 feature has been removed by lasso, leaving 32\n",
    "lasso_optimalCoefs0.shape"
   ]
  },
  {
   "cell_type": "code",
   "execution_count": 92,
   "metadata": {},
   "outputs": [],
   "source": [
    "# Dropped these columns from train and test sets\n",
    "zacsehX_train = zacsehX_train.drop(lasso_optimalCoefs0['Attributes'].tolist(), axis = 1)\n",
    "zacsehX_test = zacsehX_test.drop(lasso_optimalCoefs0['Attributes'].tolist(), axis = 1)"
   ]
  },
  {
   "cell_type": "code",
   "execution_count": 99,
   "metadata": {},
   "outputs": [
    {
     "data": {
      "text/plain": [
       "LinearRegression(normalize=True)"
      ]
     },
     "execution_count": 99,
     "metadata": {},
     "output_type": "execute_result"
    }
   ],
   "source": [
    "# Final MLR on the remaining features\n",
    "zacseh1 = LinearRegression(normalize=True)\n",
    "zacseh1.fit(zacsehX_train, zacsehy_train)"
   ]
  },
  {
   "cell_type": "code",
   "execution_count": 100,
   "metadata": {
    "scrolled": true
   },
   "outputs": [
    {
     "name": "stdout",
     "output_type": "stream",
     "text": [
      "R^2 for train set: 0.842978\n",
      "--------------------------------------------------\n",
      "R^2 for test  set: 0.843293\n"
     ]
    }
   ],
   "source": [
    "#Scores for train and test sets\n",
    "print(\"R^2 for train set: %f\" %zacseh1.score(zacsehX_train, zacsehy_train))\n",
    "print('-'*50)\n",
    "print(\"R^2 for test  set: %f\" %zacseh1.score(zacsehX_test, zacsehy_test))"
   ]
  },
  {
   "cell_type": "code",
   "execution_count": 101,
   "metadata": {
    "scrolled": true
   },
   "outputs": [
    {
     "data": {
      "text/plain": [
       "197.62337959981758"
      ]
     },
     "execution_count": 101,
     "metadata": {},
     "output_type": "execute_result"
    }
   ],
   "source": [
    "# RMSE for Model zacseh1 \n",
    "mean_squared_error(zacsehy_test, zacseh1.predict(zacsehX_test), squared = False)"
   ]
  },
  {
   "cell_type": "code",
   "execution_count": 131,
   "metadata": {},
   "outputs": [
    {
     "data": {
      "image/png": "[encoded data removed]",
      "text/plain": [
       "<Figure size 432x432 with 1 Axes>"
      ]
     },
     "metadata": {},
     "output_type": "display_data"
    },
    {
     "name": "stdout",
     "output_type": "stream",
     "text": [
      "                            OLS Regression Results                            \n",
      "==============================================================================\n",
      "Dep. Variable:                   ZORI   R-squared:                       0.843\n",
      "Model:                            OLS   Adj. R-squared:                  0.843\n",
      "Method:                 Least Squares   F-statistic:                 2.102e+04\n",
      "Date:                Mon, 19 Jul 2021   Prob (F-statistic):               0.00\n",
      "Time:                        10:02:06   Log-Likelihood:            -9.1980e+05\n",
      "No. Observations:              137091   AIC:                         1.840e+06\n",
      "Df Residuals:                  137055   BIC:                         1.840e+06\n",
      "Df Model:                          35                                         \n",
      "Covariance Type:            nonrobust                                         \n",
      "===============================================================================================================================\n",
      "                                                                  coef    std err          t      P>|t|      [0.025      0.975]\n",
      "-------------------------------------------------------------------------------------------------------------------------------\n",
      "const                                                        -3.96e+04    862.030    -45.939      0.000   -4.13e+04   -3.79e+04\n",
      "RegionID                                                       -0.0001   1.89e-05     -7.182      0.000      -0.000   -9.86e-05\n",
      "RegionName                                                     -0.0006   2.78e-05    -22.590      0.000      -0.001      -0.001\n",
      "Year                                                           19.6074      0.429     45.751      0.000      18.767      20.447\n",
      "renter_occupied_housing_units_paying_cash_median_gross_rent     0.6063      0.004    153.628      0.000       0.599       0.614\n",
      "owner_occupied_housing_units_median_value                       0.0011   8.82e-06    128.872      0.000       0.001       0.001\n",
      "married_households                                             -0.0067      0.001     -5.681      0.000      -0.009      -0.004\n",
      "housing_units_renter_occupied                                  -0.0273      0.001    -42.803      0.000      -0.029      -0.026\n",
      "nonfamily_households                                           -0.0208      0.001    -21.413      0.000      -0.023      -0.019\n",
      "vacant_housing_units_for_rent                                  -0.0415      0.002    -17.635      0.000      -0.046      -0.037\n",
      "income_0_29999                                                  0.0418      0.001     37.826      0.000       0.040       0.044\n",
      "income_75000_99999                                              0.0338      0.002     15.783      0.000       0.030       0.038\n",
      "median_income                                                3.184e-05   7.06e-05      0.451      0.652      -0.000       0.000\n",
      "income_100000_199999                                            0.0410      0.001     32.380      0.000       0.039       0.043\n",
      "million_dollar_housing_units                                    0.0296      0.002     15.010      0.000       0.026       0.033\n",
      "dwellings_50_or_more_units                                      0.0149      0.000     34.136      0.000       0.014       0.016\n",
      "dwellings_20_to_49_units                                       -0.0146      0.001    -14.296      0.000      -0.017      -0.013\n",
      "dwellings_1_units_detached                                     -0.0161      0.000    -39.140      0.000      -0.017      -0.015\n",
      "dwellings_1_units_attached                                     -0.0114      0.000    -25.449      0.000      -0.012      -0.011\n",
      "graduate_professional_degree                                   -0.0417      0.001    -52.923      0.000      -0.043      -0.040\n",
      "bachelors_degree_or_higher_25_64                                0.0088      0.001     12.233      0.000       0.007       0.010\n",
      "employed_information                                            0.0320      0.002     14.670      0.000       0.028       0.036\n",
      "management_business_sci_arts_employed                           0.0170      0.001     17.796      0.000       0.015       0.019\n",
      "occupation_natural_resources_construction_maintenance           0.0441      0.001     36.006      0.000       0.042       0.046\n",
      "median_age                                                      4.5454      0.195     23.335      0.000       4.164       4.927\n",
      "total_pop                                                      -0.0024      0.000    -10.348      0.000      -0.003      -0.002\n",
      "white_pop                                                      -0.0014      0.000     -9.595      0.000      -0.002      -0.001\n",
      "black_pop                                                       0.0033      0.000     21.889      0.000       0.003       0.004\n",
      "hispanic_pop                                                    0.0011      0.000      8.335      0.000       0.001       0.001\n",
      "walked_to_work                                                  0.0409      0.001     32.581      0.000       0.038       0.043\n",
      "commuters_by_public_transportation                              0.0030      0.000      8.515      0.000       0.002       0.004\n",
      "commute_10_14_mins                                              0.0175      0.001     19.977      0.000       0.016       0.019\n",
      "gini_index                                                    687.9637     18.998     36.212      0.000     650.727     725.200\n",
      "ALL_RATE                                                        0.1696      0.026      6.513      0.000       0.119       0.221\n",
      "Annual Change (%)                                               4.0435      0.113     35.844      0.000       3.822       4.265\n",
      "HPI                                                             0.1191      0.003     43.248      0.000       0.114       0.125\n",
      "==============================================================================\n",
      "Omnibus:                    25866.547   Durbin-Watson:                   2.001\n",
      "Prob(Omnibus):                  0.000   Jarque-Bera (JB):           152150.688\n",
      "Skew:                           0.783   Prob(JB):                         0.00\n",
      "Kurtosis:                       7.918   Cond. No.                     6.03e+08\n",
      "==============================================================================\n",
      "\n",
      "Notes:\n",
      "[1] Standard Errors assume that the covariance matrix of the errors is correctly specified.\n",
      "[2] The condition number is large, 6.03e+08. This might indicate that there are\n",
      "strong multicollinearity or other numerical problems.\n"
     ]
    }
   ],
   "source": [
    "# Statsmodel to get the p-values\n",
    "sns.set(rc={'figure.figsize':(6,6)}, font_scale =1.2)\n",
    "sns.set_style(\"white\")\n",
    "import statsmodels.api as sm \n",
    "zacsehX_add_const = sm.add_constant(zacsehX_train)\n",
    "zacseh_sm = sm.OLS(zacsehy_train, zacsehX_add_const)\n",
    "fitted = zacseh_sm.fit()\n",
    "res = fitted.resid\n",
    "fig = sm.qqplot(res)\n",
    "plt.show()\n",
    "print(fitted.summary())"
   ]
  },
  {
   "cell_type": "markdown",
   "metadata": {},
   "source": [
    "#### MULTIVARIATE LINEAR REGRESSION"
   ]
  },
  {
   "cell_type": "code",
   "execution_count": 77,
   "metadata": {},
   "outputs": [],
   "source": [
    "zacs_features1 = pd.read_csv(\"zacs_features1.csv\", index_col=0)"
   ]
  },
  {
   "cell_type": "code",
   "execution_count": 78,
   "metadata": {},
   "outputs": [
    {
     "data": {
      "text/plain": [
       "155724"
      ]
     },
     "execution_count": 78,
     "metadata": {},
     "output_type": "execute_result"
    }
   ],
   "source": [
    "# computing gradient of ZORI with respect to year for each zipcode\n",
    "zips = zacs_features1.RegionName.unique()\n",
    "zoriGrad = [] \n",
    "for z in zips:\n",
    "    zoriGrad.append(np.gradient(zacs_features1[zacs_features1['RegionName'] == z]['ZORI']))\n",
    "zoriGrad =[item for sublist in zoriGrad for item in sublist]\n",
    "len(zoriGrad)"
   ]
  },
  {
   "cell_type": "code",
   "execution_count": 79,
   "metadata": {},
   "outputs": [],
   "source": [
    "slope = pd.DataFrame({'Grad':zoriGrad})\n",
    "zacs_features1grad = pd.concat([zacs_features1, slope], axis=1 )\n",
    "zacs_features1grad.to_csv(\"zacs_features1grad.csv\")"
   ]
  },
  {
   "cell_type": "code",
   "execution_count": 80,
   "metadata": {},
   "outputs": [],
   "source": [
    "# create categorical feature for gradient in 2020\n",
    "zacs_f1grad_cat = zacs_features1grad[zacs_features1grad['Year']>2019].groupby('RegionName')['Grad']\n",
    "#zacs_f1grad_cat['COVID_Change']=zacs_f1grad_cat['Grad'].apply(lambda x: 'Increase' if x>1 else 'Decrease' if x<-1 else 'Flat')"
   ]
  },
  {
   "cell_type": "code",
   "execution_count": 81,
   "metadata": {},
   "outputs": [
    {
     "data": {
      "text/html": [
       "<div>\n",
       "<style scoped>\n",
       "    .dataframe tbody tr th:only-of-type {\n",
       "        vertical-align: middle;\n",
       "    }\n",
       "\n",
       "    .dataframe tbody tr th {\n",
       "        vertical-align: top;\n",
       "    }\n",
       "\n",
       "    .dataframe thead th {\n",
       "        text-align: right;\n",
       "    }\n",
       "</style>\n",
       "<table border=\"1\" class=\"dataframe\">\n",
       "  <thead>\n",
       "    <tr style=\"text-align: right;\">\n",
       "      <th></th>\n",
       "      <th>RegionName</th>\n",
       "      <th>ZORI</th>\n",
       "      <th>Year</th>\n",
       "      <th>renter_occupied_housing_units_paying_cash_median_gross_rent</th>\n",
       "      <th>owner_occupied_housing_units_median_value</th>\n",
       "      <th>married_households</th>\n",
       "      <th>housing_units_renter_occupied</th>\n",
       "      <th>nonfamily_households</th>\n",
       "      <th>vacant_housing_units_for_rent</th>\n",
       "      <th>income_10000_29999</th>\n",
       "      <th>...</th>\n",
       "      <th>median_age</th>\n",
       "      <th>total_pop</th>\n",
       "      <th>white_pop</th>\n",
       "      <th>black_pop</th>\n",
       "      <th>hispanic_pop</th>\n",
       "      <th>walked_to_work</th>\n",
       "      <th>commuters_by_public_transportation</th>\n",
       "      <th>commute_10_14_mins</th>\n",
       "      <th>gini_index</th>\n",
       "      <th>Grad</th>\n",
       "    </tr>\n",
       "  </thead>\n",
       "  <tbody>\n",
       "  </tbody>\n",
       "</table>\n",
       "<p>0 rows × 34 columns</p>\n",
       "</div>"
      ],
      "text/plain": [
       "Empty DataFrame\n",
       "Columns: [RegionName, ZORI, Year, renter_occupied_housing_units_paying_cash_median_gross_rent, owner_occupied_housing_units_median_value, married_households, housing_units_renter_occupied, nonfamily_households, vacant_housing_units_for_rent, income_10000_29999, income_75000_99999, median_income, income_100000_199999, income_200000_or_more, million_dollar_housing_units, dwellings_50_or_more_units, dwellings_20_to_49_units, dwellings_1_units_detached, dwellings_1_units_attached, graduate_professional_degree, bachelors_degree_or_higher_25_64, employed_information, management_business_sci_arts_employed, occupation_natural_resources_construction_maintenance, median_age, total_pop, white_pop, black_pop, hispanic_pop, walked_to_work, commuters_by_public_transportation, commute_10_14_mins, gini_index, Grad]\n",
       "Index: []\n",
       "\n",
       "[0 rows x 34 columns]"
      ]
     },
     "execution_count": 81,
     "metadata": {},
     "output_type": "execute_result"
    }
   ],
   "source": [
    "zacs_features1grad[zacs_features1grad['Year']>2019]"
   ]
  }
 ],
 "metadata": {
  "kernelspec": {
   "display_name": "Python 3",
   "language": "python",
   "name": "python3"
  },
  "language_info": {
   "codemirror_mode": {
    "name": "ipython",
    "version": 3
   },
   "file_extension": ".py",
   "mimetype": "text/x-python",
   "name": "python",
   "nbconvert_exporter": "python",
   "pygments_lexer": "ipython3",
   "version": "3.8.5"
  }
 },
 "nbformat": 4,
 "nbformat_minor": 4
}
