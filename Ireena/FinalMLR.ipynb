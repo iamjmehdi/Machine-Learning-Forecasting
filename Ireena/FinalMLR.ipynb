{
 "cells": [
  {
   "cell_type": "markdown",
   "metadata": {},
   "source": [
    "### Multiple Linear Regression"
   ]
  },
  {
   "cell_type": "code",
   "execution_count": 2,
   "metadata": {},
   "outputs": [],
   "source": [
    "# Import packages\n",
    "import numpy as np\n",
    "import pandas as pd\n",
    "%matplotlib inline \n",
    "import seaborn as sns\n",
    "import matplotlib.pyplot as plt\n",
    "from sklearn.linear_model import LinearRegression\n",
    "from sklearn.model_selection import train_test_split\n",
    "from sklearn.preprocessing import StandardScaler\n",
    "from sklearn.metrics import mean_squared_error"
   ]
  },
  {
   "cell_type": "code",
   "execution_count": 3,
   "metadata": {},
   "outputs": [],
   "source": [
    "zacs_features1 = pd.read_csv(\"zacs_features1.csv\", index_col=0)"
   ]
  },
  {
   "cell_type": "code",
   "execution_count": 37,
   "metadata": {},
   "outputs": [
    {
     "data": {
      "text/plain": [
       "(155724, 33)"
      ]
     },
     "execution_count": 37,
     "metadata": {},
     "output_type": "execute_result"
    }
   ],
   "source": [
    "zacs_features1.shape"
   ]
  },
  {
   "cell_type": "code",
   "execution_count": 5,
   "metadata": {},
   "outputs": [],
   "source": [
    "# Splitting training and testing data\n",
    "zacs_features1_train = zacs_features1[zacs_features1['Year'] <2018]\n",
    "zacs_features1_test = zacs_features1[zacs_features1['Year'] == 2018]"
   ]
  },
  {
   "cell_type": "code",
   "execution_count": 6,
   "metadata": {},
   "outputs": [
    {
     "name": "stdout",
     "output_type": "stream",
     "text": [
      "(123310, 33)\n",
      "(32414, 33)\n"
     ]
    }
   ],
   "source": [
    "print(zacs_features1_train.shape)   # 73% train set\n",
    "print(zacs_features1_test.shape)    #27% test set"
   ]
  },
  {
   "cell_type": "code",
   "execution_count": 7,
   "metadata": {},
   "outputs": [],
   "source": [
    "# X and Y of train and test datasets\n",
    "zf1X_train = zacs_features1_train.drop([\"RegionName\", \"ZORI\"], axis =1)\n",
    "zf1y_train = zacs_features1_train['ZORI']\n",
    "zf1X_test = zacs_features1_test.drop([\"RegionName\", \"ZORI\"], axis =1)\n",
    "zf1y_test = zacs_features1_test['ZORI']"
   ]
  },
  {
   "cell_type": "code",
   "execution_count": 8,
   "metadata": {},
   "outputs": [],
   "source": [
    "# Creating a copy for standardization\n",
    "zf1X_train_std = zf1X_train.copy()\n",
    "zf1X_test_std = zf1X_test.copy()"
   ]
  },
  {
   "cell_type": "code",
   "execution_count": 9,
   "metadata": {},
   "outputs": [],
   "source": [
    "# Standard Scaling of independent variables\n",
    "ss = StandardScaler()\n",
    "zf1X_train_std = ss.fit_transform(zf1X_train_std)\n",
    "zf1X_test_std = ss.transform(zf1X_test_std)"
   ]
  },
  {
   "cell_type": "code",
   "execution_count": 10,
   "metadata": {},
   "outputs": [
    {
     "data": {
      "text/plain": [
       "LinearRegression()"
      ]
     },
     "execution_count": 10,
     "metadata": {},
     "output_type": "execute_result"
    }
   ],
   "source": [
    "# Model 11 linear regression on Standard Scaled Data\n",
    "model11_ols = LinearRegression()\n",
    "model11_ols.fit(zf1X_train_std, zf1y_train)"
   ]
  },
  {
   "cell_type": "code",
   "execution_count": 11,
   "metadata": {},
   "outputs": [
    {
     "name": "stdout",
     "output_type": "stream",
     "text": [
      "R^2 for train set: 0.829466\n",
      "------------------------------\n",
      "R^2 for test  set: 0.819728\n"
     ]
    }
   ],
   "source": [
    "#Scores for train and test sets\n",
    "print(\"R^2 for train set: %f\" %model11_ols.score(zf1X_train_std, zf1y_train))\n",
    "\n",
    "print('-'*30)\n",
    "\n",
    "print(\"R^2 for test  set: %f\" %model11_ols.score(zf1X_test_std, zf1y_test))"
   ]
  },
  {
   "cell_type": "code",
   "execution_count": 12,
   "metadata": {},
   "outputs": [
    {
     "data": {
      "text/plain": [
       "271.0"
      ]
     },
     "execution_count": 12,
     "metadata": {},
     "output_type": "execute_result"
    }
   ],
   "source": [
    "# RMSE for model 11\n",
    "np.around(mean_squared_error(zf1y_test, model11_ols.predict(zf1X_test_std), squared = False))"
   ]
  },
  {
   "cell_type": "code",
   "execution_count": 13,
   "metadata": {},
   "outputs": [],
   "source": [
    "#model11_yhats = np.around(model11_ols.predict(zf1X_test_std))\n",
    "#model11_yhats = pd.DataFrame(model11_yhats)"
   ]
  },
  {
   "cell_type": "code",
   "execution_count": 14,
   "metadata": {},
   "outputs": [],
   "source": [
    "# Created a CSV file with actual and predicted values of Model 11\n",
    "model11_pred = zacs_features1_test.copy()\n",
    "model11_pred['Predicted'] = np.around(model11_ols.predict(zf1X_test_std))\n",
    "model11_pred= model11[['RegionName','Year', 'ZORI', 'Predicted']]\n",
    "model11_pred.to_csv(\"model11_pred.csv\")"
   ]
  },
  {
   "cell_type": "code",
   "execution_count": 47,
   "metadata": {},
   "outputs": [
    {
     "data": {
      "text/plain": [
       "array([3085, 3086, 3087, ..., 2273, 2279, 2277])"
      ]
     },
     "execution_count": 47,
     "metadata": {},
     "output_type": "execute_result"
    }
   ],
   "source": [
    "#zf1y_test.to_frame().values.flatten()"
   ]
  },
  {
   "cell_type": "code",
   "execution_count": 60,
   "metadata": {
    "scrolled": true
   },
   "outputs": [
    {
     "data": {
      "text/plain": [
       "array([10025, 10025, 10025, ..., 60602, 60602, 60602])"
      ]
     },
     "execution_count": 60,
     "metadata": {},
     "output_type": "execute_result"
    }
   ],
   "source": [
    "#zacs_features1_test['RegionName'].to_frame().values.flatten()"
   ]
  },
  {
   "cell_type": "markdown",
   "metadata": {},
   "source": [
    "### Linear Regression after dropping high-priced rentals"
   ]
  },
  {
   "cell_type": "code",
   "execution_count": 21,
   "metadata": {},
   "outputs": [],
   "source": [
    "# Taken ZORI values<6000\n",
    "zf_no_outliers = zacs_features1[zacs_features1['ZORI']<6000]"
   ]
  },
  {
   "cell_type": "code",
   "execution_count": 36,
   "metadata": {},
   "outputs": [
    {
     "data": {
      "text/plain": [
       "(155615, 33)"
      ]
     },
     "execution_count": 36,
     "metadata": {},
     "output_type": "execute_result"
    }
   ],
   "source": [
    "zf_no_outliers.shape"
   ]
  },
  {
   "cell_type": "code",
   "execution_count": 38,
   "metadata": {},
   "outputs": [],
   "source": [
    "# Splitting training and testing data\n",
    "zf_no_outliers_train = zf_no_outliers[zf_no_outliers['Year'] <2018]\n",
    "zf_no_outliers_test = zf_no_outliers[zf_no_outliers['Year'] == 2018]"
   ]
  },
  {
   "cell_type": "code",
   "execution_count": 39,
   "metadata": {
    "scrolled": true
   },
   "outputs": [
    {
     "name": "stdout",
     "output_type": "stream",
     "text": [
      "(123233, 33)\n",
      "(32382, 33)\n"
     ]
    }
   ],
   "source": [
    "print(zf_no_outliers_train.shape)   # 73% train set\n",
    "print(zf_no_outliers_test.shape)    #27% test set"
   ]
  },
  {
   "cell_type": "code",
   "execution_count": 30,
   "metadata": {},
   "outputs": [],
   "source": [
    "# X and Y of train and test datasets\n",
    "zf2X_train = zf_no_outliers_train.drop([\"RegionName\", \"ZORI\"], axis =1)\n",
    "zf2y_train = zf_no_outliers_train['ZORI']\n",
    "zf2X_test = zf_no_outliers_test.drop([\"RegionName\", \"ZORI\"], axis =1)\n",
    "zf2y_test = zf_no_outliers_test['ZORI']"
   ]
  },
  {
   "cell_type": "code",
   "execution_count": 31,
   "metadata": {},
   "outputs": [],
   "source": [
    "# Creating a copy for standardization\n",
    "zf2X_train_std = zf2X_train.copy()\n",
    "zf2X_test_std = zf2X_test.copy()"
   ]
  },
  {
   "cell_type": "code",
   "execution_count": 32,
   "metadata": {},
   "outputs": [],
   "source": [
    "# Standard Scaling of independent variables\n",
    "ss = StandardScaler()\n",
    "zf2X_train_std = ss.fit_transform(zf2X_train_std)\n",
    "zf2X_test_std = ss.transform(zf2X_test_std)"
   ]
  },
  {
   "cell_type": "code",
   "execution_count": 33,
   "metadata": {},
   "outputs": [
    {
     "data": {
      "text/plain": [
       "LinearRegression()"
      ]
     },
     "execution_count": 33,
     "metadata": {},
     "output_type": "execute_result"
    }
   ],
   "source": [
    "# Model 12 linear regression on Standard Scaled Data\n",
    "model12_ols = LinearRegression()\n",
    "model12_ols.fit(zf2X_train_std, zf2y_train)"
   ]
  },
  {
   "cell_type": "code",
   "execution_count": 34,
   "metadata": {},
   "outputs": [
    {
     "name": "stdout",
     "output_type": "stream",
     "text": [
      "R^2 for train set: 0.841155\n",
      "------------------------------\n",
      "R^2 for test  set: 0.835256\n"
     ]
    }
   ],
   "source": [
    "#Scores for train and test sets\n",
    "print(\"R^2 for train set: %f\" %model12_ols.score(zf2X_train_std, zf2y_train))\n",
    "\n",
    "print('-'*30)\n",
    "\n",
    "print(\"R^2 for test  set: %f\" %model12_ols.score(zf2X_test_std, zf2y_test))"
   ]
  },
  {
   "cell_type": "code",
   "execution_count": 35,
   "metadata": {},
   "outputs": [
    {
     "data": {
      "text/plain": [
       "247.0"
      ]
     },
     "execution_count": 35,
     "metadata": {},
     "output_type": "execute_result"
    }
   ],
   "source": [
    "# RMSE for model 12\n",
    "np.around(mean_squared_error(zf2y_test, model12_ols.predict(zf2X_test_std), squared = False))"
   ]
  },
  {
   "cell_type": "code",
   "execution_count": 49,
   "metadata": {},
   "outputs": [],
   "source": [
    "# This was done because standardization results in an array instead of datframe and thus coilumn names are lost. When we run statsmodel, we don not get to see which columns have\\\n",
    "# what coefficients. This was done to add back the column names so we could see it in sttsmodel.\n",
    "zf2X_train_std_df = pd.DataFrame(zf2X_train_std, columns = zf2X_train.columns)"
   ]
  },
  {
   "cell_type": "code",
   "execution_count": 48,
   "metadata": {
    "scrolled": true
   },
   "outputs": [
    {
     "data": {
      "image/png": "[encoded data removed]",
      "text/plain": [
       "<Figure size 432x288 with 1 Axes>"
      ]
     },
     "metadata": {
      "needs_background": "light"
     },
     "output_type": "display_data"
    },
    {
     "name": "stdout",
     "output_type": "stream",
     "text": [
      "                            OLS Regression Results                            \n",
      "==============================================================================\n",
      "Dep. Variable:                      y   R-squared:                       0.841\n",
      "Model:                            OLS   Adj. R-squared:                  0.841\n",
      "Method:                 Least Squares   F-statistic:                 2.105e+04\n",
      "Date:                Tue, 20 Jul 2021   Prob (F-statistic):               0.00\n",
      "Time:                        11:13:29   Log-Likelihood:            -8.4592e+05\n",
      "No. Observations:              123233   AIC:                         1.692e+06\n",
      "Df Residuals:                  123201   BIC:                         1.692e+06\n",
      "Df Model:                          31                                         \n",
      "Covariance Type:            nonrobust                                         \n",
      "===============================================================================================================================\n",
      "                                                                  coef    std err          t      P>|t|      [0.025      0.975]\n",
      "-------------------------------------------------------------------------------------------------------------------------------\n",
      "const                                                        1518.4639      0.660   2300.264      0.000    1517.170    1519.758\n",
      "Year                                                           26.4719      0.690     38.346      0.000      25.119      27.825\n",
      "renter_occupied_housing_units_paying_cash_median_gross_rent   226.7646      1.517    149.481      0.000     223.791     229.738\n",
      "owner_occupied_housing_units_median_value                     281.4766      1.649    170.709      0.000     278.245     284.708\n",
      "married_households                                            -26.6172      4.698     -5.666      0.000     -35.825     -17.410\n",
      "housing_units_renter_occupied                                -111.5475      3.114    -35.822      0.000    -117.651    -105.444\n",
      "nonfamily_households                                          -67.4513      3.324    -20.292      0.000     -73.966     -60.936\n",
      "vacant_housing_units_for_rent                                 -20.2417      0.973    -20.814      0.000     -22.148     -18.336\n",
      "income_10000_29999                                            122.1216      3.202     38.141      0.000     115.846     128.397\n",
      "income_75000_99999                                              9.3385      2.604      3.587      0.000       4.236      14.441\n",
      "median_income                                                  37.2326      2.050     18.160      0.000      33.214      41.251\n",
      "income_100000_199999                                           64.3631      2.879     22.356      0.000      58.720      70.006\n",
      "income_200000_or_more                                         -43.4927      2.507    -17.350      0.000     -48.406     -38.579\n",
      "million_dollar_housing_units                                   20.0643      1.089     18.430      0.000      17.930      22.198\n",
      "dwellings_50_or_more_units                                     38.8261      1.274     30.474      0.000      36.329      41.323\n",
      "dwellings_20_to_49_units                                      -15.4657      1.240    -12.468      0.000     -17.897     -13.034\n",
      "dwellings_1_units_detached                                    -69.6576      2.337    -29.808      0.000     -74.238     -65.077\n",
      "dwellings_1_units_attached                                    -15.0402      0.997    -15.090      0.000     -16.994     -13.087\n",
      "graduate_professional_degree                                 -139.9163      2.564    -54.578      0.000    -144.941    -134.892\n",
      "bachelors_degree_or_higher_25_64                               31.1570      4.574      6.812      0.000      22.192      40.122\n",
      "employed_information                                           33.6925      1.183     28.470      0.000      31.373      36.012\n",
      "management_business_sci_arts_employed                         148.0731      5.183     28.571      0.000     137.915     158.231\n",
      "occupation_natural_resources_construction_maintenance          55.0049      1.447     38.016      0.000      52.169      57.841\n",
      "median_age                                                     50.2356      1.072     46.878      0.000      48.135      52.336\n",
      "total_pop                                                     -35.2907      5.399     -6.537      0.000     -45.872     -24.709\n",
      "white_pop                                                     -49.0027      2.079    -23.572      0.000     -53.077     -44.928\n",
      "black_pop                                                       4.6372      1.682      2.758      0.006       1.341       7.933\n",
      "hispanic_pop                                                   -1.1872      1.937     -0.613      0.540      -4.984       2.609\n",
      "walked_to_work                                                 62.1769      1.148     54.181      0.000      59.928      64.426\n",
      "commuters_by_public_transportation                             24.8863      1.466     16.978      0.000      22.013      27.759\n",
      "commute_10_14_mins                                             19.7190      1.195     16.498      0.000      17.376      22.062\n",
      "gini_index                                                     46.9552      1.210     38.818      0.000      44.584      49.326\n",
      "==============================================================================\n",
      "Omnibus:                    36496.341   Durbin-Watson:                   0.060\n",
      "Prob(Omnibus):                  0.000   Jarque-Bera (JB):           356999.479\n",
      "Skew:                           1.144   Prob(JB):                         0.00\n",
      "Kurtosis:                      11.018   Cond. No.                         30.9\n",
      "==============================================================================\n",
      "\n",
      "Notes:\n",
      "[1] Standard Errors assume that the covariance matrix of the errors is correctly specified.\n"
     ]
    }
   ],
   "source": [
    "# Ran this to get the p-values for variables  as well as qqplot to see if errors are normally distributed\n",
    "import statsmodels.api as sm \n",
    "model12X_add_const = sm.add_constant(zf2X_train_std_df)\n",
    "model12sm = sm.OLS(zf2y_train.values.reshape(-1,1), model12X_add_const)\n",
    "fitted = model12sm.fit()\n",
    "res = fitted.resid\n",
    "fig = sm.qqplot(res)\n",
    "plt.show()\n",
    "print(fitted.summary())"
   ]
  },
  {
   "cell_type": "code",
   "execution_count": 50,
   "metadata": {},
   "outputs": [],
   "source": [
    "# I tried this for my own interest. No need to go through this section from this cell to qqplot cell.\n",
    "# Also Standardizing the dependent variable\n",
    "# X and Y of train and test datasets\n",
    "zf2X_train = zf_no_outliers_train.drop([\"RegionName\", \"ZORI\"], axis =1)\n",
    "zf2y_train = zf_no_outliers_train['ZORI']\n",
    "zf2X_test = zf_no_outliers_test.drop([\"RegionName\", \"ZORI\"], axis =1)\n",
    "zf2y_test = zf_no_outliers_test['ZORI']"
   ]
  },
  {
   "cell_type": "code",
   "execution_count": 52,
   "metadata": {},
   "outputs": [],
   "source": [
    "# Creating a copy for standardization\n",
    "zf3X_train_std = zf2X_train.copy()\n",
    "zf3X_test_std = zf2X_test.copy()\n",
    "zf3y_train_std = zf2y_train.copy()\n",
    "zf3y_test_std = zf2y_test.copy()"
   ]
  },
  {
   "cell_type": "code",
   "execution_count": 54,
   "metadata": {},
   "outputs": [],
   "source": [
    "# Standard Scaling of independent variables\n",
    "ss = StandardScaler()\n",
    "zf3X_train_std = ss.fit_transform(zf3X_train_std)\n",
    "zf3X_test_std = ss.transform(zf3X_test_std)\n",
    "zf3y_train_std = ss.fit_transform(zf3y_train_std.values.reshape(-1,1))\n",
    "zf3y_test_std = ss.transform(zf3y_test_std.values.reshape(-1,1))"
   ]
  },
  {
   "cell_type": "code",
   "execution_count": 55,
   "metadata": {},
   "outputs": [
    {
     "data": {
      "text/plain": [
       "LinearRegression()"
      ]
     },
     "execution_count": 55,
     "metadata": {},
     "output_type": "execute_result"
    }
   ],
   "source": [
    "# Model 13 linear regression on Standard Scaled Data\n",
    "model13_ols = LinearRegression()\n",
    "model13_ols.fit(zf3X_train_std, zf3y_train_std)"
   ]
  },
  {
   "cell_type": "code",
   "execution_count": 56,
   "metadata": {},
   "outputs": [
    {
     "name": "stdout",
     "output_type": "stream",
     "text": [
      "R^2 for train set: 0.841155\n",
      "------------------------------\n",
      "R^2 for test  set: 0.835256\n"
     ]
    }
   ],
   "source": [
    "#Scores for train and test sets\n",
    "print(\"R^2 for train set: %f\" %model13_ols.score(zf3X_train_std, zf3y_train_std))\n",
    "\n",
    "print('-'*30)\n",
    "\n",
    "print(\"R^2 for test  set: %f\" %model13_ols.score(zf3X_test_std, zf3y_test_std))"
   ]
  },
  {
   "cell_type": "code",
   "execution_count": 57,
   "metadata": {},
   "outputs": [
    {
     "data": {
      "text/plain": [
       "0.0"
      ]
     },
     "execution_count": 57,
     "metadata": {},
     "output_type": "execute_result"
    }
   ],
   "source": [
    "# RMSE for model 12\n",
    "np.around(mean_squared_error(zf3y_test_std, model13_ols.predict(zf3X_test_std), squared = False))"
   ]
  },
  {
   "cell_type": "code",
   "execution_count": 59,
   "metadata": {},
   "outputs": [],
   "source": [
    "zf3X_train_std_df = pd.DataFrame(zf3X_train_std, columns = zf2X_train.columns)"
   ]
  },
  {
   "cell_type": "code",
   "execution_count": 69,
   "metadata": {
    "scrolled": false
   },
   "outputs": [
    {
     "data": {
      "image/png": "[encoded data removed]",
      "text/plain": [
       "<Figure size 432x288 with 1 Axes>"
      ]
     },
     "metadata": {
      "needs_background": "light"
     },
     "output_type": "display_data"
    },
    {
     "name": "stdout",
     "output_type": "stream",
     "text": [
      "                            OLS Regression Results                            \n",
      "==============================================================================\n",
      "Dep. Variable:                      y   R-squared:                       0.841\n",
      "Model:                            OLS   Adj. R-squared:                  0.841\n",
      "Method:                 Least Squares   F-statistic:                 2.105e+04\n",
      "Date:                Tue, 20 Jul 2021   Prob (F-statistic):               0.00\n",
      "Time:                        11:47:40   Log-Likelihood:                -61497.\n",
      "No. Observations:              123233   AIC:                         1.231e+05\n",
      "Df Residuals:                  123201   BIC:                         1.234e+05\n",
      "Df Model:                          31                                         \n",
      "Covariance Type:            nonrobust                                         \n",
      "===============================================================================================================================\n",
      "                                                                  coef    std err          t      P>|t|      [0.025      0.975]\n",
      "-------------------------------------------------------------------------------------------------------------------------------\n",
      "const                                                       -4.163e-17      0.001  -3.67e-14      1.000      -0.002       0.002\n",
      "Year                                                            0.0455      0.001     38.346      0.000       0.043       0.048\n",
      "renter_occupied_housing_units_paying_cash_median_gross_rent     0.3901      0.003    149.481      0.000       0.385       0.395\n",
      "owner_occupied_housing_units_median_value                       0.4842      0.003    170.709      0.000       0.479       0.490\n",
      "married_households                                             -0.0458      0.008     -5.666      0.000      -0.062      -0.030\n",
      "housing_units_renter_occupied                                  -0.1919      0.005    -35.822      0.000      -0.202      -0.181\n",
      "nonfamily_households                                           -0.1160      0.006    -20.292      0.000      -0.127      -0.105\n",
      "vacant_housing_units_for_rent                                  -0.0348      0.002    -20.814      0.000      -0.038      -0.032\n",
      "income_10000_29999                                              0.2101      0.006     38.141      0.000       0.199       0.221\n",
      "income_75000_99999                                              0.0161      0.004      3.587      0.000       0.007       0.025\n",
      "median_income                                                   0.0640      0.004     18.160      0.000       0.057       0.071\n",
      "income_100000_199999                                            0.1107      0.005     22.356      0.000       0.101       0.120\n",
      "income_200000_or_more                                          -0.0748      0.004    -17.350      0.000      -0.083      -0.066\n",
      "million_dollar_housing_units                                    0.0345      0.002     18.430      0.000       0.031       0.038\n",
      "dwellings_50_or_more_units                                      0.0668      0.002     30.474      0.000       0.062       0.071\n",
      "dwellings_20_to_49_units                                       -0.0266      0.002    -12.468      0.000      -0.031      -0.022\n",
      "dwellings_1_units_detached                                     -0.1198      0.004    -29.808      0.000      -0.128      -0.112\n",
      "dwellings_1_units_attached                                     -0.0259      0.002    -15.090      0.000      -0.029      -0.023\n",
      "graduate_professional_degree                                   -0.2407      0.004    -54.578      0.000      -0.249      -0.232\n",
      "bachelors_degree_or_higher_25_64                                0.0536      0.008      6.812      0.000       0.038       0.069\n",
      "employed_information                                            0.0580      0.002     28.470      0.000       0.054       0.062\n",
      "management_business_sci_arts_employed                           0.2547      0.009     28.571      0.000       0.237       0.272\n",
      "occupation_natural_resources_construction_maintenance           0.0946      0.002     38.016      0.000       0.090       0.099\n",
      "median_age                                                      0.0864      0.002     46.878      0.000       0.083       0.090\n",
      "total_pop                                                      -0.0607      0.009     -6.537      0.000      -0.079      -0.043\n",
      "white_pop                                                      -0.0843      0.004    -23.572      0.000      -0.091      -0.077\n",
      "black_pop                                                       0.0080      0.003      2.758      0.006       0.002       0.014\n",
      "hispanic_pop                                                   -0.0020      0.003     -0.613      0.540      -0.009       0.004\n",
      "walked_to_work                                                  0.1070      0.002     54.181      0.000       0.103       0.111\n",
      "commuters_by_public_transportation                              0.0428      0.003     16.978      0.000       0.038       0.048\n",
      "commute_10_14_mins                                              0.0339      0.002     16.498      0.000       0.030       0.038\n",
      "gini_index                                                      0.0808      0.002     38.818      0.000       0.077       0.085\n",
      "==============================================================================\n",
      "Omnibus:                    36496.341   Durbin-Watson:                   0.060\n",
      "Prob(Omnibus):                  0.000   Jarque-Bera (JB):           356999.479\n",
      "Skew:                           1.144   Prob(JB):                         0.00\n",
      "Kurtosis:                      11.018   Cond. No.                         30.9\n",
      "==============================================================================\n",
      "\n",
      "Notes:\n",
      "[1] Standard Errors assume that the covariance matrix of the errors is correctly specified.\n"
     ]
    }
   ],
   "source": [
    "# Ran this to get the p-values for variables  as well as qqplot to see if errors are normally distributed\n",
    "import statsmodels.api as sm \n",
    "model13X_add_const = sm.add_constant(zf3X_train_std_df)\n",
    "model13sm = sm.OLS(zf3y_train_std, model13X_add_const)\n",
    "fitted = model13sm.fit()\n",
    "res = fitted.resid\n",
    "fig = sm.qqplot(res)\n",
    "plt.show()\n",
    "print(fitted.summary())"
   ]
  },
  {
   "cell_type": "code",
   "execution_count": null,
   "metadata": {},
   "outputs": [],
   "source": []
  }
 ],
 "metadata": {
  "kernelspec": {
   "display_name": "Python 3",
   "language": "python",
   "name": "python3"
  },
  "language_info": {
   "codemirror_mode": {
    "name": "ipython",
    "version": 3
   },
   "file_extension": ".py",
   "mimetype": "text/x-python",
   "name": "python",
   "nbconvert_exporter": "python",
   "pygments_lexer": "ipython3",
   "version": "3.8.5"
  }
 },
 "nbformat": 4,
 "nbformat_minor": 4
}
