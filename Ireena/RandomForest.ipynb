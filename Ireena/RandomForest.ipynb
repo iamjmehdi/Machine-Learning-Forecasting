{
 "cells": [
  {
   "cell_type": "markdown",
   "metadata": {},
   "source": [
    "### Random Forest Regression"
   ]
  },
  {
   "cell_type": "code",
   "execution_count": 10,
   "metadata": {},
   "outputs": [],
   "source": [
    "# Import packages\n",
    "import numpy as np\n",
    "import pandas as pd\n",
    "%matplotlib inline \n",
    "import seaborn as sns\n",
    "import matplotlib.pyplot as plt\n",
    "from sklearn.linear_model import LinearRegression\n",
    "from sklearn.model_selection import train_test_split\n",
    "from sklearn.preprocessing import StandardScaler\n",
    "from sklearn.metrics import mean_squared_error\n",
    "from sklearn.ensemble import RandomForestRegressor\n",
    "from sklearn.model_selection import GridSearchCV"
   ]
  },
  {
   "cell_type": "code",
   "execution_count": 4,
   "metadata": {},
   "outputs": [],
   "source": [
    "# Read the prepared features file\n",
    "zacs_features1 = pd.read_csv(\"zacs_features1.csv\", index_col=0)"
   ]
  },
  {
   "cell_type": "code",
   "execution_count": 5,
   "metadata": {},
   "outputs": [],
   "source": [
    "# Splitting training and testing data\n",
    "zacs_features1_train = zacs_features1[zacs_features1['Year'] <2018]\n",
    "zacs_features1_test = zacs_features1[zacs_features1['Year'] == 2018]"
   ]
  },
  {
   "cell_type": "code",
   "execution_count": 4,
   "metadata": {},
   "outputs": [
    {
     "name": "stdout",
     "output_type": "stream",
     "text": [
      "(123310, 33)\n",
      "(32414, 33)\n"
     ]
    }
   ],
   "source": [
    "print(zacs_features1_train.shape)   # 73% train set\n",
    "print(zacs_features1_test.shape)    #27% test set"
   ]
  },
  {
   "cell_type": "code",
   "execution_count": 6,
   "metadata": {},
   "outputs": [],
   "source": [
    "# X and Y of train and test datasets\n",
    "zf1X_train = zacs_features1_train.drop([\"RegionName\", \"ZORI\"], axis =1)\n",
    "zf1y_train = zacs_features1_train['ZORI']\n",
    "zf1X_test = zacs_features1_test.drop([\"RegionName\", \"ZORI\"], axis =1)\n",
    "zf1y_test = zacs_features1_test['ZORI']"
   ]
  },
  {
   "cell_type": "code",
   "execution_count": 13,
   "metadata": {},
   "outputs": [
    {
     "data": {
      "text/plain": [
       "RandomForestRegressor(random_state=2)"
      ]
     },
     "execution_count": 13,
     "metadata": {},
     "output_type": "execute_result"
    }
   ],
   "source": [
    "# RandomFirest fit with default parameters\n",
    "randomForest = RandomForestRegressor()\n",
    "randomForest.set_params(random_state =2)\n",
    "randomForest.fit(zf1X_train, zf1y_train) "
   ]
  },
  {
   "cell_type": "code",
   "execution_count": 14,
   "metadata": {
    "scrolled": true
   },
   "outputs": [
    {
     "data": {
      "text/plain": [
       "{'bootstrap': True,\n",
       " 'ccp_alpha': 0.0,\n",
       " 'criterion': 'mse',\n",
       " 'max_depth': None,\n",
       " 'max_features': 'auto',\n",
       " 'max_leaf_nodes': None,\n",
       " 'max_samples': None,\n",
       " 'min_impurity_decrease': 0.0,\n",
       " 'min_impurity_split': None,\n",
       " 'min_samples_leaf': 1,\n",
       " 'min_samples_split': 2,\n",
       " 'min_weight_fraction_leaf': 0.0,\n",
       " 'n_estimators': 100,\n",
       " 'n_jobs': None,\n",
       " 'oob_score': False,\n",
       " 'random_state': 2,\n",
       " 'verbose': 0,\n",
       " 'warm_start': False}"
      ]
     },
     "execution_count": 14,
     "metadata": {},
     "output_type": "execute_result"
    }
   ],
   "source": [
    "randomForest.get_params()"
   ]
  },
  {
   "cell_type": "code",
   "execution_count": 15,
   "metadata": {},
   "outputs": [
    {
     "name": "stdout",
     "output_type": "stream",
     "text": [
      "The training R2 is: 0.99785\n",
      "The test R2 is: 0.91880\n"
     ]
    }
   ],
   "source": [
    "#Scores for train and test sets\n",
    "print(\"The training R2 is: %.5f\" % (randomForest.score(zf1X_train, zf1y_train)))\n",
    "print(\"The test R2 is: %.5f\" % (randomForest.score(zf1X_test, zf1y_test)))"
   ]
  },
  {
   "cell_type": "code",
   "execution_count": 16,
   "metadata": {},
   "outputs": [
    {
     "name": "stdout",
     "output_type": "stream",
     "text": [
      "R2 associated with Random Forest Regression is: 0.918803954248911\n"
     ]
    }
   ],
   "source": [
    "#Predicted Price from test dataset w.r.t Random Forest Regression\n",
    "zf1y_predict = randomForest.predict((zf1X_test))\n",
    "\n",
    "#Model Evaluation using R2 for Random Forest Regression\n",
    "from sklearn import metrics\n",
    "R2 = metrics.r2_score(zf1y_test, zf1y_predict)\n",
    "print('R2 associated with Random Forest Regression is:', R2) "
   ]
  },
  {
   "cell_type": "code",
   "execution_count": 17,
   "metadata": {},
   "outputs": [],
   "source": [
    "# 1st grid search\n",
    "randomForest = RandomForestRegressor()\n",
    "randomForest.set_params(random_state =2)\n",
    "grid_para_forest = {\n",
    "    'criterion': ['mse'],  \n",
    "    'n_estimators': list(range(100, 500, 100)),\n",
    "    'max_depth': list(range(2, 17, 3)),\n",
    "    'bootstrap':[True]\n",
    "}"
   ]
  },
  {
   "cell_type": "code",
   "execution_count": 18,
   "metadata": {
    "scrolled": true
   },
   "outputs": [
    {
     "name": "stdout",
     "output_type": "stream",
     "text": [
      "CPU times: user 6min 21s, sys: 1.85 s, total: 6min 23s\n",
      "Wall time: 1h 5min 3s\n"
     ]
    },
    {
     "data": {
      "text/plain": [
       "GridSearchCV(cv=5, estimator=RandomForestRegressor(random_state=2), n_jobs=-1,\n",
       "             param_grid={'bootstrap': [True], 'criterion': ['mse'],\n",
       "                         'max_depth': [2, 5, 8, 11, 14],\n",
       "                         'n_estimators': [100, 200, 300, 400]},\n",
       "             return_train_score=True)"
      ]
     },
     "execution_count": 18,
     "metadata": {},
     "output_type": "execute_result"
    }
   ],
   "source": [
    "# Run RF regressor through the grid search\n",
    "grid_search_forest = GridSearchCV(randomForest, grid_para_forest, cv=5, n_jobs=-1, return_train_score=True)\n",
    "%time grid_search_forest.fit(zf1X_train, zf1y_train)"
   ]
  },
  {
   "cell_type": "code",
   "execution_count": 19,
   "metadata": {},
   "outputs": [
    {
     "data": {
      "text/plain": [
       "{'bootstrap': True, 'criterion': 'mse', 'max_depth': 14, 'n_estimators': 400}"
      ]
     },
     "execution_count": 19,
     "metadata": {},
     "output_type": "execute_result"
    }
   ],
   "source": [
    "# get the best parameters\n",
    "grid_search_forest.best_params_"
   ]
  },
  {
   "cell_type": "code",
   "execution_count": 20,
   "metadata": {},
   "outputs": [
    {
     "data": {
      "text/plain": [
       "0.797424958231038"
      ]
     },
     "execution_count": 20,
     "metadata": {},
     "output_type": "execute_result"
    }
   ],
   "source": [
    "# get the best score\n",
    "grid_search_forest.best_score_"
   ]
  },
  {
   "cell_type": "code",
   "execution_count": 21,
   "metadata": {
    "scrolled": false
   },
   "outputs": [
    {
     "data": {
      "text/plain": [
       "{'mean_fit_time': array([ 27.91879983,  60.52137938,  97.53740239, 134.28807917,\n",
       "         77.31781034, 156.27215729, 231.50712066, 298.11777234,\n",
       "        103.52009392, 195.1845149 , 286.65865335, 375.83951025,\n",
       "        117.00534992, 239.69361916, 388.7561337 , 474.7354341 ,\n",
       "        132.49343357, 274.43812141, 393.07983465, 434.54534883]),\n",
       " 'std_fit_time': array([2.11810694e-02, 1.63094821e+00, 1.58042399e+00, 1.83933765e+00,\n",
       "        1.08431499e+00, 1.81820258e+00, 1.59115329e+00, 5.28252886e+00,\n",
       "        6.53352576e+00, 5.68336620e-01, 1.91266173e+00, 2.78445297e+00,\n",
       "        1.19652163e+00, 1.19998509e+01, 2.39358645e+00, 1.44605982e+01,\n",
       "        3.60808639e+00, 1.22240565e+00, 3.55058714e+00, 5.84686152e+01]),\n",
       " 'mean_score_time': array([0.06749845, 0.12165885, 0.1737401 , 0.23308005, 0.10594363,\n",
       "        0.1709125 , 0.25109205, 0.29641767, 0.11621437, 0.22628064,\n",
       "        0.30991616, 0.41238627, 0.14802799, 0.34242487, 0.42810163,\n",
       "        0.57693286, 0.19660935, 0.353654  , 0.48315907, 0.41697974]),\n",
       " 'std_score_time': array([0.00128161, 0.01552785, 0.02429773, 0.01263657, 0.01362755,\n",
       "        0.0078273 , 0.0349068 , 0.00691857, 0.00136558, 0.01368191,\n",
       "        0.00491087, 0.01877766, 0.00192059, 0.08533065, 0.01408655,\n",
       "        0.00819399, 0.02315623, 0.01166008, 0.04780354, 0.0611839 ]),\n",
       " 'param_bootstrap': masked_array(data=[True, True, True, True, True, True, True, True, True,\n",
       "                    True, True, True, True, True, True, True, True, True,\n",
       "                    True, True],\n",
       "              mask=[False, False, False, False, False, False, False, False,\n",
       "                    False, False, False, False, False, False, False, False,\n",
       "                    False, False, False, False],\n",
       "        fill_value='?',\n",
       "             dtype=object),\n",
       " 'param_criterion': masked_array(data=['mse', 'mse', 'mse', 'mse', 'mse', 'mse', 'mse', 'mse',\n",
       "                    'mse', 'mse', 'mse', 'mse', 'mse', 'mse', 'mse', 'mse',\n",
       "                    'mse', 'mse', 'mse', 'mse'],\n",
       "              mask=[False, False, False, False, False, False, False, False,\n",
       "                    False, False, False, False, False, False, False, False,\n",
       "                    False, False, False, False],\n",
       "        fill_value='?',\n",
       "             dtype=object),\n",
       " 'param_max_depth': masked_array(data=[2, 2, 2, 2, 5, 5, 5, 5, 8, 8, 8, 8, 11, 11, 11, 11, 14,\n",
       "                    14, 14, 14],\n",
       "              mask=[False, False, False, False, False, False, False, False,\n",
       "                    False, False, False, False, False, False, False, False,\n",
       "                    False, False, False, False],\n",
       "        fill_value='?',\n",
       "             dtype=object),\n",
       " 'param_n_estimators': masked_array(data=[100, 200, 300, 400, 100, 200, 300, 400, 100, 200, 300,\n",
       "                    400, 100, 200, 300, 400, 100, 200, 300, 400],\n",
       "              mask=[False, False, False, False, False, False, False, False,\n",
       "                    False, False, False, False, False, False, False, False,\n",
       "                    False, False, False, False],\n",
       "        fill_value='?',\n",
       "             dtype=object),\n",
       " 'params': [{'bootstrap': True,\n",
       "   'criterion': 'mse',\n",
       "   'max_depth': 2,\n",
       "   'n_estimators': 100},\n",
       "  {'bootstrap': True, 'criterion': 'mse', 'max_depth': 2, 'n_estimators': 200},\n",
       "  {'bootstrap': True, 'criterion': 'mse', 'max_depth': 2, 'n_estimators': 300},\n",
       "  {'bootstrap': True, 'criterion': 'mse', 'max_depth': 2, 'n_estimators': 400},\n",
       "  {'bootstrap': True, 'criterion': 'mse', 'max_depth': 5, 'n_estimators': 100},\n",
       "  {'bootstrap': True, 'criterion': 'mse', 'max_depth': 5, 'n_estimators': 200},\n",
       "  {'bootstrap': True, 'criterion': 'mse', 'max_depth': 5, 'n_estimators': 300},\n",
       "  {'bootstrap': True, 'criterion': 'mse', 'max_depth': 5, 'n_estimators': 400},\n",
       "  {'bootstrap': True, 'criterion': 'mse', 'max_depth': 8, 'n_estimators': 100},\n",
       "  {'bootstrap': True, 'criterion': 'mse', 'max_depth': 8, 'n_estimators': 200},\n",
       "  {'bootstrap': True, 'criterion': 'mse', 'max_depth': 8, 'n_estimators': 300},\n",
       "  {'bootstrap': True, 'criterion': 'mse', 'max_depth': 8, 'n_estimators': 400},\n",
       "  {'bootstrap': True,\n",
       "   'criterion': 'mse',\n",
       "   'max_depth': 11,\n",
       "   'n_estimators': 100},\n",
       "  {'bootstrap': True,\n",
       "   'criterion': 'mse',\n",
       "   'max_depth': 11,\n",
       "   'n_estimators': 200},\n",
       "  {'bootstrap': True,\n",
       "   'criterion': 'mse',\n",
       "   'max_depth': 11,\n",
       "   'n_estimators': 300},\n",
       "  {'bootstrap': True,\n",
       "   'criterion': 'mse',\n",
       "   'max_depth': 11,\n",
       "   'n_estimators': 400},\n",
       "  {'bootstrap': True,\n",
       "   'criterion': 'mse',\n",
       "   'max_depth': 14,\n",
       "   'n_estimators': 100},\n",
       "  {'bootstrap': True,\n",
       "   'criterion': 'mse',\n",
       "   'max_depth': 14,\n",
       "   'n_estimators': 200},\n",
       "  {'bootstrap': True,\n",
       "   'criterion': 'mse',\n",
       "   'max_depth': 14,\n",
       "   'n_estimators': 300},\n",
       "  {'bootstrap': True,\n",
       "   'criterion': 'mse',\n",
       "   'max_depth': 14,\n",
       "   'n_estimators': 400}],\n",
       " 'split0_test_score': array([0.67686592, 0.67712025, 0.67601069, 0.67629868, 0.7921515 ,\n",
       "        0.79288423, 0.79278516, 0.79268505, 0.8011369 , 0.80294043,\n",
       "        0.80389996, 0.80400888, 0.80275295, 0.8037253 , 0.8055713 ,\n",
       "        0.80546129, 0.79910607, 0.80128342, 0.80260959, 0.80213943]),\n",
       " 'split1_test_score': array([0.68793072, 0.68724803, 0.68683616, 0.68712897, 0.78320854,\n",
       "        0.78280054, 0.7821835 , 0.78207208, 0.81555973, 0.81490393,\n",
       "        0.81534821, 0.81537439, 0.81996201, 0.82048425, 0.8208263 ,\n",
       "        0.82064657, 0.82035415, 0.82159955, 0.82163405, 0.82181437]),\n",
       " 'split2_test_score': array([0.69789992, 0.69764138, 0.69722315, 0.69740373, 0.79209589,\n",
       "        0.7937412 , 0.79545229, 0.79541643, 0.81509298, 0.815315  ,\n",
       "        0.81783841, 0.81825749, 0.82243222, 0.82342264, 0.82623673,\n",
       "        0.82708889, 0.82667819, 0.82862483, 0.83108402, 0.83156527]),\n",
       " 'split3_test_score': array([0.66962688, 0.67167977, 0.6729646 , 0.67290687, 0.79607643,\n",
       "        0.79743418, 0.79800776, 0.7981084 , 0.81544319, 0.81422987,\n",
       "        0.81479933, 0.81480568, 0.81926588, 0.81905794, 0.81873809,\n",
       "        0.81916696, 0.81970734, 0.81823315, 0.81820505, 0.81819355]),\n",
       " 'split4_test_score': array([0.5633426 , 0.56387993, 0.56373344, 0.56396219, 0.71460789,\n",
       "        0.71435398, 0.71522918, 0.71636178, 0.71248931, 0.71248971,\n",
       "        0.71244353, 0.7145816 , 0.7137743 , 0.71281099, 0.71192611,\n",
       "        0.71299477, 0.71485594, 0.71236383, 0.71164312, 0.71341219]),\n",
       " 'mean_test_score': array([0.65913321, 0.65951387, 0.65935361, 0.65954009, 0.77562805,\n",
       "        0.77624283, 0.77673158, 0.77692875, 0.79194442, 0.79197579,\n",
       "        0.79286589, 0.79340561, 0.79563747, 0.79590022, 0.79665971,\n",
       "        0.79707169, 0.79614034, 0.79642096, 0.79703517, 0.79742496]),\n",
       " 'std_test_score': array([0.04885194, 0.04863483, 0.04857021, 0.04855813, 0.03080024,\n",
       "        0.03132231, 0.03121899, 0.03076831, 0.04010822, 0.04000981,\n",
       "        0.04049608, 0.03970859, 0.04152145, 0.04210271, 0.04290799,\n",
       "        0.04262469, 0.04168986, 0.04297922, 0.04367029, 0.043063  ]),\n",
       " 'rank_test_score': array([20, 18, 19, 17, 16, 15, 14, 13, 12, 11, 10,  9,  8,  7,  4,  2,  6,\n",
       "         5,  3,  1], dtype=int32),\n",
       " 'split0_train_score': array([0.65861408, 0.65893139, 0.65854563, 0.65866681, 0.85072538,\n",
       "        0.85082371, 0.85092369, 0.85084195, 0.92574884, 0.92607547,\n",
       "        0.92590623, 0.9258386 , 0.97085598, 0.97110302, 0.97104944,\n",
       "        0.97101684, 0.99151801, 0.99155651, 0.9915809 , 0.99159667]),\n",
       " 'split1_train_score': array([0.65260342, 0.65204944, 0.6517139 , 0.65195018, 0.84645829,\n",
       "        0.84579856, 0.84570848, 0.84592676, 0.92251325, 0.9220371 ,\n",
       "        0.92214437, 0.92223036, 0.97253072, 0.97241212, 0.97250079,\n",
       "        0.97259318, 0.99301195, 0.99301383, 0.99301947, 0.9930118 ]),\n",
       " 'split2_train_score': array([0.6545949 , 0.65443692, 0.65436486, 0.6546194 , 0.85167654,\n",
       "        0.85213507, 0.8522525 , 0.85245182, 0.9254472 , 0.92561128,\n",
       "        0.92546222, 0.92558188, 0.97125877, 0.97120388, 0.97108427,\n",
       "        0.97113039, 0.99178289, 0.99181938, 0.99177548, 0.99179383]),\n",
       " 'split3_train_score': array([0.66666606, 0.66779517, 0.66847082, 0.66837058, 0.85290841,\n",
       "        0.85348825, 0.85365518, 0.85374717, 0.92544197, 0.92554332,\n",
       "        0.92557621, 0.92564574, 0.97127117, 0.97154138, 0.97149928,\n",
       "        0.97153201, 0.99155551, 0.99177286, 0.991767  , 0.99176763]),\n",
       " 'split4_train_score': array([0.69173913, 0.69238852, 0.69210707, 0.69245858, 0.84425734,\n",
       "        0.84481279, 0.84477613, 0.84500431, 0.92365077, 0.92395528,\n",
       "        0.92384703, 0.92398104, 0.96944703, 0.96944007, 0.96942841,\n",
       "        0.96945269, 0.99000645, 0.98998507, 0.99002468, 0.99003833]),\n",
       " 'mean_train_score': array([0.66484352, 0.66512029, 0.66504045, 0.66521311, 0.84920519,\n",
       "        0.84941168, 0.84946319, 0.8495944 , 0.92456041, 0.92464449,\n",
       "        0.92458721, 0.92465552, 0.97107273, 0.97114009, 0.97111244,\n",
       "        0.97114502, 0.99157496, 0.99162953, 0.9916335 , 0.99164165]),\n",
       " 'std_train_score': array([0.01428535, 0.01465602, 0.01468412, 0.01471918, 0.00329117,\n",
       "        0.00347084, 0.00356518, 0.00350677, 0.00126445, 0.00148753,\n",
       "        0.00141414, 0.00138381, 0.0009889 , 0.00096691, 0.00099175,\n",
       "        0.00101268, 0.00095625, 0.00096772, 0.00095393, 0.00094752])}"
      ]
     },
     "execution_count": 21,
     "metadata": {},
     "output_type": "execute_result"
    }
   ],
   "source": [
    "grid_search_forest.cv_results_"
   ]
  },
  {
   "cell_type": "code",
   "execution_count": 22,
   "metadata": {
    "scrolled": true
   },
   "outputs": [
    {
     "name": "stdout",
     "output_type": "stream",
     "text": [
      "The R2 training is: 0.98957\n",
      "The R2 test     is: 0.91295\n"
     ]
    }
   ],
   "source": [
    "# get the training/test scores\n",
    "print(\"The R2 training is: %.5f\" % (grid_search_forest.best_estimator_.score(zf1X_train, zf1y_train))) \n",
    "print(\"The R2 test     is: %.5f\" % (grid_search_forest.best_estimator_.score(zf1X_test, zf1y_test)))"
   ]
  },
  {
   "cell_type": "code",
   "execution_count": 23,
   "metadata": {
    "scrolled": true
   },
   "outputs": [
    {
     "data": {
      "text/plain": [
       "[('owner_occupied_housing_units_median_value', 0.6552737734928735),\n",
       " ('renter_occupied_housing_units_paying_cash_median_gross_rent',\n",
       "  0.15554798471676898),\n",
       " ('median_age', 0.018604579319091163),\n",
       " ('dwellings_1_units_detached', 0.016206846620571973),\n",
       " ('gini_index', 0.012875741293446092),\n",
       " ('dwellings_1_units_attached', 0.012553156651004347),\n",
       " ('commuters_by_public_transportation', 0.010850942666711421),\n",
       " ('dwellings_50_or_more_units', 0.009388605254287847),\n",
       " ('housing_units_renter_occupied', 0.009088752210784206),\n",
       " ('median_income', 0.008771504835085188),\n",
       " ('white_pop', 0.007298234457794992),\n",
       " ('occupation_natural_resources_construction_maintenance',\n",
       "  0.0061451676993701555),\n",
       " ('hispanic_pop', 0.006053345422757463),\n",
       " ('commute_10_14_mins', 0.005700384359109234),\n",
       " ('total_pop', 0.005367183957446542),\n",
       " ('vacant_housing_units_for_rent', 0.005250530331976691),\n",
       " ('dwellings_20_to_49_units', 0.004898052746602246),\n",
       " ('employed_information', 0.004588974824454051),\n",
       " ('nonfamily_households', 0.004467062637313471),\n",
       " ('black_pop', 0.004229614533983577),\n",
       " ('income_100000_199999', 0.004218654954514812),\n",
       " ('walked_to_work', 0.004032889205951781),\n",
       " ('management_business_sci_arts_employed', 0.003856432504614438),\n",
       " ('bachelors_degree_or_higher_25_64', 0.003698802174771661),\n",
       " ('graduate_professional_degree', 0.003547755774348645),\n",
       " ('income_75000_99999', 0.003494035545873754),\n",
       " ('married_households', 0.003428232471904074),\n",
       " ('income_200000_or_more', 0.003147690567503257),\n",
       " ('income_10000_29999', 0.0028281164456687535),\n",
       " ('million_dollar_housing_units', 0.002583928335334783),\n",
       " ('Year', 0.0020030239880808784)]"
      ]
     },
     "execution_count": 23,
     "metadata": {},
     "output_type": "execute_result"
    }
   ],
   "source": [
    "# Feature Importance\n",
    "tree_final = grid_search_forest.best_estimator_\n",
    "feature_importance = list(zip(zf1X_train.columns, tree_final.feature_importances_))\n",
    "sorted(feature_importance, key=lambda imp: imp[1], reverse=True)"
   ]
  },
  {
   "cell_type": "code",
   "execution_count": 24,
   "metadata": {
    "scrolled": false
   },
   "outputs": [
    {
     "data": {
      "text/plain": [
       "<BarContainer object of 31 artists>"
      ]
     },
     "execution_count": 24,
     "metadata": {},
     "output_type": "execute_result"
    },
    {
     "data": {
      "image/png": "[encoded data removed]",
      "text/plain": [
       "<Figure size 1080x864 with 1 Axes>"
      ]
     },
     "metadata": {
      "needs_background": "light"
     },
     "output_type": "display_data"
    }
   ],
   "source": [
    "#Feature Importance Bar plot\n",
    "features, importance = zip(*sorted(feature_importance, key=lambda imp: imp[1], reverse=True))\n",
    "plt.figure(figsize=(15,12))\n",
    "plt.barh(features, importance)"
   ]
  },
  {
   "cell_type": "code",
   "execution_count": 29,
   "metadata": {},
   "outputs": [],
   "source": [
    "#Predicted Price from test dataset w.r.t Random Forest Regression\n",
    "zf1yGS_predict = np.around(grid_search_forest.predict((zf1X_test)))"
   ]
  },
  {
   "cell_type": "code",
   "execution_count": 27,
   "metadata": {
    "scrolled": true
   },
   "outputs": [
    {
     "data": {
      "text/plain": [
       "array([3079.13839088, 3079.13839088, 3079.13839088, ..., 2684.02238745,\n",
       "       2684.02238745, 2684.02238745])"
      ]
     },
     "execution_count": 27,
     "metadata": {},
     "output_type": "execute_result"
    }
   ],
   "source": [
    "zf1yGS_predict"
   ]
  },
  {
   "cell_type": "code",
   "execution_count": 30,
   "metadata": {},
   "outputs": [],
   "source": [
    "# Created a CSV file with actual and predicted values of Model RF\n",
    "modelRF_pred = zacs_features1_test.copy()\n",
    "modelRF_pred['Predicted'] = zf1yGS_predict.copy()\n",
    "modelRF_pred= modelRF_pred[['RegionName','Year', 'ZORI', 'Predicted']]\n",
    "modelRF_pred.to_csv(\"modelRF_pred.csv\")"
   ]
  },
  {
   "cell_type": "code",
   "execution_count": 31,
   "metadata": {},
   "outputs": [
    {
     "data": {
      "text/plain": [
       "188.0"
      ]
     },
     "execution_count": 31,
     "metadata": {},
     "output_type": "execute_result"
    }
   ],
   "source": [
    "# RMSE for model RF\n",
    "np.around(mean_squared_error(zf1y_test,grid_search_forest.predict(zf1X_test), squared = False))"
   ]
  },
  {
   "cell_type": "markdown",
   "metadata": {},
   "source": [
    "### Random Forest on features taken from 4 datasets including ZORI, ACS, Education, HPI features"
   ]
  },
  {
   "cell_type": "code",
   "execution_count": 32,
   "metadata": {},
   "outputs": [],
   "source": [
    "zacseh= pd.read_csv(\"zacs_edu_hpi.csv\", index_col=0)"
   ]
  },
  {
   "cell_type": "code",
   "execution_count": 33,
   "metadata": {},
   "outputs": [],
   "source": [
    "# Splitting training and testing data\n",
    "zacseh_train = zacseh[zacseh['Year'] <2018]\n",
    "zacseh_test = zacseh[zacseh['Year'] == 2018]"
   ]
  },
  {
   "cell_type": "code",
   "execution_count": 34,
   "metadata": {},
   "outputs": [
    {
     "name": "stdout",
     "output_type": "stream",
     "text": [
      "(144034, 38)\n",
      "(27524, 38)\n"
     ]
    }
   ],
   "source": [
    "print(zacseh_train.shape)   # 80% train set\n",
    "print(zacseh_test.shape)    #20% test set"
   ]
  },
  {
   "cell_type": "code",
   "execution_count": 35,
   "metadata": {},
   "outputs": [],
   "source": [
    "# X and Y of train and test datasets\n",
    "zacsehX_train = zacseh_train.drop([\"RegionName\", \"ZORI\"], axis =1)\n",
    "zacsehy_train = zacseh_train['ZORI']\n",
    "zacsehX_test = zacseh_test.drop([\"RegionName\", \"ZORI\"], axis =1)\n",
    "zacsehy_test = zacseh_test['ZORI']"
   ]
  },
  {
   "cell_type": "code",
   "execution_count": 40,
   "metadata": {},
   "outputs": [
    {
     "data": {
      "text/plain": [
       "RandomForestRegressor(random_state=2)"
      ]
     },
     "execution_count": 40,
     "metadata": {},
     "output_type": "execute_result"
    }
   ],
   "source": [
    "# Random Forest fit with default parameters\n",
    "zacseh_randomForest = RandomForestRegressor()\n",
    "zacseh_randomForest.set_params(random_state =2)\n",
    "zacseh_randomForest.fit(zacsehX_train, zacsehy_train) "
   ]
  },
  {
   "cell_type": "code",
   "execution_count": 41,
   "metadata": {},
   "outputs": [
    {
     "name": "stdout",
     "output_type": "stream",
     "text": [
      "The training R2 is: 0.99998\n",
      "------------------------------\n",
      "The test R2 is: 0.95774\n"
     ]
    }
   ],
   "source": [
    "#Scores for train and test sets\n",
    "print(\"The training R2 is: %.5f\" % (zacseh_randomForest.score(zacsehX_train, zacsehy_train)))\n",
    "print(\"-\" * 30)\n",
    "print(\"The test R2 is: %.5f\" % (zacseh_randomForest.score(zacsehX_test, zacsehy_test)))"
   ]
  },
  {
   "cell_type": "code",
   "execution_count": 42,
   "metadata": {},
   "outputs": [],
   "source": [
    "# Grid Search for dataset with additional features from EDu and HPI(ZORI + ACS+ Edu+ HPI)\n",
    "zacseh_randomForest = RandomForestRegressor()\n",
    "zacseh_randomForest.set_params(random_state =2)\n",
    "grid_para_zacseh = {\n",
    "    'criterion': ['mse'],  \n",
    "    'n_estimators': list(range(100, 500, 100)),\n",
    "    'max_depth': list(range(2, 17, 3)),\n",
    "    'bootstrap':[True]\n",
    "}"
   ]
  },
  {
   "cell_type": "code",
   "execution_count": 43,
   "metadata": {},
   "outputs": [
    {
     "name": "stdout",
     "output_type": "stream",
     "text": [
      "CPU times: user 2min 55s, sys: 1.19 s, total: 2min 56s\n",
      "Wall time: 6h 12min 35s\n"
     ]
    },
    {
     "data": {
      "text/plain": [
       "GridSearchCV(cv=5, estimator=RandomForestRegressor(random_state=2), n_jobs=-1,\n",
       "             param_grid={'bootstrap': [True], 'criterion': ['mse'],\n",
       "                         'max_depth': [2, 5, 8, 11, 14],\n",
       "                         'n_estimators': [100, 200, 300, 400]},\n",
       "             return_train_score=True)"
      ]
     },
     "execution_count": 43,
     "metadata": {},
     "output_type": "execute_result"
    }
   ],
   "source": [
    "# Run RF regressor through the grid search\n",
    "grid_search_zacseh = GridSearchCV(zacseh_randomForest, grid_para_zacseh, cv=5, n_jobs=-1, return_train_score=True)\n",
    "%time grid_search_zacseh.fit(zacsehX_train, zacsehy_train)"
   ]
  },
  {
   "cell_type": "code",
   "execution_count": 46,
   "metadata": {},
   "outputs": [
    {
     "data": {
      "text/plain": [
       "{'bootstrap': True, 'criterion': 'mse', 'max_depth': 14, 'n_estimators': 100}"
      ]
     },
     "execution_count": 46,
     "metadata": {},
     "output_type": "execute_result"
    }
   ],
   "source": [
    "# get the best parameters\n",
    "grid_search_zacseh.best_params_"
   ]
  },
  {
   "cell_type": "code",
   "execution_count": 47,
   "metadata": {},
   "outputs": [
    {
     "data": {
      "text/plain": [
       "0.6707832146076658"
      ]
     },
     "execution_count": 47,
     "metadata": {},
     "output_type": "execute_result"
    }
   ],
   "source": [
    "# get the best score\n",
    "grid_search_zacseh.best_score_"
   ]
  },
  {
   "cell_type": "code",
   "execution_count": 48,
   "metadata": {},
   "outputs": [
    {
     "name": "stdout",
     "output_type": "stream",
     "text": [
      "The R2 training is: 0.99695\n",
      "The R2 test     is: 0.95536\n"
     ]
    }
   ],
   "source": [
    "# get the training/test scores\n",
    "print(\"The R2 training is: %.5f\" % (grid_search_zacseh.best_estimator_.score(zacsehX_train, zacsehy_train))) \n",
    "print(\"The R2 test     is: %.5f\" % (grid_search_zacseh.best_estimator_.score(zacsehX_test, zacsehy_test)))"
   ]
  },
  {
   "cell_type": "code",
   "execution_count": 49,
   "metadata": {
    "scrolled": true
   },
   "outputs": [
    {
     "data": {
      "text/plain": [
       "[('owner_occupied_housing_units_median_value', 0.37509136888880656),\n",
       " ('bachelors_degree_or_higher_25_64', 0.22404070625043582),\n",
       " ('management_business_sci_arts_employed', 0.21644901946177178),\n",
       " ('renter_occupied_housing_units_paying_cash_median_gross_rent',\n",
       "  0.0836737317237678),\n",
       " ('median_age', 0.015763506968555926),\n",
       " ('RegionID', 0.010789867431525024),\n",
       " ('hispanic_pop', 0.00604024022440181),\n",
       " ('median_income', 0.004331896544735165),\n",
       " ('HPI', 0.0036927125585566735),\n",
       " ('white_pop', 0.0035391400415276174),\n",
       " ('dwellings_50_or_more_units', 0.003318839812460847),\n",
       " ('dwellings_1_units_detached', 0.003208483220167159),\n",
       " ('walked_to_work', 0.003196854853989872),\n",
       " ('dwellings_1_units_attached', 0.003002287647392017),\n",
       " ('gini_index', 0.0029915766302773057),\n",
       " ('commuters_by_public_transportation', 0.002960808516313796),\n",
       " ('commute_10_14_mins', 0.0028932168170290157),\n",
       " ('occupation_natural_resources_construction_maintenance',\n",
       "  0.0026698600964741998),\n",
       " ('black_pop', 0.0025115001673997922),\n",
       " ('vacant_housing_units_for_rent', 0.0025084246752911194),\n",
       " ('employed_information', 0.0024445288720726533),\n",
       " ('income_0_29999', 0.002297952542795143),\n",
       " ('income_200000_or_more', 0.002294352531090353),\n",
       " ('married_households', 0.0022817133361002877),\n",
       " ('dwellings_20_to_49_units', 0.0022063951847519224),\n",
       " ('nonfamily_households', 0.002006963123287755),\n",
       " ('total_pop', 0.0019429296208731334),\n",
       " ('graduate_professional_degree', 0.0016581631389486259),\n",
       " ('income_100000_199999', 0.0015873306153077434),\n",
       " ('housing_units_renter_occupied', 0.0015823161838949646),\n",
       " ('Year', 0.0015309213947134774),\n",
       " ('income_75000_99999', 0.001521192653902324),\n",
       " ('million_dollar_housing_units', 0.0013472894405297995),\n",
       " ('Annual Change (%)', 0.0012973120874100583),\n",
       " ('Month', 0.0010797387322319088),\n",
       " ('ALL_RATE', 0.00024685801121045794)]"
      ]
     },
     "execution_count": 49,
     "metadata": {},
     "output_type": "execute_result"
    }
   ],
   "source": [
    "# Feature Importance\n",
    "tree_final = grid_search_zacseh.best_estimator_\n",
    "feature_importance = list(zip(zacsehX_train.columns, tree_final.feature_importances_))\n",
    "sorted(feature_importance, key=lambda imp: imp[1], reverse=True)"
   ]
  },
  {
   "cell_type": "code",
   "execution_count": 50,
   "metadata": {
    "scrolled": true
   },
   "outputs": [
    {
     "data": {
      "text/plain": [
       "<BarContainer object of 36 artists>"
      ]
     },
     "execution_count": 50,
     "metadata": {},
     "output_type": "execute_result"
    },
    {
     "data": {
      "image/png": "[encoded data removed]",
      "text/plain": [
       "<Figure size 1080x864 with 1 Axes>"
      ]
     },
     "metadata": {
      "needs_background": "light"
     },
     "output_type": "display_data"
    }
   ],
   "source": [
    "#Feature Importance Bar plot\n",
    "features, importance = zip(*sorted(feature_importance, key=lambda imp: imp[1], reverse=True))\n",
    "plt.figure(figsize=(15,12))\n",
    "plt.barh(features, importance)"
   ]
  },
  {
   "cell_type": "code",
   "execution_count": 53,
   "metadata": {},
   "outputs": [],
   "source": [
    "# Needed to remove\"RegionID\" also from the feature space, which I forgot to do in the last run\n",
    "# X and Y of train and test datasets\n",
    "zacsehX_train = zacseh_train.drop([\"RegionName\", \"RegionID\", \"ZORI\"], axis =1)\n",
    "zacsehy_train = zacseh_train['ZORI']\n",
    "zacsehX_test = zacseh_test.drop([\"RegionName\", \"RegionID\", \"ZORI\"], axis =1)\n",
    "zacsehy_test = zacseh_test['ZORI']"
   ]
  },
  {
   "cell_type": "code",
   "execution_count": 54,
   "metadata": {},
   "outputs": [],
   "source": [
    "# 2nd GridSearch \n",
    "# set the parameter grid\n",
    "grid_para_zacseh = {\n",
    "    'criterion': ['mse'], \n",
    "    'min_samples_split': [2, 12, 25, 37 ,50], #use min_samples_split instead of setting value to max_depth \n",
    "    'n_estimators': [100], # 1st GridSearch best_param gave 'n_estimators': 100 so we leave it as is.  \n",
    "    'bootstrap':[True],\n",
    "    'max_features': [2,6,15,30]   #changed from default of 40 in 1st GridSearch to this. \n",
    "}\n"
   ]
  },
  {
   "cell_type": "code",
   "execution_count": 55,
   "metadata": {
    "scrolled": true
   },
   "outputs": [
    {
     "name": "stdout",
     "output_type": "stream",
     "text": [
      "CPU times: user 52.8 s, sys: 656 ms, total: 53.4 s\n",
      "Wall time: 1h 6min 10s\n"
     ]
    },
    {
     "data": {
      "text/plain": [
       "GridSearchCV(cv=5, estimator=RandomForestRegressor(random_state=2), n_jobs=-1,\n",
       "             param_grid={'bootstrap': [True], 'criterion': ['mse'],\n",
       "                         'max_features': [2, 6, 15, 30],\n",
       "                         'min_samples_split': [2, 12, 25, 37, 50],\n",
       "                         'n_estimators': [100]},\n",
       "             return_train_score=True)"
      ]
     },
     "execution_count": 55,
     "metadata": {},
     "output_type": "execute_result"
    }
   ],
   "source": [
    "# run the RF regressor through the grid search \n",
    "grid_search_zacseh = GridSearchCV(\n",
    "    zacseh_randomForest, grid_para_zacseh, cv=5, n_jobs=-1, return_train_score=True)\n",
    "%time grid_search_zacseh.fit(zacsehX_train, zacsehy_train)  "
   ]
  },
  {
   "cell_type": "code",
   "execution_count": 56,
   "metadata": {
    "scrolled": true
   },
   "outputs": [
    {
     "data": {
      "text/plain": [
       "{'bootstrap': True,\n",
       " 'criterion': 'mse',\n",
       " 'max_features': 15,\n",
       " 'min_samples_split': 2,\n",
       " 'n_estimators': 100}"
      ]
     },
     "execution_count": 56,
     "metadata": {},
     "output_type": "execute_result"
    }
   ],
   "source": [
    "# get the best parameters\n",
    "grid_search_zacseh.best_params_"
   ]
  },
  {
   "cell_type": "code",
   "execution_count": 57,
   "metadata": {},
   "outputs": [
    {
     "name": "stdout",
     "output_type": "stream",
     "text": [
      "The R2 training is: 0.99996\n",
      "The R2 test     is: 0.93517\n"
     ]
    }
   ],
   "source": [
    "# get the training/test scores\n",
    "print(\"The R2 training is: %.5f\" % (grid_search_zacseh.best_estimator_.score(zacsehX_train, zacsehy_train))) \n",
    "print(\"The R2 test     is: %.5f\" % (grid_search_zacseh.best_estimator_.score(zacsehX_test, zacsehy_test)))"
   ]
  },
  {
   "cell_type": "code",
   "execution_count": 58,
   "metadata": {},
   "outputs": [
    {
     "data": {
      "text/plain": [
       "0.7041283583761474"
      ]
     },
     "execution_count": 58,
     "metadata": {},
     "output_type": "execute_result"
    }
   ],
   "source": [
    "# get the best score\n",
    "grid_search_zacseh.best_score_"
   ]
  },
  {
   "cell_type": "code",
   "execution_count": 59,
   "metadata": {
    "scrolled": true
   },
   "outputs": [
    {
     "data": {
      "text/plain": [
       "[('owner_occupied_housing_units_median_value', 0.2348711948722335),\n",
       " ('management_business_sci_arts_employed', 0.17424803694302568),\n",
       " ('renter_occupied_housing_units_paying_cash_median_gross_rent',\n",
       "  0.1283072746805435),\n",
       " ('bachelors_degree_or_higher_25_64', 0.052599880093551626),\n",
       " ('million_dollar_housing_units', 0.049749716425997875),\n",
       " ('median_income', 0.03661611656115907),\n",
       " ('occupation_natural_resources_construction_maintenance', 0.0328631222765865),\n",
       " ('median_age', 0.030354344451536164),\n",
       " ('married_households', 0.02153491014546918),\n",
       " ('total_pop', 0.01734654286963179),\n",
       " ('graduate_professional_degree', 0.017035721573946),\n",
       " ('dwellings_20_to_49_units', 0.01665881123271914),\n",
       " ('dwellings_1_units_attached', 0.01663120744557263),\n",
       " ('HPI', 0.015718777127683593),\n",
       " ('income_200000_or_more', 0.014629409236477552),\n",
       " ('nonfamily_households', 0.013957733686758223),\n",
       " ('commuters_by_public_transportation', 0.013315475629443128),\n",
       " ('commute_10_14_mins', 0.011386158297305072),\n",
       " ('dwellings_1_units_detached', 0.011335369773160409),\n",
       " ('white_pop', 0.010590522935380771),\n",
       " ('gini_index', 0.010300918810514448),\n",
       " ('employed_information', 0.010074066863906892),\n",
       " ('dwellings_50_or_more_units', 0.009475952009917306),\n",
       " ('vacant_housing_units_for_rent', 0.008577968912197278),\n",
       " ('income_0_29999', 0.005839427729061083),\n",
       " ('hispanic_pop', 0.00517196777249018),\n",
       " ('income_100000_199999', 0.0046549517826353646),\n",
       " ('walked_to_work', 0.0045810985030327305),\n",
       " ('black_pop', 0.00440380564050518),\n",
       " ('ALL_RATE', 0.004146979040817942),\n",
       " ('housing_units_renter_occupied', 0.0033110332426413793),\n",
       " ('Annual Change (%)', 0.002778702109140643),\n",
       " ('income_75000_99999', 0.002678561781263037),\n",
       " ('Year', 0.0023729588586056767),\n",
       " ('Month', 0.0018812806850893873)]"
      ]
     },
     "execution_count": 59,
     "metadata": {},
     "output_type": "execute_result"
    }
   ],
   "source": [
    "# Feature Importance\n",
    "tree_final = grid_search_zacseh.best_estimator_\n",
    "feature_importance = list(zip(zacsehX_train.columns, tree_final.feature_importances_))\n",
    "sorted(feature_importance, key=lambda imp: imp[1], reverse=True)"
   ]
  },
  {
   "cell_type": "code",
   "execution_count": 60,
   "metadata": {
    "scrolled": false
   },
   "outputs": [
    {
     "data": {
      "text/plain": [
       "<BarContainer object of 35 artists>"
      ]
     },
     "execution_count": 60,
     "metadata": {},
     "output_type": "execute_result"
    },
    {
     "data": {
      "image/png": "[encoded data removed]",
      "text/plain": [
       "<Figure size 1080x864 with 1 Axes>"
      ]
     },
     "metadata": {
      "needs_background": "light"
     },
     "output_type": "display_data"
    }
   ],
   "source": [
    "#Feature Importance Bar plot\n",
    "features, importance = zip(*sorted(feature_importance, key=lambda imp: imp[1], reverse=True))\n",
    "plt.figure(figsize=(15,12))\n",
    "plt.barh(features, importance)"
   ]
  },
  {
   "cell_type": "code",
   "execution_count": 62,
   "metadata": {},
   "outputs": [
    {
     "data": {
      "text/plain": [
       "209.0"
      ]
     },
     "execution_count": 62,
     "metadata": {},
     "output_type": "execute_result"
    }
   ],
   "source": [
    "# RMSE for model with features from all 4 datasets\n",
    "np.around(mean_squared_error(zacsehy_test,grid_search_zacseh.predict(zacsehX_test), squared = False))"
   ]
  },
  {
   "cell_type": "code",
   "execution_count": 66,
   "metadata": {},
   "outputs": [],
   "source": [
    "#Predicted Price from test dataset w.r.t Created a CSV file with actual and predicted values of Model RF\n",
    "modelzacsehRF_pred = zacseh_test.copy()\n",
    "modelzacsehRF_pred['Predicted'] =  np.around(grid_search_zacseh.predict(zacsehX_test))\n",
    "modelzacsehRF_pred= modelzacsehRF_pred[['RegionName','Year', 'ZORI', 'Predicted']]\n",
    "modelzacsehRF_pred.to_csv(\"modelzacsehRF_pred.csv\")"
   ]
  },
  {
   "cell_type": "markdown",
   "metadata": {},
   "source": [
    "### Dropping high-priced rentals and re-running this"
   ]
  },
  {
   "cell_type": "code",
   "execution_count": 73,
   "metadata": {},
   "outputs": [],
   "source": [
    "# Taken ZORI values<6000\n",
    "zacseh_no_outliers = zacseh[zacseh['ZORI']<6000]"
   ]
  },
  {
   "cell_type": "code",
   "execution_count": 74,
   "metadata": {
    "scrolled": true
   },
   "outputs": [
    {
     "name": "stdout",
     "output_type": "stream",
     "text": [
      "(171558, 38)\n",
      "(171445, 38)\n"
     ]
    }
   ],
   "source": [
    "print(zacseh.shape)\n",
    "print(zacseh_no_outliers.shape)"
   ]
  },
  {
   "cell_type": "code",
   "execution_count": 75,
   "metadata": {},
   "outputs": [],
   "source": [
    "# Splitting training and testing data\n",
    "zacseh_no_outliers_train = zacseh_no_outliers[zacseh_no_outliers['Year'] <2018]\n",
    "zacseh_no_outliers_test = zacseh_no_outliers[zacseh_no_outliers['Year'] == 2018]"
   ]
  },
  {
   "cell_type": "code",
   "execution_count": 77,
   "metadata": {
    "scrolled": true
   },
   "outputs": [
    {
     "name": "stdout",
     "output_type": "stream",
     "text": [
      "(143945, 38)\n",
      "(27500, 38)\n"
     ]
    }
   ],
   "source": [
    "print(zacseh_no_outliers_train.shape)   # 80% train set\n",
    "print(zacseh_no_outliers_test.shape)    #20% test set"
   ]
  },
  {
   "cell_type": "code",
   "execution_count": 78,
   "metadata": {},
   "outputs": [],
   "source": [
    "# X and Y of train and test datasets\n",
    "zacseh_no_outliersX_train = zacseh_no_outliers_train.drop([\"RegionName\", \"RegionID\", \"ZORI\"], axis =1)\n",
    "zacseh_no_outliersy_train = zacseh_no_outliers_train['ZORI']\n",
    "zacseh_no_outliersX_test = zacseh_no_outliers_test.drop([\"RegionName\", \"RegionID\", \"ZORI\"], axis =1)\n",
    "zacseh_no_outliersy_test= zacseh_no_outliers_test['ZORI']"
   ]
  },
  {
   "cell_type": "code",
   "execution_count": 80,
   "metadata": {},
   "outputs": [
    {
     "data": {
      "text/plain": [
       "RandomForestRegressor(random_state=2)"
      ]
     },
     "execution_count": 80,
     "metadata": {},
     "output_type": "execute_result"
    }
   ],
   "source": [
    "zacsehNO_randomForest = RandomForestRegressor()\n",
    "zacsehNO_randomForest.set_params(random_state =2)"
   ]
  },
  {
   "cell_type": "code",
   "execution_count": 79,
   "metadata": {},
   "outputs": [],
   "source": [
    "# GridSearch for dataset with removed outliers\n",
    "# set the parameter grid\n",
    "grid_para_zacsehNO = {\n",
    "    'criterion': ['mse'], \n",
    "    'min_samples_split': [2, 12, 25, 37 ,50], #use min_samples_split instead of setting value to max_depth \n",
    "    'n_estimators': [100], # 1st GridSearch best_param gave 'n_estimators': 100 so we leave it as is.  \n",
    "    'bootstrap':[True],\n",
    "    'max_features': [2,6,15,30]   #changed from default of 40 in 1st GridSearch to this. \n",
    "}"
   ]
  },
  {
   "cell_type": "code",
   "execution_count": 82,
   "metadata": {},
   "outputs": [
    {
     "name": "stdout",
     "output_type": "stream",
     "text": [
      "CPU times: user 59 s, sys: 1.03 s, total: 1min\n",
      "Wall time: 1h 47min 5s\n"
     ]
    },
    {
     "data": {
      "text/plain": [
       "GridSearchCV(cv=5, estimator=RandomForestRegressor(random_state=2), n_jobs=-1,\n",
       "             param_grid={'bootstrap': [True], 'criterion': ['mse'],\n",
       "                         'max_features': [2, 6, 15, 30],\n",
       "                         'min_samples_split': [2, 12, 25, 37, 50],\n",
       "                         'n_estimators': [100]},\n",
       "             return_train_score=True)"
      ]
     },
     "execution_count": 82,
     "metadata": {},
     "output_type": "execute_result"
    }
   ],
   "source": [
    "# run the RF regressor through the grid search \n",
    "grid_search_zacsehNO = GridSearchCV(\n",
    "    zacsehNO_randomForest, grid_para_zacsehNO, cv=5, n_jobs=-1, return_train_score=True)\n",
    "%time grid_search_zacsehNO.fit(zacseh_no_outliersX_train, zacseh_no_outliersy_train) "
   ]
  },
  {
   "cell_type": "code",
   "execution_count": 85,
   "metadata": {},
   "outputs": [
    {
     "data": {
      "text/plain": [
       "{'bootstrap': True,\n",
       " 'criterion': 'mse',\n",
       " 'max_features': 15,\n",
       " 'min_samples_split': 2,\n",
       " 'n_estimators': 100}"
      ]
     },
     "execution_count": 85,
     "metadata": {},
     "output_type": "execute_result"
    }
   ],
   "source": [
    "# get the best parameters\n",
    "grid_search_zacsehNO.best_params_"
   ]
  },
  {
   "cell_type": "code",
   "execution_count": 86,
   "metadata": {},
   "outputs": [
    {
     "name": "stdout",
     "output_type": "stream",
     "text": [
      "The R2 training is: 0.99997\n",
      "The R2 test     is: 0.93734\n"
     ]
    }
   ],
   "source": [
    "# get the training/test scores\n",
    "print(\"The R2 training is: %.5f\" % (grid_search_zacsehNO.best_estimator_.score(zacseh_no_outliersX_train, zacseh_no_outliersy_train))) \n",
    "print(\"The R2 test     is: %.5f\" % (grid_search_zacsehNO.best_estimator_.score(zacseh_no_outliersX_test, zacseh_no_outliersy_test)))"
   ]
  },
  {
   "cell_type": "code",
   "execution_count": 88,
   "metadata": {},
   "outputs": [
    {
     "data": {
      "text/plain": [
       "0.8244085513515212"
      ]
     },
     "execution_count": 88,
     "metadata": {},
     "output_type": "execute_result"
    }
   ],
   "source": [
    "# get the best score\n",
    "grid_search_zacsehNO.best_score_"
   ]
  },
  {
   "cell_type": "code",
   "execution_count": 89,
   "metadata": {
    "scrolled": true
   },
   "outputs": [
    {
     "data": {
      "text/plain": [
       "[('owner_occupied_housing_units_median_value', 0.4052008396668797),\n",
       " ('renter_occupied_housing_units_paying_cash_median_gross_rent',\n",
       "  0.24056968201204332),\n",
       " ('million_dollar_housing_units', 0.06580843524468358),\n",
       " ('HPI', 0.049190447382062644),\n",
       " ('median_income', 0.035518796612995736),\n",
       " ('income_200000_or_more', 0.02663849338373217),\n",
       " ('commuters_by_public_transportation', 0.013564222176537834),\n",
       " ('hispanic_pop', 0.009995330729844636),\n",
       " ('dwellings_1_units_detached', 0.009860165018954585),\n",
       " ('dwellings_50_or_more_units', 0.00871826945057826),\n",
       " ('gini_index', 0.007933620437653397),\n",
       " ('white_pop', 0.007708975168555241),\n",
       " ('black_pop', 0.007530223349724782),\n",
       " ('walked_to_work', 0.007307454289040508),\n",
       " ('median_age', 0.0069753165088259576),\n",
       " ('income_100000_199999', 0.006655404084749264),\n",
       " ('dwellings_1_units_attached', 0.006442477177632431),\n",
       " ('vacant_housing_units_for_rent', 0.00643429035276978),\n",
       " ('occupation_natural_resources_construction_maintenance',\n",
       "  0.006412722369591194),\n",
       " ('married_households', 0.0061197618533002365),\n",
       " ('dwellings_20_to_49_units', 0.005953823964654093),\n",
       " ('total_pop', 0.005850989778512645),\n",
       " ('nonfamily_households', 0.005619726541203082),\n",
       " ('employed_information', 0.005449166089309707),\n",
       " ('income_0_29999', 0.005329884484116057),\n",
       " ('housing_units_renter_occupied', 0.005143692060909378),\n",
       " ('graduate_professional_degree', 0.004973208476355752),\n",
       " ('commute_10_14_mins', 0.004936247182022613),\n",
       " ('bachelors_degree_or_higher_25_64', 0.004498492486197223),\n",
       " ('income_75000_99999', 0.004280745017540248),\n",
       " ('Year', 0.003266940494989235),\n",
       " ('Annual Change (%)', 0.003247442837424423),\n",
       " ('management_business_sci_arts_employed', 0.0032227904898519417),\n",
       " ('Month', 0.00276327934209339),\n",
       " ('ALL_RATE', 0.0008786434846650133)]"
      ]
     },
     "execution_count": 89,
     "metadata": {},
     "output_type": "execute_result"
    }
   ],
   "source": [
    "# Feature Importance\n",
    "tree_final = grid_search_zacsehNO.best_estimator_\n",
    "feature_importance = list(zip(zacseh_no_outliersX_train.columns, tree_final.feature_importances_))\n",
    "sorted(feature_importance, key=lambda imp: imp[1], reverse=True)"
   ]
  },
  {
   "cell_type": "code",
   "execution_count": 90,
   "metadata": {},
   "outputs": [
    {
     "data": {
      "text/plain": [
       "<BarContainer object of 35 artists>"
      ]
     },
     "execution_count": 90,
     "metadata": {},
     "output_type": "execute_result"
    },
    {
     "data": {
      "image/png": "[encoded data removed]",
      "text/plain": [
       "<Figure size 1080x864 with 1 Axes>"
      ]
     },
     "metadata": {
      "needs_background": "light"
     },
     "output_type": "display_data"
    }
   ],
   "source": [
    "#Feature Importance Bar plot\n",
    "features, importance = zip(*sorted(feature_importance, key=lambda imp: imp[1], reverse=True))\n",
    "plt.figure(figsize=(15,12))\n",
    "plt.barh(features, importance)"
   ]
  },
  {
   "cell_type": "code",
   "execution_count": 91,
   "metadata": {
    "scrolled": true
   },
   "outputs": [
    {
     "data": {
      "text/plain": [
       "137.0"
      ]
     },
     "execution_count": 91,
     "metadata": {},
     "output_type": "execute_result"
    }
   ],
   "source": [
    "# RMSE for model with features from all 4 datasets\n",
    "np.around(mean_squared_error(zacseh_no_outliersy_test,grid_search_zacsehNO.predict(zacseh_no_outliersX_test), squared = False))"
   ]
  },
  {
   "cell_type": "code",
   "execution_count": 92,
   "metadata": {},
   "outputs": [],
   "source": [
    "#Predicted Price from test dataset w.r.t Created a CSV file with actual and predicted values of Model RF\n",
    "modelzacseh_no_outliers_pred = zacseh_no_outliers_test.copy()\n",
    "modelzacseh_no_outliers_pred['Predicted'] =  np.around(grid_search_zacsehNO.predict(zacseh_no_outliersX_test))\n",
    "modelzacseh_no_outliers_pred= modelzacseh_no_outliers_pred[['RegionName','Year', 'ZORI', 'Predicted']]\n",
    "modelzacseh_no_outliers_pred.to_csv(\"modelzacsehRF_pred.csv\")"
   ]
  }
 ],
 "metadata": {
  "kernelspec": {
   "display_name": "Python 3",
   "language": "python",
   "name": "python3"
  },
  "language_info": {
   "codemirror_mode": {
    "name": "ipython",
    "version": 3
   },
   "file_extension": ".py",
   "mimetype": "text/x-python",
   "name": "python",
   "nbconvert_exporter": "python",
   "pygments_lexer": "ipython3",
   "version": "3.8.5"
  }
 },
 "nbformat": 4,
 "nbformat_minor": 4
}
